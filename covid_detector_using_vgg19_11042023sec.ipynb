{
  "cells": [
    {
      "cell_type": "markdown",
      "metadata": {
        "id": "KND82lc8EZmE"
      },
      "source": [
        "## Importing Required Libraries"
      ]
    },
    {
      "cell_type": "code",
      "execution_count": 3,
      "metadata": {
        "id": "v2_np4HDEZmE"
      },
      "outputs": [],
      "source": [
        "import numpy as np\n",
        "import pandas as pd\n",
        "\n",
        "import matplotlib.pyplot as plt\n",
        "import seaborn as sns\n",
        "sns.set_style('darkgrid')\n",
        "\n",
        "import os\n",
        "import random\n",
        "import keras\n",
        "\n",
        "import warnings\n",
        "warnings.filterwarnings('ignore')\n",
        "\n",
        "from sklearn.model_selection import train_test_split\n",
        "\n",
        "import tensorflow as tf\n",
        "from tensorflow.keras.preprocessing.image import load_img\n",
        "from tensorflow.keras.preprocessing.image import img_to_array\n",
        "from tensorflow.keras.preprocessing.image import ImageDataGenerator\n",
        "\n",
        "from keras.layers import Dense, Flatten, AveragePooling2D, Dropout\n",
        "from tensorflow.keras.optimizers import Adam\n",
        "from keras.applications.vgg19 import VGG19\n",
        "from keras.models import Model"
      ]
    },
    {
      "cell_type": "markdown",
      "metadata": {
        "id": "WuaxutPCEZmF"
      },
      "source": [
        "## Extracting Files"
      ]
    },
    {
      "cell_type": "code",
      "execution_count": 2,
      "metadata": {
        "colab": {
          "base_uri": "https://localhost:8080/"
        },
        "id": "ZhWYvT__EkKC",
        "outputId": "6def64ab-ab83-41c9-904d-addda2c2248a"
      },
      "outputs": [
        {
          "output_type": "stream",
          "name": "stdout",
          "text": [
            "Drive already mounted at /content/gdrive; to attempt to forcibly remount, call drive.mount(\"/content/gdrive\", force_remount=True).\n"
          ]
        }
      ],
      "source": [
        "from google.colab import drive\n",
        "drive.mount('/content/gdrive')"
      ]
    },
    {
      "cell_type": "code",
      "execution_count": null,
      "metadata": {
        "id": "KazjUTYzEkTr"
      },
      "outputs": [],
      "source": [
        "!unzip -u \"/content/gdrive/MyDrive/archive.zip\" -d \"/content\""
      ]
    },
    {
      "cell_type": "code",
      "execution_count": 5,
      "metadata": {
        "id": "5xiEmCJbEZmG"
      },
      "outputs": [],
      "source": [
        "c = '/content/COVID-19_Radiography_Dataset/COVID/images'\n",
        "n = '/content/COVID-19_Radiography_Dataset/Normal/images'\n",
        "#c = '/Users/xiaolai/Desktop/MScProject/COVID19_Radiography_Dataset/data/COVID/images'\n",
        "#n = '/Users/xiaolai/Desktop/MScProject/COVID19_Radiography_Dataset/data/Normal/images'"
      ]
    },
    {
      "cell_type": "code",
      "execution_count": 6,
      "metadata": {
        "id": "VVPP03svEZmG"
      },
      "outputs": [],
      "source": [
        "random.seed(42)\n",
        "filenames = os.listdir(c) + random.sample(os.listdir(n), 4000) # random select 4000 images for Normal"
      ]
    },
    {
      "cell_type": "code",
      "execution_count": null,
      "metadata": {
        "id": "89EaNd_VrkW7"
      },
      "outputs": [],
      "source": []
    },
    {
      "cell_type": "markdown",
      "metadata": {
        "id": "pO9u6YZXEZmH"
      },
      "source": [
        "### Classes\n",
        "* 0 -> Normal\n",
        "\n",
        "* 1 -> COVID"
      ]
    },
    {
      "cell_type": "code",
      "execution_count": 7,
      "metadata": {
        "id": "HpV5uc2fEZmH"
      },
      "outputs": [],
      "source": [
        "categories = []\n",
        "for filename in filenames:\n",
        "    category = filename.split('-')[0]\n",
        "    if category == 'COVID':\n",
        "        categories.append(str(1))\n",
        "    else:\n",
        "        categories.append(str(0))"
      ]
    },
    {
      "cell_type": "markdown",
      "metadata": {
        "id": "7z_73ZnSEZmI"
      },
      "source": [
        "## Converting to Dataframe"
      ]
    },
    {
      "cell_type": "code",
      "execution_count": 8,
      "metadata": {
        "id": "OCtOOt5VEZmI"
      },
      "outputs": [],
      "source": [
        "for i in range(len(filenames)):\n",
        "    if 'COVID' in filenames[i]:\n",
        "        filenames[i] = os.path.join(c, filenames[i])\n",
        "    else:\n",
        "        filenames[i] = os.path.join(n, filenames[i])\n",
        "    \n",
        "    \n",
        "df = pd.DataFrame({\n",
        "    'filename': filenames,\n",
        "    'category': categories\n",
        "})"
      ]
    },
    {
      "cell_type": "code",
      "execution_count": 9,
      "metadata": {
        "colab": {
          "base_uri": "https://localhost:8080/",
          "height": 206
        },
        "id": "VQYlkExAEZmJ",
        "outputId": "059eee56-6717-4cba-dfcb-8ff91c674ba8"
      },
      "outputs": [
        {
          "output_type": "execute_result",
          "data": {
            "text/plain": [
              "                                            filename category\n",
              "0  /content/COVID-19_Radiography_Dataset/COVID/im...        1\n",
              "1  /content/COVID-19_Radiography_Dataset/COVID/im...        1\n",
              "2  /content/COVID-19_Radiography_Dataset/COVID/im...        1\n",
              "3  /content/COVID-19_Radiography_Dataset/COVID/im...        1\n",
              "4  /content/COVID-19_Radiography_Dataset/COVID/im...        1"
            ],
            "text/html": [
              "\n",
              "  <div id=\"df-3f8a6636-2826-41cd-8460-1323ca6a8a85\">\n",
              "    <div class=\"colab-df-container\">\n",
              "      <div>\n",
              "<style scoped>\n",
              "    .dataframe tbody tr th:only-of-type {\n",
              "        vertical-align: middle;\n",
              "    }\n",
              "\n",
              "    .dataframe tbody tr th {\n",
              "        vertical-align: top;\n",
              "    }\n",
              "\n",
              "    .dataframe thead th {\n",
              "        text-align: right;\n",
              "    }\n",
              "</style>\n",
              "<table border=\"1\" class=\"dataframe\">\n",
              "  <thead>\n",
              "    <tr style=\"text-align: right;\">\n",
              "      <th></th>\n",
              "      <th>filename</th>\n",
              "      <th>category</th>\n",
              "    </tr>\n",
              "  </thead>\n",
              "  <tbody>\n",
              "    <tr>\n",
              "      <th>0</th>\n",
              "      <td>/content/COVID-19_Radiography_Dataset/COVID/im...</td>\n",
              "      <td>1</td>\n",
              "    </tr>\n",
              "    <tr>\n",
              "      <th>1</th>\n",
              "      <td>/content/COVID-19_Radiography_Dataset/COVID/im...</td>\n",
              "      <td>1</td>\n",
              "    </tr>\n",
              "    <tr>\n",
              "      <th>2</th>\n",
              "      <td>/content/COVID-19_Radiography_Dataset/COVID/im...</td>\n",
              "      <td>1</td>\n",
              "    </tr>\n",
              "    <tr>\n",
              "      <th>3</th>\n",
              "      <td>/content/COVID-19_Radiography_Dataset/COVID/im...</td>\n",
              "      <td>1</td>\n",
              "    </tr>\n",
              "    <tr>\n",
              "      <th>4</th>\n",
              "      <td>/content/COVID-19_Radiography_Dataset/COVID/im...</td>\n",
              "      <td>1</td>\n",
              "    </tr>\n",
              "  </tbody>\n",
              "</table>\n",
              "</div>\n",
              "      <button class=\"colab-df-convert\" onclick=\"convertToInteractive('df-3f8a6636-2826-41cd-8460-1323ca6a8a85')\"\n",
              "              title=\"Convert this dataframe to an interactive table.\"\n",
              "              style=\"display:none;\">\n",
              "        \n",
              "  <svg xmlns=\"http://www.w3.org/2000/svg\" height=\"24px\"viewBox=\"0 0 24 24\"\n",
              "       width=\"24px\">\n",
              "    <path d=\"M0 0h24v24H0V0z\" fill=\"none\"/>\n",
              "    <path d=\"M18.56 5.44l.94 2.06.94-2.06 2.06-.94-2.06-.94-.94-2.06-.94 2.06-2.06.94zm-11 1L8.5 8.5l.94-2.06 2.06-.94-2.06-.94L8.5 2.5l-.94 2.06-2.06.94zm10 10l.94 2.06.94-2.06 2.06-.94-2.06-.94-.94-2.06-.94 2.06-2.06.94z\"/><path d=\"M17.41 7.96l-1.37-1.37c-.4-.4-.92-.59-1.43-.59-.52 0-1.04.2-1.43.59L10.3 9.45l-7.72 7.72c-.78.78-.78 2.05 0 2.83L4 21.41c.39.39.9.59 1.41.59.51 0 1.02-.2 1.41-.59l7.78-7.78 2.81-2.81c.8-.78.8-2.07 0-2.86zM5.41 20L4 18.59l7.72-7.72 1.47 1.35L5.41 20z\"/>\n",
              "  </svg>\n",
              "      </button>\n",
              "      \n",
              "  <style>\n",
              "    .colab-df-container {\n",
              "      display:flex;\n",
              "      flex-wrap:wrap;\n",
              "      gap: 12px;\n",
              "    }\n",
              "\n",
              "    .colab-df-convert {\n",
              "      background-color: #E8F0FE;\n",
              "      border: none;\n",
              "      border-radius: 50%;\n",
              "      cursor: pointer;\n",
              "      display: none;\n",
              "      fill: #1967D2;\n",
              "      height: 32px;\n",
              "      padding: 0 0 0 0;\n",
              "      width: 32px;\n",
              "    }\n",
              "\n",
              "    .colab-df-convert:hover {\n",
              "      background-color: #E2EBFA;\n",
              "      box-shadow: 0px 1px 2px rgba(60, 64, 67, 0.3), 0px 1px 3px 1px rgba(60, 64, 67, 0.15);\n",
              "      fill: #174EA6;\n",
              "    }\n",
              "\n",
              "    [theme=dark] .colab-df-convert {\n",
              "      background-color: #3B4455;\n",
              "      fill: #D2E3FC;\n",
              "    }\n",
              "\n",
              "    [theme=dark] .colab-df-convert:hover {\n",
              "      background-color: #434B5C;\n",
              "      box-shadow: 0px 1px 3px 1px rgba(0, 0, 0, 0.15);\n",
              "      filter: drop-shadow(0px 1px 2px rgba(0, 0, 0, 0.3));\n",
              "      fill: #FFFFFF;\n",
              "    }\n",
              "  </style>\n",
              "\n",
              "      <script>\n",
              "        const buttonEl =\n",
              "          document.querySelector('#df-3f8a6636-2826-41cd-8460-1323ca6a8a85 button.colab-df-convert');\n",
              "        buttonEl.style.display =\n",
              "          google.colab.kernel.accessAllowed ? 'block' : 'none';\n",
              "\n",
              "        async function convertToInteractive(key) {\n",
              "          const element = document.querySelector('#df-3f8a6636-2826-41cd-8460-1323ca6a8a85');\n",
              "          const dataTable =\n",
              "            await google.colab.kernel.invokeFunction('convertToInteractive',\n",
              "                                                     [key], {});\n",
              "          if (!dataTable) return;\n",
              "\n",
              "          const docLinkHtml = 'Like what you see? Visit the ' +\n",
              "            '<a target=\"_blank\" href=https://colab.research.google.com/notebooks/data_table.ipynb>data table notebook</a>'\n",
              "            + ' to learn more about interactive tables.';\n",
              "          element.innerHTML = '';\n",
              "          dataTable['output_type'] = 'display_data';\n",
              "          await google.colab.output.renderOutput(dataTable, element);\n",
              "          const docLink = document.createElement('div');\n",
              "          docLink.innerHTML = docLinkHtml;\n",
              "          element.appendChild(docLink);\n",
              "        }\n",
              "      </script>\n",
              "    </div>\n",
              "  </div>\n",
              "  "
            ]
          },
          "metadata": {},
          "execution_count": 9
        }
      ],
      "source": [
        "df.head()"
      ]
    },
    {
      "cell_type": "markdown",
      "metadata": {
        "id": "MzvkFf-zEZmJ"
      },
      "source": [
        "## Exploratory Data Analysis"
      ]
    },
    {
      "cell_type": "code",
      "execution_count": 10,
      "metadata": {
        "colab": {
          "base_uri": "https://localhost:8080/",
          "height": 311
        },
        "id": "LPZ3PQjnEZmJ",
        "outputId": "d60a584a-81a0-4740-80d8-8682b34b63f1"
      },
      "outputs": [
        {
          "output_type": "display_data",
          "data": {
            "text/plain": [
              "<Figure size 1200x300 with 1 Axes>"
            ],
            "image/png": "[encoded data removed]"
          },
          "metadata": {}
        }
      ],
      "source": [
        "plt.figure(figsize=(12,3))\n",
        "splot = sns.countplot(data = df.sort_values(by='category'), y ='category', palette='cool', saturation=0.9)\n",
        "plt.bar_label(container=splot.containers[0], \n",
        "              labels=['Normal', 'COVID'], \n",
        "              label_type='center', size=15, color='w')\n",
        "plt.show()"
      ]
    },
    {
      "cell_type": "markdown",
      "metadata": {
        "id": "QTahAqh3EZmJ"
      },
      "source": [
        "## Data Visualization"
      ]
    },
    {
      "cell_type": "code",
      "execution_count": 11,
      "metadata": {
        "colab": {
          "base_uri": "https://localhost:8080/",
          "height": 435
        },
        "id": "hCPftGEMEZmK",
        "outputId": "ce00ed05-2070-47b9-ca59-de0b629df408"
      },
      "outputs": [
        {
          "output_type": "display_data",
          "data": {
            "text/plain": [
              "<Figure size 640x480 with 1 Axes>"
            ],
            "image/png": "[encoded data removed]"
          },
          "metadata": {}
        }
      ],
      "source": [
        "sample = random.choice(df['filename'])\n",
        "image = load_img(sample)\n",
        "plt.imshow(image)\n",
        "plt.show()"
      ]
    },
    {
      "cell_type": "markdown",
      "metadata": {
        "id": "eDga8FYUEZmK"
      },
      "source": [
        "## Splitting Train, Validation & Test Data"
      ]
    },
    {
      "cell_type": "code",
      "execution_count": 12,
      "metadata": {
        "id": "33h1bp_KEZmK"
      },
      "outputs": [],
      "source": [
        "train_data, test_valid_data = train_test_split(df, test_size=0.2, random_state = 42, shuffle=True, stratify=df['category'])\n",
        "train_data = train_data.reset_index(drop=True)\n",
        "test_valid_data = test_valid_data.reset_index(drop=True)"
      ]
    },
    {
      "cell_type": "code",
      "execution_count": 13,
      "metadata": {
        "id": "Q3TndbH5EZmK"
      },
      "outputs": [],
      "source": [
        "test_data, valid_data = train_test_split(test_valid_data, test_size=0.5, random_state = 42,\n",
        "                                         shuffle=True, stratify=test_valid_data['category'])\n",
        "test_data = test_data.reset_index(drop=True)\n",
        "valid_data = valid_data.reset_index(drop=True)"
      ]
    },
    {
      "cell_type": "markdown",
      "metadata": {
        "id": "S74JkJv8EZmL"
      },
      "source": [
        "## Data Augmentation"
      ]
    },
    {
      "cell_type": "code",
      "execution_count": 14,
      "metadata": {
        "id": "JjQePJ9HEZmL"
      },
      "outputs": [],
      "source": [
        "train_data_gen = ImageDataGenerator(\n",
        "    rotation_range=15,\n",
        "    rescale=1./255,\n",
        "    shear_range=0.1,\n",
        "    zoom_range=0.2,\n",
        "    horizontal_flip=True,\n",
        "    width_shift_range=0.1,\n",
        "    height_shift_range=0.1\n",
        ")"
      ]
    },
    {
      "cell_type": "code",
      "execution_count": 15,
      "metadata": {
        "colab": {
          "base_uri": "https://localhost:8080/"
        },
        "id": "_Rzi0X_gEZmL",
        "outputId": "61658452-4c1d-468e-e579-39132c55f391"
      },
      "outputs": [
        {
          "output_type": "stream",
          "name": "stdout",
          "text": [
            "Found 6092 validated image filenames belonging to 2 classes.\n"
          ]
        }
      ],
      "source": [
        "train_generator = train_data_gen.flow_from_dataframe(\n",
        "    train_data, \n",
        "    x_col='filename',\n",
        "    y_col='category',\n",
        "    target_size=(224,224),\n",
        "    class_mode='categorical',\n",
        "    batch_size=15\n",
        ")"
      ]
    },
    {
      "cell_type": "code",
      "execution_count": 16,
      "metadata": {
        "colab": {
          "base_uri": "https://localhost:8080/"
        },
        "id": "BdAPQUOxEZmM",
        "outputId": "88480a68-e6a7-41ea-e740-c19e9fc3888b"
      },
      "outputs": [
        {
          "output_type": "stream",
          "name": "stdout",
          "text": [
            "Found 762 validated image filenames belonging to 2 classes.\n",
            "Found 762 validated image filenames belonging to 2 classes.\n"
          ]
        }
      ],
      "source": [
        "valid_data_gen = ImageDataGenerator(rescale=1./255)\n",
        "\n",
        "valid_generator = valid_data_gen.flow_from_dataframe(\n",
        "    valid_data, \n",
        "    x_col='filename',\n",
        "    y_col='category',\n",
        "    target_size=(224,224),\n",
        "    class_mode='categorical',\n",
        "    batch_size=15\n",
        ")\n",
        "\n",
        "test_generator = valid_data_gen.flow_from_dataframe(\n",
        "    test_data, \n",
        "    x_col='filename',\n",
        "    y_col='category',\n",
        "    target_size=(224,224),\n",
        "    class_mode='categorical',\n",
        "    batch_size=15\n",
        ")"
      ]
    },
    {
      "cell_type": "markdown",
      "metadata": {
        "id": "djmHTqfjEZmM"
      },
      "source": [
        "## Model Training - ResNet50"
      ]
    },
    {
      "cell_type": "markdown",
      "metadata": {
        "id": "QV-77LVBEZmM"
      },
      "source": [
        "#### Model Architecture"
      ]
    },
    {
      "cell_type": "code",
      "execution_count": null,
      "metadata": {
        "id": "25ZgxIVJMafC"
      },
      "outputs": [],
      "source": [
        "import ssl\n",
        "ssl._create_default_https_context = ssl._create_unverified_context"
      ]
    },
    {
      "cell_type": "code",
      "execution_count": 17,
      "metadata": {
        "colab": {
          "base_uri": "https://localhost:8080/"
        },
        "id": "pdsbg9DyEZmM",
        "outputId": "f5e72610-6cc9-49d0-d896-c3d6a7e9b738"
      },
      "outputs": [
        {
          "output_type": "stream",
          "name": "stdout",
          "text": [
            "Downloading data from https://storage.googleapis.com/tensorflow/keras-applications/vgg19/vgg19_weights_tf_dim_ordering_tf_kernels_notop.h5\n",
            "80134624/80134624 [==============================] - 1s 0us/step\n"
          ]
        }
      ],
      "source": [
        "baseModel = VGG19(input_shape=(224,224,3), weights='imagenet', include_top=False)\n",
        "\n",
        "for layer in baseModel.layers:\n",
        "    layer.trainable = False\n",
        "\n",
        "headModel = baseModel.output\n",
        "headModel = AveragePooling2D()(headModel)\n",
        "headModel = Flatten()(headModel)\n",
        "headModel = Dense(128, activation=\"relu\")(headModel)\n",
        "headModel = Dropout(0.2)(headModel)\n",
        "headModel = Dense(2, activation='softmax')(headModel)\n",
        "\n",
        "model = Model(inputs=baseModel.input, outputs=headModel)"
      ]
    },
    {
      "cell_type": "markdown",
      "metadata": {
        "id": "zGac2Tv8EZmM"
      },
      "source": [
        "#### Model Summary"
      ]
    },
    {
      "cell_type": "code",
      "execution_count": 17,
      "metadata": {
        "colab": {
          "base_uri": "https://localhost:8080/"
        },
        "id": "sG581lexEZmM",
        "outputId": "e5d4bfdb-0cf4-4611-8ae7-fa30d5afba04"
      },
      "outputs": [
        {
          "output_type": "stream",
          "name": "stdout",
          "text": [
            "Model: \"model\"\n",
            "_________________________________________________________________\n",
            " Layer (type)                Output Shape              Param #   \n",
            "=================================================================\n",
            " input_1 (InputLayer)        [(None, 224, 224, 3)]     0         \n",
            "                                                                 \n",
            " block1_conv1 (Conv2D)       (None, 224, 224, 64)      1792      \n",
            "                                                                 \n",
            " block1_conv2 (Conv2D)       (None, 224, 224, 64)      36928     \n",
            "                                                                 \n",
            " block1_pool (MaxPooling2D)  (None, 112, 112, 64)      0         \n",
            "                                                                 \n",
            " block2_conv1 (Conv2D)       (None, 112, 112, 128)     73856     \n",
            "                                                                 \n",
            " block2_conv2 (Conv2D)       (None, 112, 112, 128)     147584    \n",
            "                                                                 \n",
            " block2_pool (MaxPooling2D)  (None, 56, 56, 128)       0         \n",
            "                                                                 \n",
            " block3_conv1 (Conv2D)       (None, 56, 56, 256)       295168    \n",
            "                                                                 \n",
            " block3_conv2 (Conv2D)       (None, 56, 56, 256)       590080    \n",
            "                                                                 \n",
            " block3_conv3 (Conv2D)       (None, 56, 56, 256)       590080    \n",
            "                                                                 \n",
            " block3_conv4 (Conv2D)       (None, 56, 56, 256)       590080    \n",
            "                                                                 \n",
            " block3_pool (MaxPooling2D)  (None, 28, 28, 256)       0         \n",
            "                                                                 \n",
            " block4_conv1 (Conv2D)       (None, 28, 28, 512)       1180160   \n",
            "                                                                 \n",
            " block4_conv2 (Conv2D)       (None, 28, 28, 512)       2359808   \n",
            "                                                                 \n",
            " block4_conv3 (Conv2D)       (None, 28, 28, 512)       2359808   \n",
            "                                                                 \n",
            " block4_conv4 (Conv2D)       (None, 28, 28, 512)       2359808   \n",
            "                                                                 \n",
            " block4_pool (MaxPooling2D)  (None, 14, 14, 512)       0         \n",
            "                                                                 \n",
            " block5_conv1 (Conv2D)       (None, 14, 14, 512)       2359808   \n",
            "                                                                 \n",
            " block5_conv2 (Conv2D)       (None, 14, 14, 512)       2359808   \n",
            "                                                                 \n",
            " block5_conv3 (Conv2D)       (None, 14, 14, 512)       2359808   \n",
            "                                                                 \n",
            " block5_conv4 (Conv2D)       (None, 14, 14, 512)       2359808   \n",
            "                                                                 \n",
            " block5_pool (MaxPooling2D)  (None, 7, 7, 512)         0         \n",
            "                                                                 \n",
            " average_pooling2d (AverageP  (None, 3, 3, 512)        0         \n",
            " ooling2D)                                                       \n",
            "                                                                 \n",
            " flatten (Flatten)           (None, 4608)              0         \n",
            "                                                                 \n",
            " dense (Dense)               (None, 128)               589952    \n",
            "                                                                 \n",
            " dropout (Dropout)           (None, 128)               0         \n",
            "                                                                 \n",
            " dense_1 (Dense)             (None, 2)                 258       \n",
            "                                                                 \n",
            "=================================================================\n",
            "Total params: 20,614,594\n",
            "Trainable params: 590,210\n",
            "Non-trainable params: 20,024,384\n",
            "_________________________________________________________________\n"
          ]
        }
      ],
      "source": [
        "model.summary()"
      ]
    },
    {
      "cell_type": "markdown",
      "metadata": {
        "id": "DerT4-gjEZmM"
      },
      "source": [
        "#### Optimizer - Adam"
      ]
    },
    {
      "cell_type": "code",
      "execution_count": 18,
      "metadata": {
        "id": "WdPPB4uIEZmN"
      },
      "outputs": [],
      "source": [
        "opt = Adam(learning_rate=0.0001)\n",
        "model.compile(optimizer=opt, loss='categorical_crossentropy', metrics=['accuracy'])"
      ]
    },
    {
      "cell_type": "code",
      "execution_count": 19,
      "metadata": {
        "id": "k0NnnNNmesj5"
      },
      "outputs": [],
      "source": [
        "checkpoint = keras.callbacks.ModelCheckpoint(\"best_model\",\n",
        "                                            save_best_only=True)\n",
        "#stop_early = keras.callbacks.EarlyStopping(monitor='val_loss', patience=5)"
      ]
    },
    {
      "cell_type": "code",
      "execution_count": 20,
      "metadata": {
        "colab": {
          "base_uri": "https://localhost:8080/"
        },
        "id": "r4dgOcJkEZmN",
        "outputId": "2f82633d-b51d-40a4-b1be-353a08d29bc2"
      },
      "outputs": [
        {
          "output_type": "stream",
          "name": "stdout",
          "text": [
            "Epoch 1/200\n",
            "407/407 [==============================] - ETA: 0s - loss: 0.5211 - accuracy: 0.7508"
          ]
        },
        {
          "output_type": "stream",
          "name": "stderr",
          "text": [
            "WARNING:absl:Found untraced functions such as _jit_compiled_convolution_op, _jit_compiled_convolution_op, _jit_compiled_convolution_op, _jit_compiled_convolution_op, _jit_compiled_convolution_op while saving (showing 5 of 16). These functions will not be directly callable after loading.\n"
          ]
        },
        {
          "output_type": "stream",
          "name": "stdout",
          "text": [
            "\b\b\b\b\b\b\b\b\b\b\b\b\b\b\b\b\b\b\b\b\b\b\b\b\b\b\b\b\b\b\b\b\b\b\b\b\b\b\b\b\b\b\b\b\b\b\b\b\b\b\b\b\b\b\b\b\b\b\b\b\b\b\b\b\b\b\b\b\b\b\b\b\b\b\b\b\b\b\b\b\b\b\b\b\r407/407 [==============================] - 117s 255ms/step - loss: 0.5211 - accuracy: 0.7508 - val_loss: 0.4234 - val_accuracy: 0.8045\n",
            "Epoch 2/200\n",
            "407/407 [==============================] - ETA: 0s - loss: 0.4440 - accuracy: 0.7955"
          ]
        },
        {
          "output_type": "stream",
          "name": "stderr",
          "text": [
            "WARNING:absl:Found untraced functions such as _jit_compiled_convolution_op, _jit_compiled_convolution_op, _jit_compiled_convolution_op, _jit_compiled_convolution_op, _jit_compiled_convolution_op while saving (showing 5 of 16). These functions will not be directly callable after loading.\n"
          ]
        },
        {
          "output_type": "stream",
          "name": "stdout",
          "text": [
            "\b\b\b\b\b\b\b\b\b\b\b\b\b\b\b\b\b\b\b\b\b\b\b\b\b\b\b\b\b\b\b\b\b\b\b\b\b\b\b\b\b\b\b\b\b\b\b\b\b\b\b\b\b\b\b\b\b\b\b\b\b\b\b\b\b\b\b\b\b\b\b\b\b\b\b\b\b\b\b\b\b\b\b\b\r407/407 [==============================] - 98s 242ms/step - loss: 0.4440 - accuracy: 0.7955 - val_loss: 0.3803 - val_accuracy: 0.8333\n",
            "Epoch 3/200\n",
            "407/407 [==============================] - ETA: 0s - loss: 0.4193 - accuracy: 0.8094"
          ]
        },
        {
          "output_type": "stream",
          "name": "stderr",
          "text": [
            "WARNING:absl:Found untraced functions such as _jit_compiled_convolution_op, _jit_compiled_convolution_op, _jit_compiled_convolution_op, _jit_compiled_convolution_op, _jit_compiled_convolution_op while saving (showing 5 of 16). These functions will not be directly callable after loading.\n"
          ]
        },
        {
          "output_type": "stream",
          "name": "stdout",
          "text": [
            "\b\b\b\b\b\b\b\b\b\b\b\b\b\b\b\b\b\b\b\b\b\b\b\b\b\b\b\b\b\b\b\b\b\b\b\b\b\b\b\b\b\b\b\b\b\b\b\b\b\b\b\b\b\b\b\b\b\b\b\b\b\b\b\b\b\b\b\b\b\b\b\b\b\b\b\b\b\b\b\b\b\b\b\b\r407/407 [==============================] - 98s 241ms/step - loss: 0.4193 - accuracy: 0.8094 - val_loss: 0.3730 - val_accuracy: 0.8281\n",
            "Epoch 4/200\n",
            "407/407 [==============================] - ETA: 0s - loss: 0.3952 - accuracy: 0.8227"
          ]
        },
        {
          "output_type": "stream",
          "name": "stderr",
          "text": [
            "WARNING:absl:Found untraced functions such as _jit_compiled_convolution_op, _jit_compiled_convolution_op, _jit_compiled_convolution_op, _jit_compiled_convolution_op, _jit_compiled_convolution_op while saving (showing 5 of 16). These functions will not be directly callable after loading.\n"
          ]
        },
        {
          "output_type": "stream",
          "name": "stdout",
          "text": [
            "\b\b\b\b\b\b\b\b\b\b\b\b\b\b\b\b\b\b\b\b\b\b\b\b\b\b\b\b\b\b\b\b\b\b\b\b\b\b\b\b\b\b\b\b\b\b\b\b\b\b\b\b\b\b\b\b\b\b\b\b\b\b\b\b\b\b\b\b\b\b\b\b\b\b\b\b\b\b\b\b\b\b\b\b\r407/407 [==============================] - 99s 244ms/step - loss: 0.3952 - accuracy: 0.8227 - val_loss: 0.3334 - val_accuracy: 0.8622\n",
            "Epoch 5/200\n",
            "407/407 [==============================] - ETA: 0s - loss: 0.3688 - accuracy: 0.8380"
          ]
        },
        {
          "output_type": "stream",
          "name": "stderr",
          "text": [
            "WARNING:absl:Found untraced functions such as _jit_compiled_convolution_op, _jit_compiled_convolution_op, _jit_compiled_convolution_op, _jit_compiled_convolution_op, _jit_compiled_convolution_op while saving (showing 5 of 16). These functions will not be directly callable after loading.\n"
          ]
        },
        {
          "output_type": "stream",
          "name": "stdout",
          "text": [
            "\b\b\b\b\b\b\b\b\b\b\b\b\b\b\b\b\b\b\b\b\b\b\b\b\b\b\b\b\b\b\b\b\b\b\b\b\b\b\b\b\b\b\b\b\b\b\b\b\b\b\b\b\b\b\b\b\b\b\b\b\b\b\b\b\b\b\b\b\b\b\b\b\b\b\b\b\b\b\b\b\b\b\b\b\r407/407 [==============================] - 96s 237ms/step - loss: 0.3688 - accuracy: 0.8380 - val_loss: 0.3254 - val_accuracy: 0.8675\n",
            "Epoch 6/200\n",
            "407/407 [==============================] - ETA: 0s - loss: 0.3609 - accuracy: 0.8404"
          ]
        },
        {
          "output_type": "stream",
          "name": "stderr",
          "text": [
            "WARNING:absl:Found untraced functions such as _jit_compiled_convolution_op, _jit_compiled_convolution_op, _jit_compiled_convolution_op, _jit_compiled_convolution_op, _jit_compiled_convolution_op while saving (showing 5 of 16). These functions will not be directly callable after loading.\n"
          ]
        },
        {
          "output_type": "stream",
          "name": "stdout",
          "text": [
            "\b\b\b\b\b\b\b\b\b\b\b\b\b\b\b\b\b\b\b\b\b\b\b\b\b\b\b\b\b\b\b\b\b\b\b\b\b\b\b\b\b\b\b\b\b\b\b\b\b\b\b\b\b\b\b\b\b\b\b\b\b\b\b\b\b\b\b\b\b\b\b\b\b\b\b\b\b\b\b\b\b\b\b\b\r407/407 [==============================] - 97s 239ms/step - loss: 0.3609 - accuracy: 0.8404 - val_loss: 0.3025 - val_accuracy: 0.8793\n",
            "Epoch 7/200\n",
            "407/407 [==============================] - ETA: 0s - loss: 0.3460 - accuracy: 0.8516"
          ]
        },
        {
          "output_type": "stream",
          "name": "stderr",
          "text": [
            "WARNING:absl:Found untraced functions such as _jit_compiled_convolution_op, _jit_compiled_convolution_op, _jit_compiled_convolution_op, _jit_compiled_convolution_op, _jit_compiled_convolution_op while saving (showing 5 of 16). These functions will not be directly callable after loading.\n"
          ]
        },
        {
          "output_type": "stream",
          "name": "stdout",
          "text": [
            "\b\b\b\b\b\b\b\b\b\b\b\b\b\b\b\b\b\b\b\b\b\b\b\b\b\b\b\b\b\b\b\b\b\b\b\b\b\b\b\b\b\b\b\b\b\b\b\b\b\b\b\b\b\b\b\b\b\b\b\b\b\b\b\b\b\b\b\b\b\b\b\b\b\b\b\b\b\b\b\b\b\b\b\b\r407/407 [==============================] - 97s 238ms/step - loss: 0.3460 - accuracy: 0.8516 - val_loss: 0.2779 - val_accuracy: 0.8950\n",
            "Epoch 8/200\n",
            "407/407 [==============================] - 94s 231ms/step - loss: 0.3367 - accuracy: 0.8533 - val_loss: 0.2990 - val_accuracy: 0.8793\n",
            "Epoch 9/200\n",
            "407/407 [==============================] - ETA: 0s - loss: 0.3318 - accuracy: 0.8580"
          ]
        },
        {
          "output_type": "stream",
          "name": "stderr",
          "text": [
            "WARNING:absl:Found untraced functions such as _jit_compiled_convolution_op, _jit_compiled_convolution_op, _jit_compiled_convolution_op, _jit_compiled_convolution_op, _jit_compiled_convolution_op while saving (showing 5 of 16). These functions will not be directly callable after loading.\n"
          ]
        },
        {
          "output_type": "stream",
          "name": "stdout",
          "text": [
            "\b\b\b\b\b\b\b\b\b\b\b\b\b\b\b\b\b\b\b\b\b\b\b\b\b\b\b\b\b\b\b\b\b\b\b\b\b\b\b\b\b\b\b\b\b\b\b\b\b\b\b\b\b\b\b\b\b\b\b\b\b\b\b\b\b\b\b\b\b\b\b\b\b\b\b\b\b\b\b\b\b\b\b\b\r407/407 [==============================] - 100s 244ms/step - loss: 0.3318 - accuracy: 0.8580 - val_loss: 0.2662 - val_accuracy: 0.8990\n",
            "Epoch 10/200\n",
            "407/407 [==============================] - ETA: 0s - loss: 0.3253 - accuracy: 0.8551"
          ]
        },
        {
          "output_type": "stream",
          "name": "stderr",
          "text": [
            "WARNING:absl:Found untraced functions such as _jit_compiled_convolution_op, _jit_compiled_convolution_op, _jit_compiled_convolution_op, _jit_compiled_convolution_op, _jit_compiled_convolution_op while saving (showing 5 of 16). These functions will not be directly callable after loading.\n"
          ]
        },
        {
          "output_type": "stream",
          "name": "stdout",
          "text": [
            "\b\b\b\b\b\b\b\b\b\b\b\b\b\b\b\b\b\b\b\b\b\b\b\b\b\b\b\b\b\b\b\b\b\b\b\b\b\b\b\b\b\b\b\b\b\b\b\b\b\b\b\b\b\b\b\b\b\b\b\b\b\b\b\b\b\b\b\b\b\b\b\b\b\b\b\b\b\b\b\b\b\b\b\b\r407/407 [==============================] - 97s 237ms/step - loss: 0.3253 - accuracy: 0.8551 - val_loss: 0.2564 - val_accuracy: 0.8924\n",
            "Epoch 11/200\n",
            "407/407 [==============================] - ETA: 0s - loss: 0.3180 - accuracy: 0.8644"
          ]
        },
        {
          "output_type": "stream",
          "name": "stderr",
          "text": [
            "WARNING:absl:Found untraced functions such as _jit_compiled_convolution_op, _jit_compiled_convolution_op, _jit_compiled_convolution_op, _jit_compiled_convolution_op, _jit_compiled_convolution_op while saving (showing 5 of 16). These functions will not be directly callable after loading.\n"
          ]
        },
        {
          "output_type": "stream",
          "name": "stdout",
          "text": [
            "\b\b\b\b\b\b\b\b\b\b\b\b\b\b\b\b\b\b\b\b\b\b\b\b\b\b\b\b\b\b\b\b\b\b\b\b\b\b\b\b\b\b\b\b\b\b\b\b\b\b\b\b\b\b\b\b\b\b\b\b\b\b\b\b\b\b\b\b\b\b\b\b\b\b\b\b\b\b\b\b\b\b\b\b\r407/407 [==============================] - 97s 239ms/step - loss: 0.3180 - accuracy: 0.8644 - val_loss: 0.2561 - val_accuracy: 0.9003\n",
            "Epoch 12/200\n",
            "407/407 [==============================] - 95s 233ms/step - loss: 0.3054 - accuracy: 0.8713 - val_loss: 0.3109 - val_accuracy: 0.8504\n",
            "Epoch 13/200\n",
            "407/407 [==============================] - ETA: 0s - loss: 0.3076 - accuracy: 0.8718"
          ]
        },
        {
          "output_type": "stream",
          "name": "stderr",
          "text": [
            "WARNING:absl:Found untraced functions such as _jit_compiled_convolution_op, _jit_compiled_convolution_op, _jit_compiled_convolution_op, _jit_compiled_convolution_op, _jit_compiled_convolution_op while saving (showing 5 of 16). These functions will not be directly callable after loading.\n"
          ]
        },
        {
          "output_type": "stream",
          "name": "stdout",
          "text": [
            "\b\b\b\b\b\b\b\b\b\b\b\b\b\b\b\b\b\b\b\b\b\b\b\b\b\b\b\b\b\b\b\b\b\b\b\b\b\b\b\b\b\b\b\b\b\b\b\b\b\b\b\b\b\b\b\b\b\b\b\b\b\b\b\b\b\b\b\b\b\b\b\b\b\b\b\b\b\b\b\b\b\b\b\b\r407/407 [==============================] - 97s 239ms/step - loss: 0.3076 - accuracy: 0.8718 - val_loss: 0.2356 - val_accuracy: 0.8976\n",
            "Epoch 14/200\n",
            "407/407 [==============================] - 95s 232ms/step - loss: 0.2971 - accuracy: 0.8754 - val_loss: 0.2512 - val_accuracy: 0.8898\n",
            "Epoch 15/200\n",
            "407/407 [==============================] - 93s 228ms/step - loss: 0.2882 - accuracy: 0.8793 - val_loss: 0.2366 - val_accuracy: 0.9055\n",
            "Epoch 16/200\n",
            "407/407 [==============================] - ETA: 0s - loss: 0.2819 - accuracy: 0.8826"
          ]
        },
        {
          "output_type": "stream",
          "name": "stderr",
          "text": [
            "WARNING:absl:Found untraced functions such as _jit_compiled_convolution_op, _jit_compiled_convolution_op, _jit_compiled_convolution_op, _jit_compiled_convolution_op, _jit_compiled_convolution_op while saving (showing 5 of 16). These functions will not be directly callable after loading.\n"
          ]
        },
        {
          "output_type": "stream",
          "name": "stdout",
          "text": [
            "\b\b\b\b\b\b\b\b\b\b\b\b\b\b\b\b\b\b\b\b\b\b\b\b\b\b\b\b\b\b\b\b\b\b\b\b\b\b\b\b\b\b\b\b\b\b\b\b\b\b\b\b\b\b\b\b\b\b\b\b\b\b\b\b\b\b\b\b\b\b\b\b\b\b\b\b\b\b\b\b\b\b\b\b\r407/407 [==============================] - 97s 238ms/step - loss: 0.2819 - accuracy: 0.8826 - val_loss: 0.2336 - val_accuracy: 0.8937\n",
            "Epoch 17/200\n",
            "407/407 [==============================] - 95s 232ms/step - loss: 0.2864 - accuracy: 0.8787 - val_loss: 0.2359 - val_accuracy: 0.9147\n",
            "Epoch 18/200\n",
            "407/407 [==============================] - ETA: 0s - loss: 0.2693 - accuracy: 0.8908"
          ]
        },
        {
          "output_type": "stream",
          "name": "stderr",
          "text": [
            "WARNING:absl:Found untraced functions such as _jit_compiled_convolution_op, _jit_compiled_convolution_op, _jit_compiled_convolution_op, _jit_compiled_convolution_op, _jit_compiled_convolution_op while saving (showing 5 of 16). These functions will not be directly callable after loading.\n"
          ]
        },
        {
          "output_type": "stream",
          "name": "stdout",
          "text": [
            "\b\b\b\b\b\b\b\b\b\b\b\b\b\b\b\b\b\b\b\b\b\b\b\b\b\b\b\b\b\b\b\b\b\b\b\b\b\b\b\b\b\b\b\b\b\b\b\b\b\b\b\b\b\b\b\b\b\b\b\b\b\b\b\b\b\b\b\b\b\b\b\b\b\b\b\b\b\b\b\b\b\b\b\b\r407/407 [==============================] - 95s 234ms/step - loss: 0.2693 - accuracy: 0.8908 - val_loss: 0.2239 - val_accuracy: 0.9173\n",
            "Epoch 19/200\n",
            "407/407 [==============================] - ETA: 0s - loss: 0.2796 - accuracy: 0.8756"
          ]
        },
        {
          "output_type": "stream",
          "name": "stderr",
          "text": [
            "WARNING:absl:Found untraced functions such as _jit_compiled_convolution_op, _jit_compiled_convolution_op, _jit_compiled_convolution_op, _jit_compiled_convolution_op, _jit_compiled_convolution_op while saving (showing 5 of 16). These functions will not be directly callable after loading.\n"
          ]
        },
        {
          "output_type": "stream",
          "name": "stdout",
          "text": [
            "\b\b\b\b\b\b\b\b\b\b\b\b\b\b\b\b\b\b\b\b\b\b\b\b\b\b\b\b\b\b\b\b\b\b\b\b\b\b\b\b\b\b\b\b\b\b\b\b\b\b\b\b\b\b\b\b\b\b\b\b\b\b\b\b\b\b\b\b\b\b\b\b\b\b\b\b\b\b\b\b\b\b\b\b\r407/407 [==============================] - 97s 238ms/step - loss: 0.2796 - accuracy: 0.8756 - val_loss: 0.2203 - val_accuracy: 0.9121\n",
            "Epoch 20/200\n",
            "407/407 [==============================] - 94s 231ms/step - loss: 0.2697 - accuracy: 0.8851 - val_loss: 0.2280 - val_accuracy: 0.9029\n",
            "Epoch 21/200\n",
            "407/407 [==============================] - 94s 231ms/step - loss: 0.2651 - accuracy: 0.8871 - val_loss: 0.2375 - val_accuracy: 0.9016\n",
            "Epoch 22/200\n",
            "407/407 [==============================] - 98s 240ms/step - loss: 0.2676 - accuracy: 0.8894 - val_loss: 0.2251 - val_accuracy: 0.9239\n",
            "Epoch 23/200\n",
            "407/407 [==============================] - ETA: 0s - loss: 0.2674 - accuracy: 0.8874"
          ]
        },
        {
          "output_type": "stream",
          "name": "stderr",
          "text": [
            "WARNING:absl:Found untraced functions such as _jit_compiled_convolution_op, _jit_compiled_convolution_op, _jit_compiled_convolution_op, _jit_compiled_convolution_op, _jit_compiled_convolution_op while saving (showing 5 of 16). These functions will not be directly callable after loading.\n"
          ]
        },
        {
          "output_type": "stream",
          "name": "stdout",
          "text": [
            "\b\b\b\b\b\b\b\b\b\b\b\b\b\b\b\b\b\b\b\b\b\b\b\b\b\b\b\b\b\b\b\b\b\b\b\b\b\b\b\b\b\b\b\b\b\b\b\b\b\b\b\b\b\b\b\b\b\b\b\b\b\b\b\b\b\b\b\b\b\b\b\b\b\b\b\b\b\b\b\b\b\b\b\b\r407/407 [==============================] - 96s 236ms/step - loss: 0.2674 - accuracy: 0.8874 - val_loss: 0.2112 - val_accuracy: 0.9252\n",
            "Epoch 24/200\n",
            "407/407 [==============================] - ETA: 0s - loss: 0.2686 - accuracy: 0.8859"
          ]
        },
        {
          "output_type": "stream",
          "name": "stderr",
          "text": [
            "WARNING:absl:Found untraced functions such as _jit_compiled_convolution_op, _jit_compiled_convolution_op, _jit_compiled_convolution_op, _jit_compiled_convolution_op, _jit_compiled_convolution_op while saving (showing 5 of 16). These functions will not be directly callable after loading.\n"
          ]
        },
        {
          "output_type": "stream",
          "name": "stdout",
          "text": [
            "\b\b\b\b\b\b\b\b\b\b\b\b\b\b\b\b\b\b\b\b\b\b\b\b\b\b\b\b\b\b\b\b\b\b\b\b\b\b\b\b\b\b\b\b\b\b\b\b\b\b\b\b\b\b\b\b\b\b\b\b\b\b\b\b\b\b\b\b\b\b\b\b\b\b\b\b\b\b\b\b\b\b\b\b\r407/407 [==============================] - 96s 236ms/step - loss: 0.2686 - accuracy: 0.8859 - val_loss: 0.2048 - val_accuracy: 0.9068\n",
            "Epoch 25/200\n",
            "407/407 [==============================] - 94s 232ms/step - loss: 0.2601 - accuracy: 0.8864 - val_loss: 0.2070 - val_accuracy: 0.9186\n",
            "Epoch 26/200\n",
            "407/407 [==============================] - ETA: 0s - loss: 0.2506 - accuracy: 0.8987"
          ]
        },
        {
          "output_type": "stream",
          "name": "stderr",
          "text": [
            "WARNING:absl:Found untraced functions such as _jit_compiled_convolution_op, _jit_compiled_convolution_op, _jit_compiled_convolution_op, _jit_compiled_convolution_op, _jit_compiled_convolution_op while saving (showing 5 of 16). These functions will not be directly callable after loading.\n"
          ]
        },
        {
          "output_type": "stream",
          "name": "stdout",
          "text": [
            "\b\b\b\b\b\b\b\b\b\b\b\b\b\b\b\b\b\b\b\b\b\b\b\b\b\b\b\b\b\b\b\b\b\b\b\b\b\b\b\b\b\b\b\b\b\b\b\b\b\b\b\b\b\b\b\b\b\b\b\b\b\b\b\b\b\b\b\b\b\b\b\b\b\b\b\b\b\b\b\b\b\b\b\b\r407/407 [==============================] - 97s 239ms/step - loss: 0.2506 - accuracy: 0.8987 - val_loss: 0.1995 - val_accuracy: 0.9160\n",
            "Epoch 27/200\n",
            "407/407 [==============================] - 95s 233ms/step - loss: 0.2634 - accuracy: 0.8884 - val_loss: 0.2040 - val_accuracy: 0.9213\n",
            "Epoch 28/200\n",
            "407/407 [==============================] - 94s 232ms/step - loss: 0.2530 - accuracy: 0.8946 - val_loss: 0.2114 - val_accuracy: 0.9173\n",
            "Epoch 29/200\n",
            "407/407 [==============================] - 94s 231ms/step - loss: 0.2449 - accuracy: 0.8959 - val_loss: 0.2241 - val_accuracy: 0.8911\n",
            "Epoch 30/200\n",
            "407/407 [==============================] - ETA: 0s - loss: 0.2466 - accuracy: 0.8971"
          ]
        },
        {
          "output_type": "stream",
          "name": "stderr",
          "text": [
            "WARNING:absl:Found untraced functions such as _jit_compiled_convolution_op, _jit_compiled_convolution_op, _jit_compiled_convolution_op, _jit_compiled_convolution_op, _jit_compiled_convolution_op while saving (showing 5 of 16). These functions will not be directly callable after loading.\n"
          ]
        },
        {
          "output_type": "stream",
          "name": "stdout",
          "text": [
            "\b\b\b\b\b\b\b\b\b\b\b\b\b\b\b\b\b\b\b\b\b\b\b\b\b\b\b\b\b\b\b\b\b\b\b\b\b\b\b\b\b\b\b\b\b\b\b\b\b\b\b\b\b\b\b\b\b\b\b\b\b\b\b\b\b\b\b\b\b\b\b\b\b\b\b\b\b\b\b\b\b\b\b\b\r407/407 [==============================] - 97s 238ms/step - loss: 0.2466 - accuracy: 0.8971 - val_loss: 0.1907 - val_accuracy: 0.9186\n",
            "Epoch 31/200\n",
            "407/407 [==============================] - 95s 233ms/step - loss: 0.2425 - accuracy: 0.9005 - val_loss: 0.1982 - val_accuracy: 0.9213\n",
            "Epoch 32/200\n",
            "407/407 [==============================] - 93s 229ms/step - loss: 0.2356 - accuracy: 0.8992 - val_loss: 0.2303 - val_accuracy: 0.9147\n",
            "Epoch 33/200\n",
            "407/407 [==============================] - 94s 229ms/step - loss: 0.2420 - accuracy: 0.9000 - val_loss: 0.1997 - val_accuracy: 0.9265\n",
            "Epoch 34/200\n",
            "407/407 [==============================] - ETA: 0s - loss: 0.2428 - accuracy: 0.8961"
          ]
        },
        {
          "output_type": "stream",
          "name": "stderr",
          "text": [
            "WARNING:absl:Found untraced functions such as _jit_compiled_convolution_op, _jit_compiled_convolution_op, _jit_compiled_convolution_op, _jit_compiled_convolution_op, _jit_compiled_convolution_op while saving (showing 5 of 16). These functions will not be directly callable after loading.\n"
          ]
        },
        {
          "output_type": "stream",
          "name": "stdout",
          "text": [
            "\b\b\b\b\b\b\b\b\b\b\b\b\b\b\b\b\b\b\b\b\b\b\b\b\b\b\b\b\b\b\b\b\b\b\b\b\b\b\b\b\b\b\b\b\b\b\b\b\b\b\b\b\b\b\b\b\b\b\b\b\b\b\b\b\b\b\b\b\b\b\b\b\b\b\b\b\b\b\b\b\b\b\b\b\r407/407 [==============================] - 96s 236ms/step - loss: 0.2428 - accuracy: 0.8961 - val_loss: 0.1857 - val_accuracy: 0.9278\n",
            "Epoch 35/200\n",
            "407/407 [==============================] - 93s 229ms/step - loss: 0.2454 - accuracy: 0.8941 - val_loss: 0.1905 - val_accuracy: 0.9160\n",
            "Epoch 36/200\n",
            "407/407 [==============================] - 93s 228ms/step - loss: 0.2328 - accuracy: 0.9041 - val_loss: 0.1917 - val_accuracy: 0.9304\n",
            "Epoch 37/200\n",
            "407/407 [==============================] - 94s 230ms/step - loss: 0.2324 - accuracy: 0.9038 - val_loss: 0.1895 - val_accuracy: 0.9291\n",
            "Epoch 38/200\n",
            "407/407 [==============================] - 94s 232ms/step - loss: 0.2244 - accuracy: 0.9053 - val_loss: 0.2035 - val_accuracy: 0.9173\n",
            "Epoch 39/200\n",
            "407/407 [==============================] - 93s 229ms/step - loss: 0.2320 - accuracy: 0.9035 - val_loss: 0.1913 - val_accuracy: 0.9199\n",
            "Epoch 40/200\n",
            "407/407 [==============================] - 93s 229ms/step - loss: 0.2184 - accuracy: 0.9091 - val_loss: 0.1892 - val_accuracy: 0.9291\n",
            "Epoch 41/200\n",
            "407/407 [==============================] - ETA: 0s - loss: 0.2250 - accuracy: 0.9061"
          ]
        },
        {
          "output_type": "stream",
          "name": "stderr",
          "text": [
            "WARNING:absl:Found untraced functions such as _jit_compiled_convolution_op, _jit_compiled_convolution_op, _jit_compiled_convolution_op, _jit_compiled_convolution_op, _jit_compiled_convolution_op while saving (showing 5 of 16). These functions will not be directly callable after loading.\n"
          ]
        },
        {
          "output_type": "stream",
          "name": "stdout",
          "text": [
            "\b\b\b\b\b\b\b\b\b\b\b\b\b\b\b\b\b\b\b\b\b\b\b\b\b\b\b\b\b\b\b\b\b\b\b\b\b\b\b\b\b\b\b\b\b\b\b\b\b\b\b\b\b\b\b\b\b\b\b\b\b\b\b\b\b\b\b\b\b\b\b\b\b\b\b\b\b\b\b\b\b\b\b\b\r407/407 [==============================] - 97s 239ms/step - loss: 0.2250 - accuracy: 0.9061 - val_loss: 0.1833 - val_accuracy: 0.9278\n",
            "Epoch 42/200\n",
            "407/407 [==============================] - 94s 232ms/step - loss: 0.2295 - accuracy: 0.9022 - val_loss: 0.1866 - val_accuracy: 0.9304\n",
            "Epoch 43/200\n",
            "407/407 [==============================] - ETA: 0s - loss: 0.2271 - accuracy: 0.9033"
          ]
        },
        {
          "output_type": "stream",
          "name": "stderr",
          "text": [
            "WARNING:absl:Found untraced functions such as _jit_compiled_convolution_op, _jit_compiled_convolution_op, _jit_compiled_convolution_op, _jit_compiled_convolution_op, _jit_compiled_convolution_op while saving (showing 5 of 16). These functions will not be directly callable after loading.\n"
          ]
        },
        {
          "output_type": "stream",
          "name": "stdout",
          "text": [
            "\b\b\b\b\b\b\b\b\b\b\b\b\b\b\b\b\b\b\b\b\b\b\b\b\b\b\b\b\b\b\b\b\b\b\b\b\b\b\b\b\b\b\b\b\b\b\b\b\b\b\b\b\b\b\b\b\b\b\b\b\b\b\b\b\b\b\b\b\b\b\b\b\b\b\b\b\b\b\b\b\b\b\b\b\r407/407 [==============================] - 96s 236ms/step - loss: 0.2271 - accuracy: 0.9033 - val_loss: 0.1743 - val_accuracy: 0.9344\n",
            "Epoch 44/200\n",
            "407/407 [==============================] - ETA: 0s - loss: 0.2244 - accuracy: 0.9050"
          ]
        },
        {
          "output_type": "stream",
          "name": "stderr",
          "text": [
            "WARNING:absl:Found untraced functions such as _jit_compiled_convolution_op, _jit_compiled_convolution_op, _jit_compiled_convolution_op, _jit_compiled_convolution_op, _jit_compiled_convolution_op while saving (showing 5 of 16). These functions will not be directly callable after loading.\n"
          ]
        },
        {
          "output_type": "stream",
          "name": "stdout",
          "text": [
            "\b\b\b\b\b\b\b\b\b\b\b\b\b\b\b\b\b\b\b\b\b\b\b\b\b\b\b\b\b\b\b\b\b\b\b\b\b\b\b\b\b\b\b\b\b\b\b\b\b\b\b\b\b\b\b\b\b\b\b\b\b\b\b\b\b\b\b\b\b\b\b\b\b\b\b\b\b\b\b\b\b\b\b\b\r407/407 [==============================] - 97s 238ms/step - loss: 0.2244 - accuracy: 0.9050 - val_loss: 0.1684 - val_accuracy: 0.9304\n",
            "Epoch 45/200\n",
            "407/407 [==============================] - 92s 225ms/step - loss: 0.2174 - accuracy: 0.9087 - val_loss: 0.1783 - val_accuracy: 0.9304\n",
            "Epoch 46/200\n",
            "407/407 [==============================] - 91s 223ms/step - loss: 0.2159 - accuracy: 0.9109 - val_loss: 0.1812 - val_accuracy: 0.9318\n",
            "Epoch 47/200\n",
            "407/407 [==============================] - 91s 223ms/step - loss: 0.2156 - accuracy: 0.9074 - val_loss: 0.1750 - val_accuracy: 0.9278\n",
            "Epoch 48/200\n",
            "407/407 [==============================] - ETA: 0s - loss: 0.2176 - accuracy: 0.9073"
          ]
        },
        {
          "output_type": "stream",
          "name": "stderr",
          "text": [
            "WARNING:absl:Found untraced functions such as _jit_compiled_convolution_op, _jit_compiled_convolution_op, _jit_compiled_convolution_op, _jit_compiled_convolution_op, _jit_compiled_convolution_op while saving (showing 5 of 16). These functions will not be directly callable after loading.\n"
          ]
        },
        {
          "output_type": "stream",
          "name": "stdout",
          "text": [
            "\b\b\b\b\b\b\b\b\b\b\b\b\b\b\b\b\b\b\b\b\b\b\b\b\b\b\b\b\b\b\b\b\b\b\b\b\b\b\b\b\b\b\b\b\b\b\b\b\b\b\b\b\b\b\b\b\b\b\b\b\b\b\b\b\b\b\b\b\b\b\b\b\b\b\b\b\b\b\b\b\b\b\b\b\r407/407 [==============================] - 92s 226ms/step - loss: 0.2176 - accuracy: 0.9073 - val_loss: 0.1682 - val_accuracy: 0.9409\n",
            "Epoch 49/200\n",
            "407/407 [==============================] - 92s 225ms/step - loss: 0.2162 - accuracy: 0.9110 - val_loss: 0.1777 - val_accuracy: 0.9304\n",
            "Epoch 50/200\n",
            "407/407 [==============================] - ETA: 0s - loss: 0.2106 - accuracy: 0.9133"
          ]
        },
        {
          "output_type": "stream",
          "name": "stderr",
          "text": [
            "WARNING:absl:Found untraced functions such as _jit_compiled_convolution_op, _jit_compiled_convolution_op, _jit_compiled_convolution_op, _jit_compiled_convolution_op, _jit_compiled_convolution_op while saving (showing 5 of 16). These functions will not be directly callable after loading.\n"
          ]
        },
        {
          "output_type": "stream",
          "name": "stdout",
          "text": [
            "\b\b\b\b\b\b\b\b\b\b\b\b\b\b\b\b\b\b\b\b\b\b\b\b\b\b\b\b\b\b\b\b\b\b\b\b\b\b\b\b\b\b\b\b\b\b\b\b\b\b\b\b\b\b\b\b\b\b\b\b\b\b\b\b\b\b\b\b\b\b\b\b\b\b\b\b\b\b\b\b\b\b\b\b\r407/407 [==============================] - 93s 229ms/step - loss: 0.2106 - accuracy: 0.9133 - val_loss: 0.1638 - val_accuracy: 0.9252\n",
            "Epoch 51/200\n",
            "407/407 [==============================] - ETA: 0s - loss: 0.2057 - accuracy: 0.9114"
          ]
        },
        {
          "output_type": "stream",
          "name": "stderr",
          "text": [
            "WARNING:absl:Found untraced functions such as _jit_compiled_convolution_op, _jit_compiled_convolution_op, _jit_compiled_convolution_op, _jit_compiled_convolution_op, _jit_compiled_convolution_op while saving (showing 5 of 16). These functions will not be directly callable after loading.\n"
          ]
        },
        {
          "output_type": "stream",
          "name": "stdout",
          "text": [
            "\b\b\b\b\b\b\b\b\b\b\b\b\b\b\b\b\b\b\b\b\b\b\b\b\b\b\b\b\b\b\b\b\b\b\b\b\b\b\b\b\b\b\b\b\b\b\b\b\b\b\b\b\b\b\b\b\b\b\b\b\b\b\b\b\b\b\b\b\b\b\b\b\b\b\b\b\b\b\b\b\b\b\b\b\r407/407 [==============================] - 93s 229ms/step - loss: 0.2057 - accuracy: 0.9114 - val_loss: 0.1577 - val_accuracy: 0.9344\n",
            "Epoch 52/200\n",
            "407/407 [==============================] - 91s 224ms/step - loss: 0.2107 - accuracy: 0.9107 - val_loss: 0.1624 - val_accuracy: 0.9409\n",
            "Epoch 53/200\n",
            "407/407 [==============================] - 90s 221ms/step - loss: 0.2108 - accuracy: 0.9137 - val_loss: 0.1793 - val_accuracy: 0.9318\n",
            "Epoch 54/200\n",
            "407/407 [==============================] - 90s 221ms/step - loss: 0.2046 - accuracy: 0.9146 - val_loss: 0.1599 - val_accuracy: 0.9331\n",
            "Epoch 55/200\n",
            "407/407 [==============================] - 91s 223ms/step - loss: 0.2039 - accuracy: 0.9155 - val_loss: 0.2243 - val_accuracy: 0.9094\n",
            "Epoch 56/200\n",
            "407/407 [==============================] - 90s 221ms/step - loss: 0.2076 - accuracy: 0.9168 - val_loss: 0.1594 - val_accuracy: 0.9383\n",
            "Epoch 57/200\n",
            "407/407 [==============================] - 90s 220ms/step - loss: 0.2059 - accuracy: 0.9148 - val_loss: 0.1815 - val_accuracy: 0.9318\n",
            "Epoch 58/200\n",
            "407/407 [==============================] - 90s 220ms/step - loss: 0.2123 - accuracy: 0.9119 - val_loss: 0.1904 - val_accuracy: 0.9265\n",
            "Epoch 59/200\n",
            "407/407 [==============================] - 89s 218ms/step - loss: 0.2042 - accuracy: 0.9160 - val_loss: 0.1728 - val_accuracy: 0.9357\n",
            "Epoch 60/200\n",
            "407/407 [==============================] - 90s 220ms/step - loss: 0.2014 - accuracy: 0.9158 - val_loss: 0.1671 - val_accuracy: 0.9304\n",
            "Epoch 61/200\n",
            "407/407 [==============================] - 89s 219ms/step - loss: 0.1927 - accuracy: 0.9189 - val_loss: 0.1658 - val_accuracy: 0.9370\n",
            "Epoch 62/200\n",
            "407/407 [==============================] - ETA: 0s - loss: 0.2017 - accuracy: 0.9176"
          ]
        },
        {
          "output_type": "stream",
          "name": "stderr",
          "text": [
            "WARNING:absl:Found untraced functions such as _jit_compiled_convolution_op, _jit_compiled_convolution_op, _jit_compiled_convolution_op, _jit_compiled_convolution_op, _jit_compiled_convolution_op while saving (showing 5 of 16). These functions will not be directly callable after loading.\n"
          ]
        },
        {
          "output_type": "stream",
          "name": "stdout",
          "text": [
            "\b\b\b\b\b\b\b\b\b\b\b\b\b\b\b\b\b\b\b\b\b\b\b\b\b\b\b\b\b\b\b\b\b\b\b\b\b\b\b\b\b\b\b\b\b\b\b\b\b\b\b\b\b\b\b\b\b\b\b\b\b\b\b\b\b\b\b\b\b\b\b\b\b\b\b\b\b\b\b\b\b\b\b\b\r407/407 [==============================] - 92s 225ms/step - loss: 0.2017 - accuracy: 0.9176 - val_loss: 0.1546 - val_accuracy: 0.9396\n",
            "Epoch 63/200\n",
            "407/407 [==============================] - 93s 229ms/step - loss: 0.2022 - accuracy: 0.9148 - val_loss: 0.1723 - val_accuracy: 0.9357\n",
            "Epoch 64/200\n",
            "407/407 [==============================] - 96s 237ms/step - loss: 0.1971 - accuracy: 0.9184 - val_loss: 0.1576 - val_accuracy: 0.9423\n",
            "Epoch 65/200\n",
            "407/407 [==============================] - ETA: 0s - loss: 0.2036 - accuracy: 0.9160"
          ]
        },
        {
          "output_type": "stream",
          "name": "stderr",
          "text": [
            "WARNING:absl:Found untraced functions such as _jit_compiled_convolution_op, _jit_compiled_convolution_op, _jit_compiled_convolution_op, _jit_compiled_convolution_op, _jit_compiled_convolution_op while saving (showing 5 of 16). These functions will not be directly callable after loading.\n"
          ]
        },
        {
          "output_type": "stream",
          "name": "stdout",
          "text": [
            "\b\b\b\b\b\b\b\b\b\b\b\b\b\b\b\b\b\b\b\b\b\b\b\b\b\b\b\b\b\b\b\b\b\b\b\b\b\b\b\b\b\b\b\b\b\b\b\b\b\b\b\b\b\b\b\b\b\b\b\b\b\b\b\b\b\b\b\b\b\b\b\b\b\b\b\b\b\b\b\b\b\b\b\b\r407/407 [==============================] - 95s 232ms/step - loss: 0.2036 - accuracy: 0.9160 - val_loss: 0.1505 - val_accuracy: 0.9475\n",
            "Epoch 66/200\n",
            "407/407 [==============================] - 90s 220ms/step - loss: 0.2047 - accuracy: 0.9148 - val_loss: 0.2558 - val_accuracy: 0.8963\n",
            "Epoch 67/200\n",
            "407/407 [==============================] - 90s 220ms/step - loss: 0.1936 - accuracy: 0.9210 - val_loss: 0.1581 - val_accuracy: 0.9370\n",
            "Epoch 68/200\n",
            "407/407 [==============================] - 90s 222ms/step - loss: 0.1977 - accuracy: 0.9184 - val_loss: 0.1720 - val_accuracy: 0.9331\n",
            "Epoch 69/200\n",
            "407/407 [==============================] - 89s 218ms/step - loss: 0.1958 - accuracy: 0.9217 - val_loss: 0.1617 - val_accuracy: 0.9370\n",
            "Epoch 70/200\n",
            "407/407 [==============================] - 90s 220ms/step - loss: 0.1904 - accuracy: 0.9235 - val_loss: 0.1636 - val_accuracy: 0.9396\n",
            "Epoch 71/200\n",
            "407/407 [==============================] - 89s 218ms/step - loss: 0.1910 - accuracy: 0.9215 - val_loss: 0.1757 - val_accuracy: 0.9291\n",
            "Epoch 72/200\n",
            "407/407 [==============================] - 89s 219ms/step - loss: 0.1928 - accuracy: 0.9217 - val_loss: 0.1560 - val_accuracy: 0.9462\n",
            "Epoch 73/200\n",
            "407/407 [==============================] - 90s 220ms/step - loss: 0.1922 - accuracy: 0.9237 - val_loss: 0.1582 - val_accuracy: 0.9409\n",
            "Epoch 74/200\n",
            "407/407 [==============================] - 91s 223ms/step - loss: 0.1850 - accuracy: 0.9245 - val_loss: 0.1560 - val_accuracy: 0.9423\n",
            "Epoch 75/200\n",
            "407/407 [==============================] - ETA: 0s - loss: 0.1881 - accuracy: 0.9240"
          ]
        },
        {
          "output_type": "stream",
          "name": "stderr",
          "text": [
            "WARNING:absl:Found untraced functions such as _jit_compiled_convolution_op, _jit_compiled_convolution_op, _jit_compiled_convolution_op, _jit_compiled_convolution_op, _jit_compiled_convolution_op while saving (showing 5 of 16). These functions will not be directly callable after loading.\n"
          ]
        },
        {
          "output_type": "stream",
          "name": "stdout",
          "text": [
            "\b\b\b\b\b\b\b\b\b\b\b\b\b\b\b\b\b\b\b\b\b\b\b\b\b\b\b\b\b\b\b\b\b\b\b\b\b\b\b\b\b\b\b\b\b\b\b\b\b\b\b\b\b\b\b\b\b\b\b\b\b\b\b\b\b\b\b\b\b\b\b\b\b\b\b\b\b\b\b\b\b\b\b\b\r407/407 [==============================] - 97s 237ms/step - loss: 0.1881 - accuracy: 0.9240 - val_loss: 0.1484 - val_accuracy: 0.9449\n",
            "Epoch 76/200\n",
            "407/407 [==============================] - 97s 238ms/step - loss: 0.1933 - accuracy: 0.9250 - val_loss: 0.1553 - val_accuracy: 0.9436\n",
            "Epoch 77/200\n",
            "407/407 [==============================] - ETA: 0s - loss: 0.1810 - accuracy: 0.9248"
          ]
        },
        {
          "output_type": "stream",
          "name": "stderr",
          "text": [
            "WARNING:absl:Found untraced functions such as _jit_compiled_convolution_op, _jit_compiled_convolution_op, _jit_compiled_convolution_op, _jit_compiled_convolution_op, _jit_compiled_convolution_op while saving (showing 5 of 16). These functions will not be directly callable after loading.\n"
          ]
        },
        {
          "output_type": "stream",
          "name": "stdout",
          "text": [
            "\b\b\b\b\b\b\b\b\b\b\b\b\b\b\b\b\b\b\b\b\b\b\b\b\b\b\b\b\b\b\b\b\b\b\b\b\b\b\b\b\b\b\b\b\b\b\b\b\b\b\b\b\b\b\b\b\b\b\b\b\b\b\b\b\b\b\b\b\b\b\b\b\b\b\b\b\b\b\b\b\b\b\b\b\r407/407 [==============================] - 96s 236ms/step - loss: 0.1810 - accuracy: 0.9248 - val_loss: 0.1461 - val_accuracy: 0.9514\n",
            "Epoch 78/200\n",
            "407/407 [==============================] - 89s 219ms/step - loss: 0.1775 - accuracy: 0.9289 - val_loss: 0.1582 - val_accuracy: 0.9409\n",
            "Epoch 79/200\n",
            "407/407 [==============================] - 88s 216ms/step - loss: 0.1786 - accuracy: 0.9247 - val_loss: 0.1696 - val_accuracy: 0.9278\n",
            "Epoch 80/200\n",
            "407/407 [==============================] - 88s 215ms/step - loss: 0.1818 - accuracy: 0.9263 - val_loss: 0.1480 - val_accuracy: 0.9475\n",
            "Epoch 81/200\n",
            "407/407 [==============================] - 88s 215ms/step - loss: 0.1788 - accuracy: 0.9261 - val_loss: 0.1514 - val_accuracy: 0.9501\n",
            "Epoch 82/200\n",
            "407/407 [==============================] - 88s 216ms/step - loss: 0.1878 - accuracy: 0.9265 - val_loss: 0.1704 - val_accuracy: 0.9344\n",
            "Epoch 83/200\n",
            "407/407 [==============================] - 88s 215ms/step - loss: 0.1834 - accuracy: 0.9238 - val_loss: 0.2169 - val_accuracy: 0.9134\n",
            "Epoch 84/200\n",
            "407/407 [==============================] - 89s 219ms/step - loss: 0.1840 - accuracy: 0.9237 - val_loss: 0.1674 - val_accuracy: 0.9409\n",
            "Epoch 85/200\n",
            "407/407 [==============================] - ETA: 0s - loss: 0.1782 - accuracy: 0.9291"
          ]
        },
        {
          "output_type": "stream",
          "name": "stderr",
          "text": [
            "WARNING:absl:Found untraced functions such as _jit_compiled_convolution_op, _jit_compiled_convolution_op, _jit_compiled_convolution_op, _jit_compiled_convolution_op, _jit_compiled_convolution_op while saving (showing 5 of 16). These functions will not be directly callable after loading.\n"
          ]
        },
        {
          "output_type": "stream",
          "name": "stdout",
          "text": [
            "\b\b\b\b\b\b\b\b\b\b\b\b\b\b\b\b\b\b\b\b\b\b\b\b\b\b\b\b\b\b\b\b\b\b\b\b\b\b\b\b\b\b\b\b\b\b\b\b\b\b\b\b\b\b\b\b\b\b\b\b\b\b\b\b\b\b\b\b\b\b\b\b\b\b\b\b\b\b\b\b\b\b\b\b\r407/407 [==============================] - 91s 223ms/step - loss: 0.1782 - accuracy: 0.9291 - val_loss: 0.1407 - val_accuracy: 0.9501\n",
            "Epoch 86/200\n",
            "407/407 [==============================] - 90s 221ms/step - loss: 0.1741 - accuracy: 0.9284 - val_loss: 0.1472 - val_accuracy: 0.9436\n",
            "Epoch 87/200\n",
            "407/407 [==============================] - 90s 222ms/step - loss: 0.1733 - accuracy: 0.9319 - val_loss: 0.1475 - val_accuracy: 0.9475\n",
            "Epoch 88/200\n",
            "407/407 [==============================] - 90s 222ms/step - loss: 0.1782 - accuracy: 0.9261 - val_loss: 0.1735 - val_accuracy: 0.9370\n",
            "Epoch 89/200\n",
            "407/407 [==============================] - 90s 222ms/step - loss: 0.1783 - accuracy: 0.9255 - val_loss: 0.1642 - val_accuracy: 0.9409\n",
            "Epoch 90/200\n",
            "407/407 [==============================] - 93s 228ms/step - loss: 0.1683 - accuracy: 0.9325 - val_loss: 0.1739 - val_accuracy: 0.9357\n",
            "Epoch 91/200\n",
            "407/407 [==============================] - 93s 229ms/step - loss: 0.1673 - accuracy: 0.9324 - val_loss: 0.1823 - val_accuracy: 0.9278\n",
            "Epoch 92/200\n",
            "407/407 [==============================] - 94s 230ms/step - loss: 0.1703 - accuracy: 0.9311 - val_loss: 0.1654 - val_accuracy: 0.9396\n",
            "Epoch 93/200\n",
            "407/407 [==============================] - 92s 226ms/step - loss: 0.1749 - accuracy: 0.9276 - val_loss: 0.1721 - val_accuracy: 0.9357\n",
            "Epoch 94/200\n",
            "407/407 [==============================] - 93s 228ms/step - loss: 0.1735 - accuracy: 0.9235 - val_loss: 0.1571 - val_accuracy: 0.9423\n",
            "Epoch 95/200\n",
            "407/407 [==============================] - ETA: 0s - loss: 0.1695 - accuracy: 0.9329"
          ]
        },
        {
          "output_type": "stream",
          "name": "stderr",
          "text": [
            "WARNING:absl:Found untraced functions such as _jit_compiled_convolution_op, _jit_compiled_convolution_op, _jit_compiled_convolution_op, _jit_compiled_convolution_op, _jit_compiled_convolution_op while saving (showing 5 of 16). These functions will not be directly callable after loading.\n"
          ]
        },
        {
          "output_type": "stream",
          "name": "stdout",
          "text": [
            "\b\b\b\b\b\b\b\b\b\b\b\b\b\b\b\b\b\b\b\b\b\b\b\b\b\b\b\b\b\b\b\b\b\b\b\b\b\b\b\b\b\b\b\b\b\b\b\b\b\b\b\b\b\b\b\b\b\b\b\b\b\b\b\b\b\b\b\b\b\b\b\b\b\b\b\b\b\b\b\b\b\b\b\b\r407/407 [==============================] - 95s 233ms/step - loss: 0.1695 - accuracy: 0.9329 - val_loss: 0.1398 - val_accuracy: 0.9436\n",
            "Epoch 96/200\n",
            "407/407 [==============================] - ETA: 0s - loss: 0.1651 - accuracy: 0.9329"
          ]
        },
        {
          "output_type": "stream",
          "name": "stderr",
          "text": [
            "WARNING:absl:Found untraced functions such as _jit_compiled_convolution_op, _jit_compiled_convolution_op, _jit_compiled_convolution_op, _jit_compiled_convolution_op, _jit_compiled_convolution_op while saving (showing 5 of 16). These functions will not be directly callable after loading.\n"
          ]
        },
        {
          "output_type": "stream",
          "name": "stdout",
          "text": [
            "\b\b\b\b\b\b\b\b\b\b\b\b\b\b\b\b\b\b\b\b\b\b\b\b\b\b\b\b\b\b\b\b\b\b\b\b\b\b\b\b\b\b\b\b\b\b\b\b\b\b\b\b\b\b\b\b\b\b\b\b\b\b\b\b\b\b\b\b\b\b\b\b\b\b\b\b\b\b\b\b\b\b\b\b\r407/407 [==============================] - 96s 237ms/step - loss: 0.1651 - accuracy: 0.9329 - val_loss: 0.1363 - val_accuracy: 0.9436\n",
            "Epoch 97/200\n",
            "407/407 [==============================] - 92s 226ms/step - loss: 0.1668 - accuracy: 0.9319 - val_loss: 0.1440 - val_accuracy: 0.9462\n",
            "Epoch 98/200\n",
            "407/407 [==============================] - 92s 227ms/step - loss: 0.1653 - accuracy: 0.9345 - val_loss: 0.1445 - val_accuracy: 0.9423\n",
            "Epoch 99/200\n",
            "407/407 [==============================] - ETA: 0s - loss: 0.1725 - accuracy: 0.9268"
          ]
        },
        {
          "output_type": "stream",
          "name": "stderr",
          "text": [
            "WARNING:absl:Found untraced functions such as _jit_compiled_convolution_op, _jit_compiled_convolution_op, _jit_compiled_convolution_op, _jit_compiled_convolution_op, _jit_compiled_convolution_op while saving (showing 5 of 16). These functions will not be directly callable after loading.\n"
          ]
        },
        {
          "output_type": "stream",
          "name": "stdout",
          "text": [
            "\b\b\b\b\b\b\b\b\b\b\b\b\b\b\b\b\b\b\b\b\b\b\b\b\b\b\b\b\b\b\b\b\b\b\b\b\b\b\b\b\b\b\b\b\b\b\b\b\b\b\b\b\b\b\b\b\b\b\b\b\b\b\b\b\b\b\b\b\b\b\b\b\b\b\b\b\b\b\b\b\b\b\b\b\r407/407 [==============================] - 95s 233ms/step - loss: 0.1725 - accuracy: 0.9268 - val_loss: 0.1363 - val_accuracy: 0.9475\n",
            "Epoch 100/200\n",
            "407/407 [==============================] - 90s 221ms/step - loss: 0.1729 - accuracy: 0.9288 - val_loss: 0.1446 - val_accuracy: 0.9436\n",
            "Epoch 101/200\n",
            "407/407 [==============================] - 89s 219ms/step - loss: 0.1651 - accuracy: 0.9330 - val_loss: 0.1478 - val_accuracy: 0.9409\n",
            "Epoch 102/200\n",
            "407/407 [==============================] - 91s 224ms/step - loss: 0.1706 - accuracy: 0.9286 - val_loss: 0.1417 - val_accuracy: 0.9567\n",
            "Epoch 103/200\n",
            "407/407 [==============================] - ETA: 0s - loss: 0.1706 - accuracy: 0.9294"
          ]
        },
        {
          "output_type": "stream",
          "name": "stderr",
          "text": [
            "WARNING:absl:Found untraced functions such as _jit_compiled_convolution_op, _jit_compiled_convolution_op, _jit_compiled_convolution_op, _jit_compiled_convolution_op, _jit_compiled_convolution_op while saving (showing 5 of 16). These functions will not be directly callable after loading.\n"
          ]
        },
        {
          "output_type": "stream",
          "name": "stdout",
          "text": [
            "\b\b\b\b\b\b\b\b\b\b\b\b\b\b\b\b\b\b\b\b\b\b\b\b\b\b\b\b\b\b\b\b\b\b\b\b\b\b\b\b\b\b\b\b\b\b\b\b\b\b\b\b\b\b\b\b\b\b\b\b\b\b\b\b\b\b\b\b\b\b\b\b\b\b\b\b\b\b\b\b\b\b\b\b\r407/407 [==============================] - 95s 233ms/step - loss: 0.1706 - accuracy: 0.9294 - val_loss: 0.1356 - val_accuracy: 0.9501\n",
            "Epoch 104/200\n",
            "407/407 [==============================] - ETA: 0s - loss: 0.1658 - accuracy: 0.9319"
          ]
        },
        {
          "output_type": "stream",
          "name": "stderr",
          "text": [
            "WARNING:absl:Found untraced functions such as _jit_compiled_convolution_op, _jit_compiled_convolution_op, _jit_compiled_convolution_op, _jit_compiled_convolution_op, _jit_compiled_convolution_op while saving (showing 5 of 16). These functions will not be directly callable after loading.\n"
          ]
        },
        {
          "output_type": "stream",
          "name": "stdout",
          "text": [
            "\b\b\b\b\b\b\b\b\b\b\b\b\b\b\b\b\b\b\b\b\b\b\b\b\b\b\b\b\b\b\b\b\b\b\b\b\b\b\b\b\b\b\b\b\b\b\b\b\b\b\b\b\b\b\b\b\b\b\b\b\b\b\b\b\b\b\b\b\b\b\b\b\b\b\b\b\b\b\b\b\b\b\b\b\r407/407 [==============================] - 92s 227ms/step - loss: 0.1658 - accuracy: 0.9319 - val_loss: 0.1310 - val_accuracy: 0.9554\n",
            "Epoch 105/200\n",
            "407/407 [==============================] - 92s 226ms/step - loss: 0.1597 - accuracy: 0.9365 - val_loss: 0.1358 - val_accuracy: 0.9488\n",
            "Epoch 106/200\n",
            "407/407 [==============================] - 90s 221ms/step - loss: 0.1564 - accuracy: 0.9371 - val_loss: 0.1407 - val_accuracy: 0.9449\n",
            "Epoch 107/200\n",
            "407/407 [==============================] - 96s 235ms/step - loss: 0.1688 - accuracy: 0.9306 - val_loss: 0.1565 - val_accuracy: 0.9383\n",
            "Epoch 108/200\n",
            "407/407 [==============================] - 112s 276ms/step - loss: 0.1679 - accuracy: 0.9286 - val_loss: 0.1654 - val_accuracy: 0.9344\n",
            "Epoch 109/200\n",
            "407/407 [==============================] - 104s 256ms/step - loss: 0.1584 - accuracy: 0.9368 - val_loss: 0.1415 - val_accuracy: 0.9475\n",
            "Epoch 110/200\n",
            "407/407 [==============================] - 91s 224ms/step - loss: 0.1600 - accuracy: 0.9355 - val_loss: 0.1327 - val_accuracy: 0.9554\n",
            "Epoch 111/200\n",
            "407/407 [==============================] - 92s 225ms/step - loss: 0.1581 - accuracy: 0.9337 - val_loss: 0.1392 - val_accuracy: 0.9449\n",
            "Epoch 112/200\n",
            "407/407 [==============================] - 88s 217ms/step - loss: 0.1561 - accuracy: 0.9373 - val_loss: 0.1393 - val_accuracy: 0.9528\n",
            "Epoch 113/200\n",
            "407/407 [==============================] - 89s 219ms/step - loss: 0.1546 - accuracy: 0.9384 - val_loss: 0.1332 - val_accuracy: 0.9462\n",
            "Epoch 114/200\n",
            "407/407 [==============================] - 89s 218ms/step - loss: 0.1568 - accuracy: 0.9375 - val_loss: 0.1363 - val_accuracy: 0.9514\n",
            "Epoch 115/200\n",
            "407/407 [==============================] - 89s 220ms/step - loss: 0.1635 - accuracy: 0.9357 - val_loss: 0.1314 - val_accuracy: 0.9554\n",
            "Epoch 116/200\n",
            "407/407 [==============================] - 89s 218ms/step - loss: 0.1602 - accuracy: 0.9337 - val_loss: 0.1716 - val_accuracy: 0.9304\n",
            "Epoch 117/200\n",
            "407/407 [==============================] - 89s 218ms/step - loss: 0.1531 - accuracy: 0.9391 - val_loss: 0.1322 - val_accuracy: 0.9554\n",
            "Epoch 118/200\n",
            "407/407 [==============================] - 88s 215ms/step - loss: 0.1555 - accuracy: 0.9373 - val_loss: 0.1386 - val_accuracy: 0.9488\n",
            "Epoch 119/200\n",
            "407/407 [==============================] - 89s 219ms/step - loss: 0.1517 - accuracy: 0.9383 - val_loss: 0.1750 - val_accuracy: 0.9344\n",
            "Epoch 120/200\n",
            "407/407 [==============================] - 89s 218ms/step - loss: 0.1447 - accuracy: 0.9414 - val_loss: 0.1496 - val_accuracy: 0.9449\n",
            "Epoch 121/200\n",
            "407/407 [==============================] - 90s 221ms/step - loss: 0.1600 - accuracy: 0.9348 - val_loss: 0.1420 - val_accuracy: 0.9462\n",
            "Epoch 122/200\n",
            "407/407 [==============================] - 89s 218ms/step - loss: 0.1553 - accuracy: 0.9368 - val_loss: 0.1421 - val_accuracy: 0.9462\n",
            "Epoch 123/200\n",
            "407/407 [==============================] - 89s 220ms/step - loss: 0.1492 - accuracy: 0.9393 - val_loss: 0.1350 - val_accuracy: 0.9528\n",
            "Epoch 124/200\n",
            "407/407 [==============================] - 89s 218ms/step - loss: 0.1580 - accuracy: 0.9361 - val_loss: 0.1599 - val_accuracy: 0.9357\n",
            "Epoch 125/200\n",
            "407/407 [==============================] - 88s 217ms/step - loss: 0.1509 - accuracy: 0.9394 - val_loss: 0.1365 - val_accuracy: 0.9528\n",
            "Epoch 126/200\n",
            "407/407 [==============================] - 89s 218ms/step - loss: 0.1496 - accuracy: 0.9383 - val_loss: 0.1510 - val_accuracy: 0.9396\n",
            "Epoch 127/200\n",
            "407/407 [==============================] - 88s 217ms/step - loss: 0.1528 - accuracy: 0.9357 - val_loss: 0.1426 - val_accuracy: 0.9436\n",
            "Epoch 128/200\n",
            "407/407 [==============================] - 89s 218ms/step - loss: 0.1499 - accuracy: 0.9409 - val_loss: 0.1508 - val_accuracy: 0.9370\n",
            "Epoch 129/200\n",
            "407/407 [==============================] - 89s 219ms/step - loss: 0.1589 - accuracy: 0.9380 - val_loss: 0.1352 - val_accuracy: 0.9501\n",
            "Epoch 130/200\n",
            "407/407 [==============================] - 89s 218ms/step - loss: 0.1414 - accuracy: 0.9421 - val_loss: 0.1829 - val_accuracy: 0.9291\n",
            "Epoch 131/200\n",
            "407/407 [==============================] - 90s 220ms/step - loss: 0.1485 - accuracy: 0.9411 - val_loss: 0.1615 - val_accuracy: 0.9357\n",
            "Epoch 132/200\n",
            "407/407 [==============================] - 92s 226ms/step - loss: 0.1499 - accuracy: 0.9407 - val_loss: 0.1326 - val_accuracy: 0.9449\n",
            "Epoch 133/200\n",
            "407/407 [==============================] - 92s 226ms/step - loss: 0.1535 - accuracy: 0.9361 - val_loss: 0.1371 - val_accuracy: 0.9488\n",
            "Epoch 134/200\n",
            "407/407 [==============================] - 90s 222ms/step - loss: 0.1387 - accuracy: 0.9435 - val_loss: 0.1647 - val_accuracy: 0.9383\n",
            "Epoch 135/200\n",
            "407/407 [==============================] - 94s 230ms/step - loss: 0.1469 - accuracy: 0.9394 - val_loss: 0.1948 - val_accuracy: 0.9304\n",
            "Epoch 136/200\n",
            "407/407 [==============================] - ETA: 0s - loss: 0.1446 - accuracy: 0.9429"
          ]
        },
        {
          "output_type": "stream",
          "name": "stderr",
          "text": [
            "WARNING:absl:Found untraced functions such as _jit_compiled_convolution_op, _jit_compiled_convolution_op, _jit_compiled_convolution_op, _jit_compiled_convolution_op, _jit_compiled_convolution_op while saving (showing 5 of 16). These functions will not be directly callable after loading.\n"
          ]
        },
        {
          "output_type": "stream",
          "name": "stdout",
          "text": [
            "\b\b\b\b\b\b\b\b\b\b\b\b\b\b\b\b\b\b\b\b\b\b\b\b\b\b\b\b\b\b\b\b\b\b\b\b\b\b\b\b\b\b\b\b\b\b\b\b\b\b\b\b\b\b\b\b\b\b\b\b\b\b\b\b\b\b\b\b\b\b\b\b\b\b\b\b\b\b\b\b\b\b\b\b\r407/407 [==============================] - 95s 234ms/step - loss: 0.1446 - accuracy: 0.9429 - val_loss: 0.1299 - val_accuracy: 0.9475\n",
            "Epoch 137/200\n",
            "407/407 [==============================] - ETA: 0s - loss: 0.1492 - accuracy: 0.9404"
          ]
        },
        {
          "output_type": "stream",
          "name": "stderr",
          "text": [
            "WARNING:absl:Found untraced functions such as _jit_compiled_convolution_op, _jit_compiled_convolution_op, _jit_compiled_convolution_op, _jit_compiled_convolution_op, _jit_compiled_convolution_op while saving (showing 5 of 16). These functions will not be directly callable after loading.\n"
          ]
        },
        {
          "output_type": "stream",
          "name": "stdout",
          "text": [
            "\b\b\b\b\b\b\b\b\b\b\b\b\b\b\b\b\b\b\b\b\b\b\b\b\b\b\b\b\b\b\b\b\b\b\b\b\b\b\b\b\b\b\b\b\b\b\b\b\b\b\b\b\b\b\b\b\b\b\b\b\b\b\b\b\b\b\b\b\b\b\b\b\b\b\b\b\b\b\b\b\b\b\b\b\r407/407 [==============================] - 95s 233ms/step - loss: 0.1492 - accuracy: 0.9404 - val_loss: 0.1217 - val_accuracy: 0.9501\n",
            "Epoch 138/200\n",
            "407/407 [==============================] - 92s 225ms/step - loss: 0.1407 - accuracy: 0.9417 - val_loss: 0.1405 - val_accuracy: 0.9449\n",
            "Epoch 139/200\n",
            "407/407 [==============================] - 91s 225ms/step - loss: 0.1519 - accuracy: 0.9406 - val_loss: 0.1418 - val_accuracy: 0.9423\n",
            "Epoch 140/200\n",
            "407/407 [==============================] - 90s 220ms/step - loss: 0.1448 - accuracy: 0.9396 - val_loss: 0.1315 - val_accuracy: 0.9488\n",
            "Epoch 141/200\n",
            "407/407 [==============================] - 92s 225ms/step - loss: 0.1480 - accuracy: 0.9407 - val_loss: 0.1715 - val_accuracy: 0.9291\n",
            "Epoch 142/200\n",
            "407/407 [==============================] - 92s 227ms/step - loss: 0.1439 - accuracy: 0.9416 - val_loss: 0.1467 - val_accuracy: 0.9449\n",
            "Epoch 143/200\n",
            "407/407 [==============================] - 93s 228ms/step - loss: 0.1508 - accuracy: 0.9419 - val_loss: 0.1280 - val_accuracy: 0.9541\n",
            "Epoch 144/200\n",
            "407/407 [==============================] - 90s 222ms/step - loss: 0.1479 - accuracy: 0.9417 - val_loss: 0.2400 - val_accuracy: 0.9121\n",
            "Epoch 145/200\n",
            "407/407 [==============================] - 90s 222ms/step - loss: 0.1457 - accuracy: 0.9378 - val_loss: 0.1301 - val_accuracy: 0.9501\n",
            "Epoch 146/200\n",
            "407/407 [==============================] - 91s 224ms/step - loss: 0.1297 - accuracy: 0.9519 - val_loss: 0.1246 - val_accuracy: 0.9567\n",
            "Epoch 147/200\n",
            "407/407 [==============================] - 92s 226ms/step - loss: 0.1463 - accuracy: 0.9406 - val_loss: 0.1273 - val_accuracy: 0.9462\n",
            "Epoch 148/200\n",
            "407/407 [==============================] - 92s 227ms/step - loss: 0.1467 - accuracy: 0.9407 - val_loss: 0.1326 - val_accuracy: 0.9462\n",
            "Epoch 149/200\n",
            "407/407 [==============================] - 94s 230ms/step - loss: 0.1365 - accuracy: 0.9467 - val_loss: 0.1350 - val_accuracy: 0.9488\n",
            "Epoch 150/200\n",
            "407/407 [==============================] - 90s 221ms/step - loss: 0.1506 - accuracy: 0.9394 - val_loss: 0.1619 - val_accuracy: 0.9357\n",
            "Epoch 151/200\n",
            "407/407 [==============================] - 90s 222ms/step - loss: 0.1491 - accuracy: 0.9394 - val_loss: 0.1255 - val_accuracy: 0.9567\n",
            "Epoch 152/200\n",
            "407/407 [==============================] - 89s 219ms/step - loss: 0.1366 - accuracy: 0.9445 - val_loss: 0.1288 - val_accuracy: 0.9528\n",
            "Epoch 153/200\n",
            "407/407 [==============================] - 90s 220ms/step - loss: 0.1505 - accuracy: 0.9388 - val_loss: 0.1282 - val_accuracy: 0.9567\n",
            "Epoch 154/200\n",
            "407/407 [==============================] - 89s 219ms/step - loss: 0.1335 - accuracy: 0.9493 - val_loss: 0.1327 - val_accuracy: 0.9462\n",
            "Epoch 155/200\n",
            "407/407 [==============================] - 88s 217ms/step - loss: 0.1329 - accuracy: 0.9450 - val_loss: 0.1646 - val_accuracy: 0.9423\n",
            "Epoch 156/200\n",
            "407/407 [==============================] - 88s 216ms/step - loss: 0.1346 - accuracy: 0.9455 - val_loss: 0.1776 - val_accuracy: 0.9383\n",
            "Epoch 157/200\n",
            "407/407 [==============================] - 89s 217ms/step - loss: 0.1354 - accuracy: 0.9448 - val_loss: 0.1693 - val_accuracy: 0.9409\n",
            "Epoch 158/200\n",
            "407/407 [==============================] - ETA: 0s - loss: 0.1415 - accuracy: 0.9424"
          ]
        },
        {
          "output_type": "stream",
          "name": "stderr",
          "text": [
            "WARNING:absl:Found untraced functions such as _jit_compiled_convolution_op, _jit_compiled_convolution_op, _jit_compiled_convolution_op, _jit_compiled_convolution_op, _jit_compiled_convolution_op while saving (showing 5 of 16). These functions will not be directly callable after loading.\n"
          ]
        },
        {
          "output_type": "stream",
          "name": "stdout",
          "text": [
            "\b\b\b\b\b\b\b\b\b\b\b\b\b\b\b\b\b\b\b\b\b\b\b\b\b\b\b\b\b\b\b\b\b\b\b\b\b\b\b\b\b\b\b\b\b\b\b\b\b\b\b\b\b\b\b\b\b\b\b\b\b\b\b\b\b\b\b\b\b\b\b\b\b\b\b\b\b\b\b\b\b\b\b\b\r407/407 [==============================] - 93s 228ms/step - loss: 0.1415 - accuracy: 0.9424 - val_loss: 0.1159 - val_accuracy: 0.9580\n",
            "Epoch 159/200\n",
            "407/407 [==============================] - 91s 224ms/step - loss: 0.1417 - accuracy: 0.9434 - val_loss: 0.1247 - val_accuracy: 0.9593\n",
            "Epoch 160/200\n",
            "407/407 [==============================] - 96s 235ms/step - loss: 0.1364 - accuracy: 0.9442 - val_loss: 0.1541 - val_accuracy: 0.9423\n",
            "Epoch 161/200\n",
            "407/407 [==============================] - 98s 241ms/step - loss: 0.1419 - accuracy: 0.9429 - val_loss: 0.1249 - val_accuracy: 0.9580\n",
            "Epoch 162/200\n",
            "407/407 [==============================] - 95s 233ms/step - loss: 0.1429 - accuracy: 0.9455 - val_loss: 0.1203 - val_accuracy: 0.9659\n",
            "Epoch 163/200\n",
            "407/407 [==============================] - 95s 233ms/step - loss: 0.1327 - accuracy: 0.9458 - val_loss: 0.1197 - val_accuracy: 0.9541\n",
            "Epoch 164/200\n",
            "407/407 [==============================] - 92s 226ms/step - loss: 0.1331 - accuracy: 0.9468 - val_loss: 0.1161 - val_accuracy: 0.9567\n",
            "Epoch 165/200\n",
            "407/407 [==============================] - 93s 228ms/step - loss: 0.1402 - accuracy: 0.9457 - val_loss: 0.1302 - val_accuracy: 0.9501\n",
            "Epoch 166/200\n",
            "407/407 [==============================] - 91s 223ms/step - loss: 0.1376 - accuracy: 0.9442 - val_loss: 0.1196 - val_accuracy: 0.9541\n",
            "Epoch 167/200\n",
            "407/407 [==============================] - 90s 221ms/step - loss: 0.1392 - accuracy: 0.9444 - val_loss: 0.1164 - val_accuracy: 0.9514\n",
            "Epoch 168/200\n",
            "407/407 [==============================] - 89s 219ms/step - loss: 0.1263 - accuracy: 0.9524 - val_loss: 0.1178 - val_accuracy: 0.9541\n",
            "Epoch 169/200\n",
            "407/407 [==============================] - 90s 221ms/step - loss: 0.1347 - accuracy: 0.9471 - val_loss: 0.1555 - val_accuracy: 0.9436\n",
            "Epoch 170/200\n",
            "407/407 [==============================] - 90s 220ms/step - loss: 0.1345 - accuracy: 0.9473 - val_loss: 0.1185 - val_accuracy: 0.9514\n",
            "Epoch 171/200\n",
            "407/407 [==============================] - 92s 226ms/step - loss: 0.1363 - accuracy: 0.9440 - val_loss: 0.1359 - val_accuracy: 0.9462\n",
            "Epoch 172/200\n",
            "407/407 [==============================] - 90s 221ms/step - loss: 0.1245 - accuracy: 0.9508 - val_loss: 0.1230 - val_accuracy: 0.9541\n",
            "Epoch 173/200\n",
            "407/407 [==============================] - 92s 225ms/step - loss: 0.1380 - accuracy: 0.9444 - val_loss: 0.1164 - val_accuracy: 0.9528\n",
            "Epoch 174/200\n",
            "407/407 [==============================] - 92s 226ms/step - loss: 0.1405 - accuracy: 0.9437 - val_loss: 0.1169 - val_accuracy: 0.9554\n",
            "Epoch 175/200\n",
            "407/407 [==============================] - 90s 220ms/step - loss: 0.1364 - accuracy: 0.9442 - val_loss: 0.1168 - val_accuracy: 0.9593\n",
            "Epoch 176/200\n",
            "407/407 [==============================] - 91s 223ms/step - loss: 0.1250 - accuracy: 0.9491 - val_loss: 0.1172 - val_accuracy: 0.9554\n",
            "Epoch 177/200\n",
            "407/407 [==============================] - 90s 221ms/step - loss: 0.1297 - accuracy: 0.9480 - val_loss: 0.1257 - val_accuracy: 0.9619\n",
            "Epoch 178/200\n",
            "407/407 [==============================] - 90s 222ms/step - loss: 0.1323 - accuracy: 0.9450 - val_loss: 0.1192 - val_accuracy: 0.9554\n",
            "Epoch 179/200\n",
            "407/407 [==============================] - 91s 223ms/step - loss: 0.1312 - accuracy: 0.9457 - val_loss: 0.1827 - val_accuracy: 0.9383\n",
            "Epoch 180/200\n",
            "407/407 [==============================] - 91s 223ms/step - loss: 0.1378 - accuracy: 0.9419 - val_loss: 0.1476 - val_accuracy: 0.9449\n",
            "Epoch 181/200\n",
            "407/407 [==============================] - ETA: 0s - loss: 0.1265 - accuracy: 0.9489"
          ]
        },
        {
          "output_type": "stream",
          "name": "stderr",
          "text": [
            "WARNING:absl:Found untraced functions such as _jit_compiled_convolution_op, _jit_compiled_convolution_op, _jit_compiled_convolution_op, _jit_compiled_convolution_op, _jit_compiled_convolution_op while saving (showing 5 of 16). These functions will not be directly callable after loading.\n"
          ]
        },
        {
          "output_type": "stream",
          "name": "stdout",
          "text": [
            "\b\b\b\b\b\b\b\b\b\b\b\b\b\b\b\b\b\b\b\b\b\b\b\b\b\b\b\b\b\b\b\b\b\b\b\b\b\b\b\b\b\b\b\b\b\b\b\b\b\b\b\b\b\b\b\b\b\b\b\b\b\b\b\b\b\b\b\b\b\b\b\b\b\b\b\b\b\b\b\b\b\b\b\b\r407/407 [==============================] - 94s 231ms/step - loss: 0.1265 - accuracy: 0.9489 - val_loss: 0.1136 - val_accuracy: 0.9593\n",
            "Epoch 182/200\n",
            "407/407 [==============================] - 91s 224ms/step - loss: 0.1313 - accuracy: 0.9471 - val_loss: 0.1235 - val_accuracy: 0.9514\n",
            "Epoch 183/200\n",
            "407/407 [==============================] - 91s 223ms/step - loss: 0.1259 - accuracy: 0.9491 - val_loss: 0.1271 - val_accuracy: 0.9514\n",
            "Epoch 184/200\n",
            "407/407 [==============================] - 92s 225ms/step - loss: 0.1281 - accuracy: 0.9496 - val_loss: 0.1297 - val_accuracy: 0.9475\n",
            "Epoch 185/200\n",
            "407/407 [==============================] - 91s 223ms/step - loss: 0.1323 - accuracy: 0.9463 - val_loss: 0.1261 - val_accuracy: 0.9528\n",
            "Epoch 186/200\n",
            "407/407 [==============================] - 90s 220ms/step - loss: 0.1208 - accuracy: 0.9496 - val_loss: 0.1204 - val_accuracy: 0.9580\n",
            "Epoch 187/200\n",
            "407/407 [==============================] - 91s 223ms/step - loss: 0.1259 - accuracy: 0.9494 - val_loss: 0.1239 - val_accuracy: 0.9514\n",
            "Epoch 188/200\n",
            "407/407 [==============================] - 89s 219ms/step - loss: 0.1324 - accuracy: 0.9480 - val_loss: 0.1246 - val_accuracy: 0.9501\n",
            "Epoch 189/200\n",
            "407/407 [==============================] - 92s 226ms/step - loss: 0.1250 - accuracy: 0.9493 - val_loss: 0.1291 - val_accuracy: 0.9554\n",
            "Epoch 190/200\n",
            "407/407 [==============================] - 89s 218ms/step - loss: 0.1322 - accuracy: 0.9473 - val_loss: 0.1438 - val_accuracy: 0.9409\n",
            "Epoch 191/200\n",
            "407/407 [==============================] - ETA: 0s - loss: 0.1239 - accuracy: 0.9544"
          ]
        },
        {
          "output_type": "stream",
          "name": "stderr",
          "text": [
            "WARNING:absl:Found untraced functions such as _jit_compiled_convolution_op, _jit_compiled_convolution_op, _jit_compiled_convolution_op, _jit_compiled_convolution_op, _jit_compiled_convolution_op while saving (showing 5 of 16). These functions will not be directly callable after loading.\n"
          ]
        },
        {
          "output_type": "stream",
          "name": "stdout",
          "text": [
            "\b\b\b\b\b\b\b\b\b\b\b\b\b\b\b\b\b\b\b\b\b\b\b\b\b\b\b\b\b\b\b\b\b\b\b\b\b\b\b\b\b\b\b\b\b\b\b\b\b\b\b\b\b\b\b\b\b\b\b\b\b\b\b\b\b\b\b\b\b\b\b\b\b\b\b\b\b\b\b\b\b\b\b\b\r407/407 [==============================] - 94s 231ms/step - loss: 0.1239 - accuracy: 0.9544 - val_loss: 0.1119 - val_accuracy: 0.9606\n",
            "Epoch 192/200\n",
            "407/407 [==============================] - 91s 223ms/step - loss: 0.1215 - accuracy: 0.9529 - val_loss: 0.1160 - val_accuracy: 0.9619\n",
            "Epoch 193/200\n",
            "407/407 [==============================] - 90s 222ms/step - loss: 0.1122 - accuracy: 0.9554 - val_loss: 0.1265 - val_accuracy: 0.9528\n",
            "Epoch 194/200\n",
            "407/407 [==============================] - 91s 223ms/step - loss: 0.1284 - accuracy: 0.9496 - val_loss: 0.1634 - val_accuracy: 0.9357\n",
            "Epoch 195/200\n",
            "407/407 [==============================] - ETA: 0s - loss: 0.1307 - accuracy: 0.9476"
          ]
        },
        {
          "output_type": "stream",
          "name": "stderr",
          "text": [
            "WARNING:absl:Found untraced functions such as _jit_compiled_convolution_op, _jit_compiled_convolution_op, _jit_compiled_convolution_op, _jit_compiled_convolution_op, _jit_compiled_convolution_op while saving (showing 5 of 16). These functions will not be directly callable after loading.\n"
          ]
        },
        {
          "output_type": "stream",
          "name": "stdout",
          "text": [
            "\b\b\b\b\b\b\b\b\b\b\b\b\b\b\b\b\b\b\b\b\b\b\b\b\b\b\b\b\b\b\b\b\b\b\b\b\b\b\b\b\b\b\b\b\b\b\b\b\b\b\b\b\b\b\b\b\b\b\b\b\b\b\b\b\b\b\b\b\b\b\b\b\b\b\b\b\b\b\b\b\b\b\b\b\r407/407 [==============================] - 94s 231ms/step - loss: 0.1307 - accuracy: 0.9476 - val_loss: 0.1097 - val_accuracy: 0.9580\n",
            "Epoch 196/200\n",
            "407/407 [==============================] - 91s 224ms/step - loss: 0.1293 - accuracy: 0.9499 - val_loss: 0.1414 - val_accuracy: 0.9436\n",
            "Epoch 197/200\n",
            "407/407 [==============================] - 91s 222ms/step - loss: 0.1249 - accuracy: 0.9496 - val_loss: 0.1165 - val_accuracy: 0.9567\n",
            "Epoch 198/200\n",
            "407/407 [==============================] - 90s 220ms/step - loss: 0.1178 - accuracy: 0.9531 - val_loss: 0.1644 - val_accuracy: 0.9370\n",
            "Epoch 199/200\n",
            "407/407 [==============================] - 92s 225ms/step - loss: 0.1225 - accuracy: 0.9514 - val_loss: 0.1472 - val_accuracy: 0.9501\n",
            "Epoch 200/200\n",
            "407/407 [==============================] - 93s 228ms/step - loss: 0.1286 - accuracy: 0.9517 - val_loss: 0.1242 - val_accuracy: 0.9554\n"
          ]
        }
      ],
      "source": [
        "epochs = 200\n",
        "history = model.fit_generator(train_generator,\n",
        "                              validation_data=valid_generator, verbose=1, epochs=epochs, callbacks=[checkpoint])"
      ]
    },
    {
      "cell_type": "markdown",
      "metadata": {
        "id": "To3P79GkEZmN"
      },
      "source": [
        "## Saving Model"
      ]
    },
    {
      "cell_type": "code",
      "execution_count": 21,
      "metadata": {
        "id": "uzr7wbDIFGDW"
      },
      "outputs": [],
      "source": [
        "model.save('/Users/xiaolai/Desktop/MScProject/VGG19_11042023.h5')"
      ]
    },
    {
      "cell_type": "code",
      "execution_count": 22,
      "metadata": {
        "colab": {
          "base_uri": "https://localhost:8080/"
        },
        "id": "2wItex9s1WLb",
        "outputId": "69596b88-6f48-4792-fafc-ae750e8b82b5"
      },
      "outputs": [
        {
          "output_type": "stream",
          "name": "stdout",
          "text": [
            "'/content/best_model' -> '/content/gdrive/MyDrive/VGG19/best_model'\n",
            "'/content/best_model/variables' -> '/content/gdrive/MyDrive/VGG19/best_model/variables'\n",
            "'/content/best_model/variables/variables.index' -> '/content/gdrive/MyDrive/VGG19/best_model/variables/variables.index'\n",
            "'/content/best_model/variables/variables.data-00000-of-00001' -> '/content/gdrive/MyDrive/VGG19/best_model/variables/variables.data-00000-of-00001'\n",
            "'/content/best_model/assets' -> '/content/gdrive/MyDrive/VGG19/best_model/assets'\n",
            "'/content/best_model/saved_model.pb' -> '/content/gdrive/MyDrive/VGG19/best_model/saved_model.pb'\n",
            "'/content/best_model/keras_metadata.pb' -> '/content/gdrive/MyDrive/VGG19/best_model/keras_metadata.pb'\n",
            "'/content/best_model/fingerprint.pb' -> '/content/gdrive/MyDrive/VGG19/best_model/fingerprint.pb'\n"
          ]
        }
      ],
      "source": [
        "#import shutil\n",
        "%cp -av \"/content/best_model\" \"/content/gdrive/MyDrive/VGG19/\""
      ]
    },
    {
      "cell_type": "markdown",
      "metadata": {
        "id": "jHly7XjAEZmN"
      },
      "source": [
        "## Model Evaluation\n"
      ]
    },
    {
      "cell_type": "code",
      "execution_count": 23,
      "metadata": {
        "colab": {
          "base_uri": "https://localhost:8080/"
        },
        "id": "fxvQ9OiOnPmM",
        "outputId": "e111eb92-2846-4663-94b8-8d9ce32038b0"
      },
      "outputs": [
        {
          "output_type": "stream",
          "name": "stdout",
          "text": [
            "407/407 [==============================] - 87s 213ms/step - loss: 0.0984 - accuracy: 0.9611\n",
            "51/51 [==============================] - 4s 79ms/step - loss: 0.1242 - accuracy: 0.9554\n"
          ]
        },
        {
          "output_type": "execute_result",
          "data": {
            "text/plain": [
              "[0.1242162436246872, 0.9553805589675903]"
            ]
          },
          "metadata": {},
          "execution_count": 23
        }
      ],
      "source": [
        "model.evaluate(train_generator)\n",
        "model.evaluate(valid_generator)\n"
      ]
    },
    {
      "cell_type": "code",
      "execution_count": 24,
      "metadata": {
        "id": "ChuAcmwxk_tC"
      },
      "outputs": [],
      "source": [
        "# create history loss and accuracy function\n",
        "def plot_loss_acc(history):\n",
        "    train_loss = history.history['loss']\n",
        "    val_loss = history.history['val_loss']\n",
        "    acc = history.history['accuracy']\n",
        "    val_acc = history.history['val_accuracy']\n",
        "    epochs = range(len(train_loss))\n",
        "\n",
        "    plt.figure(figsize=(8,6))\n",
        "    plt.plot(epochs, train_loss, color='b', label='Train')\n",
        "    plt.plot(epochs, val_loss, color='r', label='Validation')\n",
        "    plt.legend()\n",
        "    plt.title('Model Loss')\n",
        "    \n",
        "    \n",
        "    plt.figure(figsize=(8,6))\n",
        "    plt.plot(epochs, acc, color='b', label='Train')\n",
        "    plt.plot(epochs, val_acc, color='r', label='Validation')\n",
        "    plt.legend()\n",
        "    plt.title('Model Accuracy')\n",
        "    \n",
        "    plt.show()"
      ]
    },
    {
      "cell_type": "code",
      "execution_count": 25,
      "metadata": {
        "colab": {
          "base_uri": "https://localhost:8080/",
          "height": 1000
        },
        "id": "d_A4flj9nEBW",
        "outputId": "847f899d-e3a8-4cd8-be32-e65572b82998"
      },
      "outputs": [
        {
          "output_type": "display_data",
          "data": {
            "text/plain": [
              "<Figure size 800x600 with 1 Axes>"
            ],
            "image/png": "[encoded data removed]"
          },
          "metadata": {}
        },
        {
          "output_type": "display_data",
          "data": {
            "text/plain": [
              "<Figure size 800x600 with 1 Axes>"
            ],
            "image/png": "[encoded data removed]"
          },
          "metadata": {}
        }
      ],
      "source": [
        "plot_loss_acc(history)"
      ]
    },
    {
      "cell_type": "markdown",
      "metadata": {
        "id": "LXLN95uZp6HM"
      },
      "source": [
        "## Classificaiton Confusion Matrix"
      ]
    },
    {
      "cell_type": "code",
      "execution_count": 26,
      "metadata": {
        "id": "Qgz3_PnEk_0r"
      },
      "outputs": [],
      "source": [
        "from sklearn.metrics import confusion_matrix, classification_report\n",
        "import seaborn as sns"
      ]
    },
    {
      "cell_type": "code",
      "execution_count": 27,
      "metadata": {
        "colab": {
          "base_uri": "https://localhost:8080/"
        },
        "id": "ohighY63lACo",
        "outputId": "021bfd27-a1d0-458d-f694-3edffdbb222d"
      },
      "outputs": [
        {
          "output_type": "stream",
          "name": "stdout",
          "text": [
            "51/51 [==============================] - 4s 78ms/step\n"
          ]
        }
      ],
      "source": [
        "# predict classes of validation dataset\n",
        "test_predict = model.predict(test_generator)"
      ]
    },
    {
      "cell_type": "code",
      "execution_count": 28,
      "metadata": {
        "id": "eUoLupEYlAD6"
      },
      "outputs": [],
      "source": [
        "predict_class = np.argmax(test_predict, axis=1)\n",
        "predict_class = predict_class.tolist()"
      ]
    },
    {
      "cell_type": "code",
      "execution_count": 29,
      "metadata": {
        "colab": {
          "base_uri": "https://localhost:8080/"
        },
        "id": "_78drHIloHj6",
        "outputId": "7c4b7cc5-fb4d-4b28-d6cf-09f1e764369c"
      },
      "outputs": [
        {
          "output_type": "stream",
          "name": "stdout",
          "text": [
            "              precision    recall  f1-score   support\n",
            "\n",
            "       COVID       0.53      0.54      0.53       400\n",
            "      Normal       0.48      0.46      0.47       362\n",
            "\n",
            "    accuracy                           0.50       762\n",
            "   macro avg       0.50      0.50      0.50       762\n",
            "weighted avg       0.50      0.50      0.50       762\n",
            "\n"
          ]
        }
      ],
      "source": [
        "labels = ['COVID', 'Normal']\n",
        "report = classification_report(test_generator.classes, predict_class, target_names=labels)\n",
        "print(report)"
      ]
    },
    {
      "cell_type": "code",
      "execution_count": 30,
      "metadata": {
        "id": "94nXSaPJoHnI"
      },
      "outputs": [],
      "source": [
        "cm = confusion_matrix(test_generator.classes, predict_class)\n",
        "cm_df = pd.DataFrame(cm,\n",
        "                     index = ['COVID','NORMAL'], \n",
        "                     columns = ['COVID','NORMAL'])"
      ]
    },
    {
      "cell_type": "code",
      "execution_count": 31,
      "metadata": {
        "colab": {
          "base_uri": "https://localhost:8080/",
          "height": 564
        },
        "id": "_R9-pBxioHrI",
        "outputId": "82793d78-b682-455d-a248-45d62a62bf99"
      },
      "outputs": [
        {
          "output_type": "display_data",
          "data": {
            "text/plain": [
              "<Figure size 800x600 with 2 Axes>"
            ],
            "image/png": "[encoded data removed]"
          },
          "metadata": {}
        }
      ],
      "source": [
        "plt.figure(figsize=(8,6))\n",
        "sns.heatmap(cm_df, annot=True, fmt='d')\n",
        "plt.title(\"Confusion Matrixx\")\n",
        "plt.xlabel(\"Predicted\")\n",
        "plt.ylabel(\"Actual\")\n",
        "plt.show()"
      ]
    },
    {
      "cell_type": "markdown",
      "source": [
        "## Test External data"
      ],
      "metadata": {
        "id": "AVMjSuvCAS4v"
      }
    },
    {
      "cell_type": "code",
      "execution_count": 33,
      "metadata": {
        "id": "_IgM5NV_oHta"
      },
      "outputs": [],
      "source": [
        "random.seed(42)\n",
        "c2 = '/content/gdrive/MyDrive/dataset/COVID'\n",
        "filenames2 = os.listdir(c2)\n",
        "\n",
        "categories = []\n",
        "for filename in filenames2:\n",
        "    category = filename.split('-')[0]\n",
        "    categories.append(str(1))\n",
        "\n",
        "\n",
        "for i in range(len(filenames2)):\n",
        "      filenames2[i] = os.path.join(c2, filenames2[i])\n",
        "    \n",
        "    \n",
        "df2 = pd.DataFrame({\n",
        "    'filename': filenames2,\n",
        "    'category': categories\n",
        "})"
      ]
    },
    {
      "cell_type": "code",
      "execution_count": 34,
      "metadata": {
        "id": "s21oBj3fzd5g"
      },
      "outputs": [],
      "source": [
        "random.seed(42)\n",
        "n2 = '/content/gdrive/MyDrive/dataset/Normal'\n",
        "filenames3 = os.listdir(n2)\n",
        "\n",
        "categories = []\n",
        "for filename in filenames3:\n",
        "    category = filename.split('-')[0]\n",
        "    categories.append(str(0))\n",
        "\n",
        "\n",
        "for i in range(len(filenames3)):\n",
        "      filenames3[i] = os.path.join(n2, filenames3[i])\n",
        "    \n",
        "    \n",
        "df3 = pd.DataFrame({\n",
        "    'filename': filenames3,\n",
        "    'category': categories\n",
        "})"
      ]
    },
    {
      "cell_type": "code",
      "execution_count": 35,
      "metadata": {
        "colab": {
          "base_uri": "https://localhost:8080/",
          "height": 206
        },
        "id": "47Cl6hMsw10t",
        "outputId": "2fb215fb-daa2-4710-f5f0-cdf58f49c421"
      },
      "outputs": [
        {
          "output_type": "execute_result",
          "data": {
            "text/plain": [
              "                                            filename category\n",
              "0  /content/gdrive/MyDrive/dataset/COVID/covid (3...        1\n",
              "1  /content/gdrive/MyDrive/dataset/COVID/covid (1...        1\n",
              "2  /content/gdrive/MyDrive/dataset/COVID/covid (1...        1\n",
              "3  /content/gdrive/MyDrive/dataset/COVID/covid (3...        1\n",
              "4  /content/gdrive/MyDrive/dataset/COVID/covid (2...        1"
            ],
            "text/html": [
              "\n",
              "  <div id=\"df-7a21f5e7-956f-4281-861c-faa919cc03c8\">\n",
              "    <div class=\"colab-df-container\">\n",
              "      <div>\n",
              "<style scoped>\n",
              "    .dataframe tbody tr th:only-of-type {\n",
              "        vertical-align: middle;\n",
              "    }\n",
              "\n",
              "    .dataframe tbody tr th {\n",
              "        vertical-align: top;\n",
              "    }\n",
              "\n",
              "    .dataframe thead th {\n",
              "        text-align: right;\n",
              "    }\n",
              "</style>\n",
              "<table border=\"1\" class=\"dataframe\">\n",
              "  <thead>\n",
              "    <tr style=\"text-align: right;\">\n",
              "      <th></th>\n",
              "      <th>filename</th>\n",
              "      <th>category</th>\n",
              "    </tr>\n",
              "  </thead>\n",
              "  <tbody>\n",
              "    <tr>\n",
              "      <th>0</th>\n",
              "      <td>/content/gdrive/MyDrive/dataset/COVID/covid (3...</td>\n",
              "      <td>1</td>\n",
              "    </tr>\n",
              "    <tr>\n",
              "      <th>1</th>\n",
              "      <td>/content/gdrive/MyDrive/dataset/COVID/covid (1...</td>\n",
              "      <td>1</td>\n",
              "    </tr>\n",
              "    <tr>\n",
              "      <th>2</th>\n",
              "      <td>/content/gdrive/MyDrive/dataset/COVID/covid (1...</td>\n",
              "      <td>1</td>\n",
              "    </tr>\n",
              "    <tr>\n",
              "      <th>3</th>\n",
              "      <td>/content/gdrive/MyDrive/dataset/COVID/covid (3...</td>\n",
              "      <td>1</td>\n",
              "    </tr>\n",
              "    <tr>\n",
              "      <th>4</th>\n",
              "      <td>/content/gdrive/MyDrive/dataset/COVID/covid (2...</td>\n",
              "      <td>1</td>\n",
              "    </tr>\n",
              "  </tbody>\n",
              "</table>\n",
              "</div>\n",
              "      <button class=\"colab-df-convert\" onclick=\"convertToInteractive('df-7a21f5e7-956f-4281-861c-faa919cc03c8')\"\n",
              "              title=\"Convert this dataframe to an interactive table.\"\n",
              "              style=\"display:none;\">\n",
              "        \n",
              "  <svg xmlns=\"http://www.w3.org/2000/svg\" height=\"24px\"viewBox=\"0 0 24 24\"\n",
              "       width=\"24px\">\n",
              "    <path d=\"M0 0h24v24H0V0z\" fill=\"none\"/>\n",
              "    <path d=\"M18.56 5.44l.94 2.06.94-2.06 2.06-.94-2.06-.94-.94-2.06-.94 2.06-2.06.94zm-11 1L8.5 8.5l.94-2.06 2.06-.94-2.06-.94L8.5 2.5l-.94 2.06-2.06.94zm10 10l.94 2.06.94-2.06 2.06-.94-2.06-.94-.94-2.06-.94 2.06-2.06.94z\"/><path d=\"M17.41 7.96l-1.37-1.37c-.4-.4-.92-.59-1.43-.59-.52 0-1.04.2-1.43.59L10.3 9.45l-7.72 7.72c-.78.78-.78 2.05 0 2.83L4 21.41c.39.39.9.59 1.41.59.51 0 1.02-.2 1.41-.59l7.78-7.78 2.81-2.81c.8-.78.8-2.07 0-2.86zM5.41 20L4 18.59l7.72-7.72 1.47 1.35L5.41 20z\"/>\n",
              "  </svg>\n",
              "      </button>\n",
              "      \n",
              "  <style>\n",
              "    .colab-df-container {\n",
              "      display:flex;\n",
              "      flex-wrap:wrap;\n",
              "      gap: 12px;\n",
              "    }\n",
              "\n",
              "    .colab-df-convert {\n",
              "      background-color: #E8F0FE;\n",
              "      border: none;\n",
              "      border-radius: 50%;\n",
              "      cursor: pointer;\n",
              "      display: none;\n",
              "      fill: #1967D2;\n",
              "      height: 32px;\n",
              "      padding: 0 0 0 0;\n",
              "      width: 32px;\n",
              "    }\n",
              "\n",
              "    .colab-df-convert:hover {\n",
              "      background-color: #E2EBFA;\n",
              "      box-shadow: 0px 1px 2px rgba(60, 64, 67, 0.3), 0px 1px 3px 1px rgba(60, 64, 67, 0.15);\n",
              "      fill: #174EA6;\n",
              "    }\n",
              "\n",
              "    [theme=dark] .colab-df-convert {\n",
              "      background-color: #3B4455;\n",
              "      fill: #D2E3FC;\n",
              "    }\n",
              "\n",
              "    [theme=dark] .colab-df-convert:hover {\n",
              "      background-color: #434B5C;\n",
              "      box-shadow: 0px 1px 3px 1px rgba(0, 0, 0, 0.15);\n",
              "      filter: drop-shadow(0px 1px 2px rgba(0, 0, 0, 0.3));\n",
              "      fill: #FFFFFF;\n",
              "    }\n",
              "  </style>\n",
              "\n",
              "      <script>\n",
              "        const buttonEl =\n",
              "          document.querySelector('#df-7a21f5e7-956f-4281-861c-faa919cc03c8 button.colab-df-convert');\n",
              "        buttonEl.style.display =\n",
              "          google.colab.kernel.accessAllowed ? 'block' : 'none';\n",
              "\n",
              "        async function convertToInteractive(key) {\n",
              "          const element = document.querySelector('#df-7a21f5e7-956f-4281-861c-faa919cc03c8');\n",
              "          const dataTable =\n",
              "            await google.colab.kernel.invokeFunction('convertToInteractive',\n",
              "                                                     [key], {});\n",
              "          if (!dataTable) return;\n",
              "\n",
              "          const docLinkHtml = 'Like what you see? Visit the ' +\n",
              "            '<a target=\"_blank\" href=https://colab.research.google.com/notebooks/data_table.ipynb>data table notebook</a>'\n",
              "            + ' to learn more about interactive tables.';\n",
              "          element.innerHTML = '';\n",
              "          dataTable['output_type'] = 'display_data';\n",
              "          await google.colab.output.renderOutput(dataTable, element);\n",
              "          const docLink = document.createElement('div');\n",
              "          docLink.innerHTML = docLinkHtml;\n",
              "          element.appendChild(docLink);\n",
              "        }\n",
              "      </script>\n",
              "    </div>\n",
              "  </div>\n",
              "  "
            ]
          },
          "metadata": {},
          "execution_count": 35
        }
      ],
      "source": [
        "df2.head()"
      ]
    },
    {
      "cell_type": "code",
      "execution_count": 36,
      "metadata": {
        "colab": {
          "base_uri": "https://localhost:8080/",
          "height": 206
        },
        "id": "2FeeVwyloHyB",
        "outputId": "b55427b4-5bff-4c7c-808d-556fb5b984bb"
      },
      "outputs": [
        {
          "output_type": "execute_result",
          "data": {
            "text/plain": [
              "                                            filename category\n",
              "0  /content/gdrive/MyDrive/dataset/Normal/IM-0238...        0\n",
              "1  /content/gdrive/MyDrive/dataset/Normal/IM-0222...        0\n",
              "2  /content/gdrive/MyDrive/dataset/Normal/IM-0256...        0\n",
              "3  /content/gdrive/MyDrive/dataset/Normal/IM-0214...        0\n",
              "4  /content/gdrive/MyDrive/dataset/Normal/IM-0235...        0"
            ],
            "text/html": [
              "\n",
              "  <div id=\"df-91798b1b-6ef7-417f-9a28-5465c4adb013\">\n",
              "    <div class=\"colab-df-container\">\n",
              "      <div>\n",
              "<style scoped>\n",
              "    .dataframe tbody tr th:only-of-type {\n",
              "        vertical-align: middle;\n",
              "    }\n",
              "\n",
              "    .dataframe tbody tr th {\n",
              "        vertical-align: top;\n",
              "    }\n",
              "\n",
              "    .dataframe thead th {\n",
              "        text-align: right;\n",
              "    }\n",
              "</style>\n",
              "<table border=\"1\" class=\"dataframe\">\n",
              "  <thead>\n",
              "    <tr style=\"text-align: right;\">\n",
              "      <th></th>\n",
              "      <th>filename</th>\n",
              "      <th>category</th>\n",
              "    </tr>\n",
              "  </thead>\n",
              "  <tbody>\n",
              "    <tr>\n",
              "      <th>0</th>\n",
              "      <td>/content/gdrive/MyDrive/dataset/Normal/IM-0238...</td>\n",
              "      <td>0</td>\n",
              "    </tr>\n",
              "    <tr>\n",
              "      <th>1</th>\n",
              "      <td>/content/gdrive/MyDrive/dataset/Normal/IM-0222...</td>\n",
              "      <td>0</td>\n",
              "    </tr>\n",
              "    <tr>\n",
              "      <th>2</th>\n",
              "      <td>/content/gdrive/MyDrive/dataset/Normal/IM-0256...</td>\n",
              "      <td>0</td>\n",
              "    </tr>\n",
              "    <tr>\n",
              "      <th>3</th>\n",
              "      <td>/content/gdrive/MyDrive/dataset/Normal/IM-0214...</td>\n",
              "      <td>0</td>\n",
              "    </tr>\n",
              "    <tr>\n",
              "      <th>4</th>\n",
              "      <td>/content/gdrive/MyDrive/dataset/Normal/IM-0235...</td>\n",
              "      <td>0</td>\n",
              "    </tr>\n",
              "  </tbody>\n",
              "</table>\n",
              "</div>\n",
              "      <button class=\"colab-df-convert\" onclick=\"convertToInteractive('df-91798b1b-6ef7-417f-9a28-5465c4adb013')\"\n",
              "              title=\"Convert this dataframe to an interactive table.\"\n",
              "              style=\"display:none;\">\n",
              "        \n",
              "  <svg xmlns=\"http://www.w3.org/2000/svg\" height=\"24px\"viewBox=\"0 0 24 24\"\n",
              "       width=\"24px\">\n",
              "    <path d=\"M0 0h24v24H0V0z\" fill=\"none\"/>\n",
              "    <path d=\"M18.56 5.44l.94 2.06.94-2.06 2.06-.94-2.06-.94-.94-2.06-.94 2.06-2.06.94zm-11 1L8.5 8.5l.94-2.06 2.06-.94-2.06-.94L8.5 2.5l-.94 2.06-2.06.94zm10 10l.94 2.06.94-2.06 2.06-.94-2.06-.94-.94-2.06-.94 2.06-2.06.94z\"/><path d=\"M17.41 7.96l-1.37-1.37c-.4-.4-.92-.59-1.43-.59-.52 0-1.04.2-1.43.59L10.3 9.45l-7.72 7.72c-.78.78-.78 2.05 0 2.83L4 21.41c.39.39.9.59 1.41.59.51 0 1.02-.2 1.41-.59l7.78-7.78 2.81-2.81c.8-.78.8-2.07 0-2.86zM5.41 20L4 18.59l7.72-7.72 1.47 1.35L5.41 20z\"/>\n",
              "  </svg>\n",
              "      </button>\n",
              "      \n",
              "  <style>\n",
              "    .colab-df-container {\n",
              "      display:flex;\n",
              "      flex-wrap:wrap;\n",
              "      gap: 12px;\n",
              "    }\n",
              "\n",
              "    .colab-df-convert {\n",
              "      background-color: #E8F0FE;\n",
              "      border: none;\n",
              "      border-radius: 50%;\n",
              "      cursor: pointer;\n",
              "      display: none;\n",
              "      fill: #1967D2;\n",
              "      height: 32px;\n",
              "      padding: 0 0 0 0;\n",
              "      width: 32px;\n",
              "    }\n",
              "\n",
              "    .colab-df-convert:hover {\n",
              "      background-color: #E2EBFA;\n",
              "      box-shadow: 0px 1px 2px rgba(60, 64, 67, 0.3), 0px 1px 3px 1px rgba(60, 64, 67, 0.15);\n",
              "      fill: #174EA6;\n",
              "    }\n",
              "\n",
              "    [theme=dark] .colab-df-convert {\n",
              "      background-color: #3B4455;\n",
              "      fill: #D2E3FC;\n",
              "    }\n",
              "\n",
              "    [theme=dark] .colab-df-convert:hover {\n",
              "      background-color: #434B5C;\n",
              "      box-shadow: 0px 1px 3px 1px rgba(0, 0, 0, 0.15);\n",
              "      filter: drop-shadow(0px 1px 2px rgba(0, 0, 0, 0.3));\n",
              "      fill: #FFFFFF;\n",
              "    }\n",
              "  </style>\n",
              "\n",
              "      <script>\n",
              "        const buttonEl =\n",
              "          document.querySelector('#df-91798b1b-6ef7-417f-9a28-5465c4adb013 button.colab-df-convert');\n",
              "        buttonEl.style.display =\n",
              "          google.colab.kernel.accessAllowed ? 'block' : 'none';\n",
              "\n",
              "        async function convertToInteractive(key) {\n",
              "          const element = document.querySelector('#df-91798b1b-6ef7-417f-9a28-5465c4adb013');\n",
              "          const dataTable =\n",
              "            await google.colab.kernel.invokeFunction('convertToInteractive',\n",
              "                                                     [key], {});\n",
              "          if (!dataTable) return;\n",
              "\n",
              "          const docLinkHtml = 'Like what you see? Visit the ' +\n",
              "            '<a target=\"_blank\" href=https://colab.research.google.com/notebooks/data_table.ipynb>data table notebook</a>'\n",
              "            + ' to learn more about interactive tables.';\n",
              "          element.innerHTML = '';\n",
              "          dataTable['output_type'] = 'display_data';\n",
              "          await google.colab.output.renderOutput(dataTable, element);\n",
              "          const docLink = document.createElement('div');\n",
              "          docLink.innerHTML = docLinkHtml;\n",
              "          element.appendChild(docLink);\n",
              "        }\n",
              "      </script>\n",
              "    </div>\n",
              "  </div>\n",
              "  "
            ]
          },
          "metadata": {},
          "execution_count": 36
        }
      ],
      "source": [
        "df3.head()"
      ]
    },
    {
      "cell_type": "code",
      "execution_count": 37,
      "metadata": {
        "id": "JTQvCjTloH0j"
      },
      "outputs": [],
      "source": [
        "frames = [df2, df3]\n",
        "\n",
        "test2 = pd.concat(frames)"
      ]
    },
    {
      "cell_type": "code",
      "source": [
        "test2.head()"
      ],
      "metadata": {
        "colab": {
          "base_uri": "https://localhost:8080/",
          "height": 206
        },
        "id": "HiyAo56MAMO9",
        "outputId": "340cc558-1103-493f-c36a-38d29494c8d6"
      },
      "execution_count": 38,
      "outputs": [
        {
          "output_type": "execute_result",
          "data": {
            "text/plain": [
              "                                            filename category\n",
              "0  /content/gdrive/MyDrive/dataset/COVID/covid (3...        1\n",
              "1  /content/gdrive/MyDrive/dataset/COVID/covid (1...        1\n",
              "2  /content/gdrive/MyDrive/dataset/COVID/covid (1...        1\n",
              "3  /content/gdrive/MyDrive/dataset/COVID/covid (3...        1\n",
              "4  /content/gdrive/MyDrive/dataset/COVID/covid (2...        1"
            ],
            "text/html": [
              "\n",
              "  <div id=\"df-f7802883-adce-4edf-ba13-170ac3d8319c\">\n",
              "    <div class=\"colab-df-container\">\n",
              "      <div>\n",
              "<style scoped>\n",
              "    .dataframe tbody tr th:only-of-type {\n",
              "        vertical-align: middle;\n",
              "    }\n",
              "\n",
              "    .dataframe tbody tr th {\n",
              "        vertical-align: top;\n",
              "    }\n",
              "\n",
              "    .dataframe thead th {\n",
              "        text-align: right;\n",
              "    }\n",
              "</style>\n",
              "<table border=\"1\" class=\"dataframe\">\n",
              "  <thead>\n",
              "    <tr style=\"text-align: right;\">\n",
              "      <th></th>\n",
              "      <th>filename</th>\n",
              "      <th>category</th>\n",
              "    </tr>\n",
              "  </thead>\n",
              "  <tbody>\n",
              "    <tr>\n",
              "      <th>0</th>\n",
              "      <td>/content/gdrive/MyDrive/dataset/COVID/covid (3...</td>\n",
              "      <td>1</td>\n",
              "    </tr>\n",
              "    <tr>\n",
              "      <th>1</th>\n",
              "      <td>/content/gdrive/MyDrive/dataset/COVID/covid (1...</td>\n",
              "      <td>1</td>\n",
              "    </tr>\n",
              "    <tr>\n",
              "      <th>2</th>\n",
              "      <td>/content/gdrive/MyDrive/dataset/COVID/covid (1...</td>\n",
              "      <td>1</td>\n",
              "    </tr>\n",
              "    <tr>\n",
              "      <th>3</th>\n",
              "      <td>/content/gdrive/MyDrive/dataset/COVID/covid (3...</td>\n",
              "      <td>1</td>\n",
              "    </tr>\n",
              "    <tr>\n",
              "      <th>4</th>\n",
              "      <td>/content/gdrive/MyDrive/dataset/COVID/covid (2...</td>\n",
              "      <td>1</td>\n",
              "    </tr>\n",
              "  </tbody>\n",
              "</table>\n",
              "</div>\n",
              "      <button class=\"colab-df-convert\" onclick=\"convertToInteractive('df-f7802883-adce-4edf-ba13-170ac3d8319c')\"\n",
              "              title=\"Convert this dataframe to an interactive table.\"\n",
              "              style=\"display:none;\">\n",
              "        \n",
              "  <svg xmlns=\"http://www.w3.org/2000/svg\" height=\"24px\"viewBox=\"0 0 24 24\"\n",
              "       width=\"24px\">\n",
              "    <path d=\"M0 0h24v24H0V0z\" fill=\"none\"/>\n",
              "    <path d=\"M18.56 5.44l.94 2.06.94-2.06 2.06-.94-2.06-.94-.94-2.06-.94 2.06-2.06.94zm-11 1L8.5 8.5l.94-2.06 2.06-.94-2.06-.94L8.5 2.5l-.94 2.06-2.06.94zm10 10l.94 2.06.94-2.06 2.06-.94-2.06-.94-.94-2.06-.94 2.06-2.06.94z\"/><path d=\"M17.41 7.96l-1.37-1.37c-.4-.4-.92-.59-1.43-.59-.52 0-1.04.2-1.43.59L10.3 9.45l-7.72 7.72c-.78.78-.78 2.05 0 2.83L4 21.41c.39.39.9.59 1.41.59.51 0 1.02-.2 1.41-.59l7.78-7.78 2.81-2.81c.8-.78.8-2.07 0-2.86zM5.41 20L4 18.59l7.72-7.72 1.47 1.35L5.41 20z\"/>\n",
              "  </svg>\n",
              "      </button>\n",
              "      \n",
              "  <style>\n",
              "    .colab-df-container {\n",
              "      display:flex;\n",
              "      flex-wrap:wrap;\n",
              "      gap: 12px;\n",
              "    }\n",
              "\n",
              "    .colab-df-convert {\n",
              "      background-color: #E8F0FE;\n",
              "      border: none;\n",
              "      border-radius: 50%;\n",
              "      cursor: pointer;\n",
              "      display: none;\n",
              "      fill: #1967D2;\n",
              "      height: 32px;\n",
              "      padding: 0 0 0 0;\n",
              "      width: 32px;\n",
              "    }\n",
              "\n",
              "    .colab-df-convert:hover {\n",
              "      background-color: #E2EBFA;\n",
              "      box-shadow: 0px 1px 2px rgba(60, 64, 67, 0.3), 0px 1px 3px 1px rgba(60, 64, 67, 0.15);\n",
              "      fill: #174EA6;\n",
              "    }\n",
              "\n",
              "    [theme=dark] .colab-df-convert {\n",
              "      background-color: #3B4455;\n",
              "      fill: #D2E3FC;\n",
              "    }\n",
              "\n",
              "    [theme=dark] .colab-df-convert:hover {\n",
              "      background-color: #434B5C;\n",
              "      box-shadow: 0px 1px 3px 1px rgba(0, 0, 0, 0.15);\n",
              "      filter: drop-shadow(0px 1px 2px rgba(0, 0, 0, 0.3));\n",
              "      fill: #FFFFFF;\n",
              "    }\n",
              "  </style>\n",
              "\n",
              "      <script>\n",
              "        const buttonEl =\n",
              "          document.querySelector('#df-f7802883-adce-4edf-ba13-170ac3d8319c button.colab-df-convert');\n",
              "        buttonEl.style.display =\n",
              "          google.colab.kernel.accessAllowed ? 'block' : 'none';\n",
              "\n",
              "        async function convertToInteractive(key) {\n",
              "          const element = document.querySelector('#df-f7802883-adce-4edf-ba13-170ac3d8319c');\n",
              "          const dataTable =\n",
              "            await google.colab.kernel.invokeFunction('convertToInteractive',\n",
              "                                                     [key], {});\n",
              "          if (!dataTable) return;\n",
              "\n",
              "          const docLinkHtml = 'Like what you see? Visit the ' +\n",
              "            '<a target=\"_blank\" href=https://colab.research.google.com/notebooks/data_table.ipynb>data table notebook</a>'\n",
              "            + ' to learn more about interactive tables.';\n",
              "          element.innerHTML = '';\n",
              "          dataTable['output_type'] = 'display_data';\n",
              "          await google.colab.output.renderOutput(dataTable, element);\n",
              "          const docLink = document.createElement('div');\n",
              "          docLink.innerHTML = docLinkHtml;\n",
              "          element.appendChild(docLink);\n",
              "        }\n",
              "      </script>\n",
              "    </div>\n",
              "  </div>\n",
              "  "
            ]
          },
          "metadata": {},
          "execution_count": 38
        }
      ]
    },
    {
      "cell_type": "code",
      "source": [
        "plt.figure(figsize=(12,3))\n",
        "splot = sns.countplot(data = test2.sort_values(by='category'), y ='category', palette='cool', saturation=0.9)\n",
        "plt.bar_label(container=splot.containers[0], \n",
        "              labels=['Normal', 'COVID'], \n",
        "              label_type='center', size=15, color='w')\n",
        "plt.show()"
      ],
      "metadata": {
        "colab": {
          "base_uri": "https://localhost:8080/",
          "height": 311
        },
        "id": "FlWnBzf6AMSw",
        "outputId": "910c6398-0824-4b3c-850e-fe114cc792ea"
      },
      "execution_count": 39,
      "outputs": [
        {
          "output_type": "display_data",
          "data": {
            "text/plain": [
              "<Figure size 1200x300 with 1 Axes>"
            ],
            "image/png": "[encoded data removed]"
          },
          "metadata": {}
        }
      ]
    },
    {
      "cell_type": "code",
      "source": [
        "valid_data_gen = ImageDataGenerator(rescale=1./255)\n",
        "\n",
        "test2_generator = valid_data_gen.flow_from_dataframe(\n",
        "    test2, \n",
        "    x_col='filename',\n",
        "    y_col='category',\n",
        "    target_size=(224,224),\n",
        "    class_mode='categorical',\n",
        "    batch_size=15\n",
        ")"
      ],
      "metadata": {
        "colab": {
          "base_uri": "https://localhost:8080/"
        },
        "id": "0AKesjCrAMVs",
        "outputId": "1a50a74d-79a7-4e6c-df51-74157d1af6f0"
      },
      "execution_count": 40,
      "outputs": [
        {
          "output_type": "stream",
          "name": "stdout",
          "text": [
            "Found 98 validated image filenames belonging to 2 classes.\n"
          ]
        }
      ]
    },
    {
      "cell_type": "markdown",
      "source": [
        "## Classificaiton Confusion Matrix"
      ],
      "metadata": {
        "id": "7rl-4GybBE8s"
      }
    },
    {
      "cell_type": "code",
      "source": [
        "# predict classes of validation dataset\n",
        "test_predict = model.predict(test2_generator)"
      ],
      "metadata": {
        "colab": {
          "base_uri": "https://localhost:8080/"
        },
        "id": "ATmV8G8-AMZS",
        "outputId": "498723e5-5f7a-4417-a373-90b2a8e2187a"
      },
      "execution_count": 41,
      "outputs": [
        {
          "output_type": "stream",
          "name": "stdout",
          "text": [
            "7/7 [==============================] - 22s 4s/step\n"
          ]
        }
      ]
    },
    {
      "cell_type": "code",
      "source": [
        "predict_class = np.argmax(test_predict, axis=1)\n",
        "predict_class = predict_class.tolist()"
      ],
      "metadata": {
        "id": "pIjGskXOAMfu"
      },
      "execution_count": 42,
      "outputs": []
    },
    {
      "cell_type": "code",
      "source": [
        "labels = ['COVID', 'Normal']\n",
        "report = classification_report(test2_generator.classes, predict_class, target_names=labels)\n",
        "print(report)"
      ],
      "metadata": {
        "colab": {
          "base_uri": "https://localhost:8080/"
        },
        "id": "ZOJFYRz6AMiQ",
        "outputId": "1aae8912-cecc-4459-bc31-aa17e68c2528"
      },
      "execution_count": 43,
      "outputs": [
        {
          "output_type": "stream",
          "name": "stdout",
          "text": [
            "              precision    recall  f1-score   support\n",
            "\n",
            "       COVID       0.32      0.36      0.34        28\n",
            "      Normal       0.73      0.70      0.72        70\n",
            "\n",
            "    accuracy                           0.60        98\n",
            "   macro avg       0.53      0.53      0.53        98\n",
            "weighted avg       0.61      0.60      0.61        98\n",
            "\n"
          ]
        }
      ]
    },
    {
      "cell_type": "code",
      "source": [
        "cm = confusion_matrix(test2_generator.classes, predict_class)\n",
        "cm_df = pd.DataFrame(cm,\n",
        "                     index = ['COVID','NORMAL'], \n",
        "                     columns = ['COVID','NORMAL'])"
      ],
      "metadata": {
        "id": "JtFuUMayAMk4"
      },
      "execution_count": 44,
      "outputs": []
    },
    {
      "cell_type": "code",
      "source": [
        "plt.figure(figsize=(8,6))\n",
        "sns.heatmap(cm_df, annot=True, fmt='d')\n",
        "plt.title(\"Confusion Matrixx\")\n",
        "plt.xlabel(\"Predicted\")\n",
        "plt.ylabel(\"Actual\")\n",
        "plt.show()"
      ],
      "metadata": {
        "colab": {
          "base_uri": "https://localhost:8080/",
          "height": 564
        },
        "id": "eHDlTq8GAMoI",
        "outputId": "98d521cc-7152-4545-f552-1d4dd954bd0f"
      },
      "execution_count": 45,
      "outputs": [
        {
          "output_type": "display_data",
          "data": {
            "text/plain": [
              "<Figure size 800x600 with 2 Axes>"
            ],
            "image/png": "[encoded data removed]"
          },
          "metadata": {}
        }
      ]
    },
    {
      "cell_type": "code",
      "source": [],
      "metadata": {
        "id": "Z3Jdu3IrAMrP"
      },
      "execution_count": null,
      "outputs": []
    },
    {
      "cell_type": "code",
      "source": [],
      "metadata": {
        "id": "W1RDTa2tAMt3"
      },
      "execution_count": null,
      "outputs": []
    },
    {
      "cell_type": "code",
      "source": [],
      "metadata": {
        "id": "MNudWNnTAMxR"
      },
      "execution_count": null,
      "outputs": []
    },
    {
      "cell_type": "code",
      "source": [],
      "metadata": {
        "id": "cz2tuNjtAM1O"
      },
      "execution_count": null,
      "outputs": []
    },
    {
      "cell_type": "code",
      "source": [],
      "metadata": {
        "id": "3MuORpz3AM5t"
      },
      "execution_count": null,
      "outputs": []
    },
    {
      "cell_type": "code",
      "source": [],
      "metadata": {
        "id": "TQSF3dwAANAL"
      },
      "execution_count": null,
      "outputs": []
    },
    {
      "cell_type": "code",
      "source": [],
      "metadata": {
        "id": "HSRRj2H-ANEW"
      },
      "execution_count": null,
      "outputs": []
    },
    {
      "cell_type": "code",
      "source": [],
      "metadata": {
        "id": "EYbwqnJVANIZ"
      },
      "execution_count": null,
      "outputs": []
    },
    {
      "cell_type": "code",
      "source": [],
      "metadata": {
        "id": "vyP-RfAYANMP"
      },
      "execution_count": null,
      "outputs": []
    },
    {
      "cell_type": "code",
      "source": [],
      "metadata": {
        "id": "nx6sRyAgANPo"
      },
      "execution_count": null,
      "outputs": []
    },
    {
      "cell_type": "code",
      "source": [],
      "metadata": {
        "id": "cy3djW7RANTm"
      },
      "execution_count": null,
      "outputs": []
    },
    {
      "cell_type": "code",
      "source": [],
      "metadata": {
        "id": "XOSibsVPANVq"
      },
      "execution_count": null,
      "outputs": []
    },
    {
      "cell_type": "code",
      "source": [],
      "metadata": {
        "id": "dZzoRhk_ANZ3"
      },
      "execution_count": null,
      "outputs": []
    }
  ],
  "metadata": {
    "colab": {
      "machine_shape": "hm",
      "provenance": []
    },
    "gpuClass": "standard",
    "kernelspec": {
      "display_name": "Python 3 (ipykernel)",
      "language": "python",
      "name": "python3"
    },
    "language_info": {
      "codemirror_mode": {
        "name": "ipython",
        "version": 3
      },
      "file_extension": ".py",
      "mimetype": "text/x-python",
      "name": "python",
      "nbconvert_exporter": "python",
      "pygments_lexer": "ipython3",
      "version": "3.9.7"
    },
    "accelerator": "GPU"
  },
  "nbformat": 4,
  "nbformat_minor": 0
}