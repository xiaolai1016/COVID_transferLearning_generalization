{
  "cells": [
    {
      "cell_type": "markdown",
      "metadata": {
        "id": "KND82lc8EZmE"
      },
      "source": [
        "## Importing Required Libraries"
      ]
    },
    {
      "cell_type": "code",
      "execution_count": 3,
      "metadata": {
        "id": "v2_np4HDEZmE"
      },
      "outputs": [],
      "source": [
        "import numpy as np\n",
        "import pandas as pd\n",
        "\n",
        "import matplotlib.pyplot as plt\n",
        "import seaborn as sns\n",
        "sns.set_style('darkgrid')\n",
        "\n",
        "import os\n",
        "import random\n",
        "import keras\n",
        "\n",
        "import warnings\n",
        "warnings.filterwarnings('ignore')\n",
        "\n",
        "from sklearn.model_selection import train_test_split\n",
        "\n",
        "import tensorflow as tf\n",
        "from tensorflow.keras.preprocessing.image import load_img\n",
        "from tensorflow.keras.preprocessing.image import img_to_array\n",
        "from tensorflow.keras.preprocessing.image import ImageDataGenerator\n",
        "\n",
        "from keras.layers import Dense, Flatten, AveragePooling2D, Dropout\n",
        "from tensorflow.keras.optimizers import Adam\n",
        "#from keras.applications.vgg19 import VGG19\n",
        "from keras.models import Model"
      ]
    },
    {
      "cell_type": "markdown",
      "metadata": {
        "id": "WuaxutPCEZmF"
      },
      "source": [
        "## Extracting Files"
      ]
    },
    {
      "cell_type": "code",
      "execution_count": 1,
      "metadata": {
        "colab": {
          "base_uri": "https://localhost:8080/"
        },
        "id": "ZhWYvT__EkKC",
        "outputId": "01a2498f-fa16-444c-f5ee-aa9e7ee5717a"
      },
      "outputs": [
        {
          "output_type": "stream",
          "name": "stdout",
          "text": [
            "Mounted at /content/gdrive\n"
          ]
        }
      ],
      "source": [
        "from google.colab import drive\n",
        "drive.mount('/content/gdrive')"
      ]
    },
    {
      "cell_type": "code",
      "execution_count": null,
      "metadata": {
        "id": "KazjUTYzEkTr"
      },
      "outputs": [],
      "source": [
        "!unzip -u \"/content/gdrive/MyDrive/archive.zip\" -d \"/content\""
      ]
    },
    {
      "cell_type": "code",
      "execution_count": null,
      "metadata": {
        "id": "5xiEmCJbEZmG"
      },
      "outputs": [],
      "source": [
        "c = '/content/COVID-19_Radiography_Dataset/COVID/images'\n",
        "n = '/content/COVID-19_Radiography_Dataset/Normal/images'"
      ]
    },
    {
      "cell_type": "code",
      "execution_count": null,
      "metadata": {
        "id": "VVPP03svEZmG"
      },
      "outputs": [],
      "source": [
        "random.seed(42)\n",
        "filenames = os.listdir(c) + random.sample(os.listdir(n), 4000) # random select 4000 images for Normal"
      ]
    },
    {
      "cell_type": "code",
      "source": [],
      "metadata": {
        "id": "89EaNd_VrkW7"
      },
      "execution_count": null,
      "outputs": []
    },
    {
      "cell_type": "markdown",
      "metadata": {
        "id": "pO9u6YZXEZmH"
      },
      "source": [
        "### Classes\n",
        "* 0 -> Normal\n",
        "\n",
        "* 1 -> COVID"
      ]
    },
    {
      "cell_type": "code",
      "execution_count": null,
      "metadata": {
        "id": "HpV5uc2fEZmH"
      },
      "outputs": [],
      "source": [
        "categories = []\n",
        "for filename in filenames:\n",
        "    category = filename.split('-')[0]\n",
        "    if category == 'COVID':\n",
        "        categories.append(str(1))\n",
        "    else:\n",
        "        categories.append(str(0))"
      ]
    },
    {
      "cell_type": "markdown",
      "metadata": {
        "id": "7z_73ZnSEZmI"
      },
      "source": [
        "## Converting to Dataframe"
      ]
    },
    {
      "cell_type": "code",
      "execution_count": null,
      "metadata": {
        "id": "OCtOOt5VEZmI"
      },
      "outputs": [],
      "source": [
        "for i in range(len(filenames)):\n",
        "    if 'COVID' in filenames[i]:\n",
        "        filenames[i] = os.path.join(c, filenames[i])\n",
        "    else:\n",
        "        filenames[i] = os.path.join(n, filenames[i])\n",
        "    \n",
        "    \n",
        "df = pd.DataFrame({\n",
        "    'filename': filenames,\n",
        "    'category': categories\n",
        "})"
      ]
    },
    {
      "cell_type": "code",
      "execution_count": null,
      "metadata": {
        "colab": {
          "base_uri": "https://localhost:8080/",
          "height": 206
        },
        "id": "VQYlkExAEZmJ",
        "outputId": "380b4de7-a285-4ac3-9e27-b62141be7ce1"
      },
      "outputs": [
        {
          "output_type": "execute_result",
          "data": {
            "text/plain": [
              "                                            filename category\n",
              "0  /content/COVID-19_Radiography_Dataset/COVID/im...        1\n",
              "1  /content/COVID-19_Radiography_Dataset/COVID/im...        1\n",
              "2  /content/COVID-19_Radiography_Dataset/COVID/im...        1\n",
              "3  /content/COVID-19_Radiography_Dataset/COVID/im...        1\n",
              "4  /content/COVID-19_Radiography_Dataset/COVID/im...        1"
            ],
            "text/html": [
              "\n",
              "  <div id=\"df-760af4e4-3a98-46f4-9648-a3f6972aa2e6\">\n",
              "    <div class=\"colab-df-container\">\n",
              "      <div>\n",
              "<style scoped>\n",
              "    .dataframe tbody tr th:only-of-type {\n",
              "        vertical-align: middle;\n",
              "    }\n",
              "\n",
              "    .dataframe tbody tr th {\n",
              "        vertical-align: top;\n",
              "    }\n",
              "\n",
              "    .dataframe thead th {\n",
              "        text-align: right;\n",
              "    }\n",
              "</style>\n",
              "<table border=\"1\" class=\"dataframe\">\n",
              "  <thead>\n",
              "    <tr style=\"text-align: right;\">\n",
              "      <th></th>\n",
              "      <th>filename</th>\n",
              "      <th>category</th>\n",
              "    </tr>\n",
              "  </thead>\n",
              "  <tbody>\n",
              "    <tr>\n",
              "      <th>0</th>\n",
              "      <td>/content/COVID-19_Radiography_Dataset/COVID/im...</td>\n",
              "      <td>1</td>\n",
              "    </tr>\n",
              "    <tr>\n",
              "      <th>1</th>\n",
              "      <td>/content/COVID-19_Radiography_Dataset/COVID/im...</td>\n",
              "      <td>1</td>\n",
              "    </tr>\n",
              "    <tr>\n",
              "      <th>2</th>\n",
              "      <td>/content/COVID-19_Radiography_Dataset/COVID/im...</td>\n",
              "      <td>1</td>\n",
              "    </tr>\n",
              "    <tr>\n",
              "      <th>3</th>\n",
              "      <td>/content/COVID-19_Radiography_Dataset/COVID/im...</td>\n",
              "      <td>1</td>\n",
              "    </tr>\n",
              "    <tr>\n",
              "      <th>4</th>\n",
              "      <td>/content/COVID-19_Radiography_Dataset/COVID/im...</td>\n",
              "      <td>1</td>\n",
              "    </tr>\n",
              "  </tbody>\n",
              "</table>\n",
              "</div>\n",
              "      <button class=\"colab-df-convert\" onclick=\"convertToInteractive('df-760af4e4-3a98-46f4-9648-a3f6972aa2e6')\"\n",
              "              title=\"Convert this dataframe to an interactive table.\"\n",
              "              style=\"display:none;\">\n",
              "        \n",
              "  <svg xmlns=\"http://www.w3.org/2000/svg\" height=\"24px\"viewBox=\"0 0 24 24\"\n",
              "       width=\"24px\">\n",
              "    <path d=\"M0 0h24v24H0V0z\" fill=\"none\"/>\n",
              "    <path d=\"M18.56 5.44l.94 2.06.94-2.06 2.06-.94-2.06-.94-.94-2.06-.94 2.06-2.06.94zm-11 1L8.5 8.5l.94-2.06 2.06-.94-2.06-.94L8.5 2.5l-.94 2.06-2.06.94zm10 10l.94 2.06.94-2.06 2.06-.94-2.06-.94-.94-2.06-.94 2.06-2.06.94z\"/><path d=\"M17.41 7.96l-1.37-1.37c-.4-.4-.92-.59-1.43-.59-.52 0-1.04.2-1.43.59L10.3 9.45l-7.72 7.72c-.78.78-.78 2.05 0 2.83L4 21.41c.39.39.9.59 1.41.59.51 0 1.02-.2 1.41-.59l7.78-7.78 2.81-2.81c.8-.78.8-2.07 0-2.86zM5.41 20L4 18.59l7.72-7.72 1.47 1.35L5.41 20z\"/>\n",
              "  </svg>\n",
              "      </button>\n",
              "      \n",
              "  <style>\n",
              "    .colab-df-container {\n",
              "      display:flex;\n",
              "      flex-wrap:wrap;\n",
              "      gap: 12px;\n",
              "    }\n",
              "\n",
              "    .colab-df-convert {\n",
              "      background-color: #E8F0FE;\n",
              "      border: none;\n",
              "      border-radius: 50%;\n",
              "      cursor: pointer;\n",
              "      display: none;\n",
              "      fill: #1967D2;\n",
              "      height: 32px;\n",
              "      padding: 0 0 0 0;\n",
              "      width: 32px;\n",
              "    }\n",
              "\n",
              "    .colab-df-convert:hover {\n",
              "      background-color: #E2EBFA;\n",
              "      box-shadow: 0px 1px 2px rgba(60, 64, 67, 0.3), 0px 1px 3px 1px rgba(60, 64, 67, 0.15);\n",
              "      fill: #174EA6;\n",
              "    }\n",
              "\n",
              "    [theme=dark] .colab-df-convert {\n",
              "      background-color: #3B4455;\n",
              "      fill: #D2E3FC;\n",
              "    }\n",
              "\n",
              "    [theme=dark] .colab-df-convert:hover {\n",
              "      background-color: #434B5C;\n",
              "      box-shadow: 0px 1px 3px 1px rgba(0, 0, 0, 0.15);\n",
              "      filter: drop-shadow(0px 1px 2px rgba(0, 0, 0, 0.3));\n",
              "      fill: #FFFFFF;\n",
              "    }\n",
              "  </style>\n",
              "\n",
              "      <script>\n",
              "        const buttonEl =\n",
              "          document.querySelector('#df-760af4e4-3a98-46f4-9648-a3f6972aa2e6 button.colab-df-convert');\n",
              "        buttonEl.style.display =\n",
              "          google.colab.kernel.accessAllowed ? 'block' : 'none';\n",
              "\n",
              "        async function convertToInteractive(key) {\n",
              "          const element = document.querySelector('#df-760af4e4-3a98-46f4-9648-a3f6972aa2e6');\n",
              "          const dataTable =\n",
              "            await google.colab.kernel.invokeFunction('convertToInteractive',\n",
              "                                                     [key], {});\n",
              "          if (!dataTable) return;\n",
              "\n",
              "          const docLinkHtml = 'Like what you see? Visit the ' +\n",
              "            '<a target=\"_blank\" href=https://colab.research.google.com/notebooks/data_table.ipynb>data table notebook</a>'\n",
              "            + ' to learn more about interactive tables.';\n",
              "          element.innerHTML = '';\n",
              "          dataTable['output_type'] = 'display_data';\n",
              "          await google.colab.output.renderOutput(dataTable, element);\n",
              "          const docLink = document.createElement('div');\n",
              "          docLink.innerHTML = docLinkHtml;\n",
              "          element.appendChild(docLink);\n",
              "        }\n",
              "      </script>\n",
              "    </div>\n",
              "  </div>\n",
              "  "
            ]
          },
          "metadata": {},
          "execution_count": 10
        }
      ],
      "source": [
        "df.head()"
      ]
    },
    {
      "cell_type": "markdown",
      "metadata": {
        "id": "MzvkFf-zEZmJ"
      },
      "source": [
        "## Exploratory Data Analysis"
      ]
    },
    {
      "cell_type": "code",
      "execution_count": null,
      "metadata": {
        "colab": {
          "base_uri": "https://localhost:8080/",
          "height": 311
        },
        "id": "LPZ3PQjnEZmJ",
        "outputId": "01c19259-82eb-4565-8771-019ebb625d84"
      },
      "outputs": [
        {
          "output_type": "display_data",
          "data": {
            "text/plain": [
              "<Figure size 1200x300 with 1 Axes>"
            ],
            "image/png": "[encoded data removed]"
          },
          "metadata": {}
        }
      ],
      "source": [
        "plt.figure(figsize=(12,3))\n",
        "splot = sns.countplot(data = df.sort_values(by='category'), y ='category', palette='cool', saturation=0.9)\n",
        "plt.bar_label(container=splot.containers[0], \n",
        "              labels=['Normal', 'COVID'], \n",
        "              label_type='center', size=15, color='w')\n",
        "plt.show()"
      ]
    },
    {
      "cell_type": "markdown",
      "metadata": {
        "id": "QTahAqh3EZmJ"
      },
      "source": [
        "## Data Visualization"
      ]
    },
    {
      "cell_type": "code",
      "execution_count": null,
      "metadata": {
        "colab": {
          "base_uri": "https://localhost:8080/",
          "height": 435
        },
        "id": "hCPftGEMEZmK",
        "outputId": "716afea8-8bc2-4fec-9bda-ed60ae993669"
      },
      "outputs": [
        {
          "output_type": "display_data",
          "data": {
            "text/plain": [
              "<Figure size 640x480 with 1 Axes>"
            ],
            "image/png": "[encoded data removed]"
          },
          "metadata": {}
        }
      ],
      "source": [
        "sample = random.choice(df['filename'])\n",
        "image = load_img(sample)\n",
        "plt.imshow(image)\n",
        "plt.show()"
      ]
    },
    {
      "cell_type": "markdown",
      "metadata": {
        "id": "eDga8FYUEZmK"
      },
      "source": [
        "## Splitting Train, Validation & Test Data"
      ]
    },
    {
      "cell_type": "code",
      "execution_count": null,
      "metadata": {
        "id": "33h1bp_KEZmK"
      },
      "outputs": [],
      "source": [
        "train_data, test_valid_data = train_test_split(df, test_size=0.2, random_state = 42, shuffle=True, stratify=df['category'])\n",
        "train_data = train_data.reset_index(drop=True)\n",
        "test_valid_data = test_valid_data.reset_index(drop=True)"
      ]
    },
    {
      "cell_type": "code",
      "execution_count": null,
      "metadata": {
        "id": "Q3TndbH5EZmK"
      },
      "outputs": [],
      "source": [
        "test_data, valid_data = train_test_split(test_valid_data, test_size=0.5, random_state = 42,\n",
        "                                         shuffle=True, stratify=test_valid_data['category'])\n",
        "test_data = test_data.reset_index(drop=True)\n",
        "valid_data = valid_data.reset_index(drop=True)"
      ]
    },
    {
      "cell_type": "markdown",
      "metadata": {
        "id": "S74JkJv8EZmL"
      },
      "source": [
        "## Data Augmentation"
      ]
    },
    {
      "cell_type": "code",
      "execution_count": null,
      "metadata": {
        "id": "JjQePJ9HEZmL"
      },
      "outputs": [],
      "source": [
        "train_data_gen = ImageDataGenerator(\n",
        "    rotation_range=15,\n",
        "    rescale=1./255,\n",
        "    shear_range=0.1,\n",
        "    zoom_range=0.2,\n",
        "    horizontal_flip=True,\n",
        "    width_shift_range=0.1,\n",
        "    height_shift_range=0.1\n",
        ")"
      ]
    },
    {
      "cell_type": "code",
      "execution_count": null,
      "metadata": {
        "colab": {
          "base_uri": "https://localhost:8080/"
        },
        "id": "_Rzi0X_gEZmL",
        "outputId": "fb9cda3e-ad59-498c-a0fb-6f4661ab5904"
      },
      "outputs": [
        {
          "output_type": "stream",
          "name": "stdout",
          "text": [
            "Found 6092 validated image filenames belonging to 2 classes.\n"
          ]
        }
      ],
      "source": [
        "train_generator = train_data_gen.flow_from_dataframe(\n",
        "    train_data, \n",
        "    x_col='filename',\n",
        "    y_col='category',\n",
        "    target_size=(224,224),\n",
        "    class_mode='categorical',\n",
        "    batch_size=15\n",
        ")"
      ]
    },
    {
      "cell_type": "code",
      "execution_count": null,
      "metadata": {
        "colab": {
          "base_uri": "https://localhost:8080/"
        },
        "id": "BdAPQUOxEZmM",
        "outputId": "82f997ae-a39a-4a5a-9a23-6a72764453ab"
      },
      "outputs": [
        {
          "output_type": "stream",
          "name": "stdout",
          "text": [
            "Found 762 validated image filenames belonging to 2 classes.\n",
            "Found 762 validated image filenames belonging to 2 classes.\n"
          ]
        }
      ],
      "source": [
        "valid_data_gen = ImageDataGenerator(rescale=1./255)\n",
        "\n",
        "valid_generator = valid_data_gen.flow_from_dataframe(\n",
        "    valid_data, \n",
        "    x_col='filename',\n",
        "    y_col='category',\n",
        "    target_size=(224,224),\n",
        "    class_mode='categorical',\n",
        "    batch_size=15\n",
        ")\n",
        "\n",
        "test_generator = valid_data_gen.flow_from_dataframe(\n",
        "    test_data, \n",
        "    x_col='filename',\n",
        "    y_col='category',\n",
        "    target_size=(224,224),\n",
        "    class_mode='categorical',\n",
        "    batch_size=15\n",
        ")"
      ]
    },
    {
      "cell_type": "markdown",
      "metadata": {
        "id": "djmHTqfjEZmM"
      },
      "source": [
        "## Model Training - ResNet50"
      ]
    },
    {
      "cell_type": "markdown",
      "metadata": {
        "id": "QV-77LVBEZmM"
      },
      "source": [
        "#### Model Architecture"
      ]
    },
    {
      "cell_type": "code",
      "execution_count": null,
      "metadata": {
        "id": "25ZgxIVJMafC"
      },
      "outputs": [],
      "source": [
        "import ssl\n",
        "ssl._create_default_https_context = ssl._create_unverified_context"
      ]
    },
    {
      "cell_type": "code",
      "execution_count": null,
      "metadata": {
        "id": "pdsbg9DyEZmM",
        "colab": {
          "base_uri": "https://localhost:8080/"
        },
        "outputId": "79f19c7c-cd11-4d61-f646-42a1857cfeee"
      },
      "outputs": [
        {
          "output_type": "stream",
          "name": "stdout",
          "text": [
            "Downloading data from https://storage.googleapis.com/tensorflow/keras-applications/resnet/resnet50_weights_tf_dim_ordering_tf_kernels_notop.h5\n",
            "94765736/94765736 [==============================] - 5s 0us/step\n"
          ]
        }
      ],
      "source": [
        "baseModel = tf.keras.applications.resnet50.ResNet50(input_shape=(224,224,3), weights='imagenet', include_top=False)\n",
        "\n",
        "for layer in baseModel.layers:\n",
        "    layer.trainable = False\n",
        "\n",
        "headModel = baseModel.output\n",
        "headModel = AveragePooling2D()(headModel)\n",
        "headModel = Flatten()(headModel)\n",
        "headModel = Dense(128, activation=\"relu\")(headModel)\n",
        "headModel = Dropout(0.2)(headModel)\n",
        "headModel = Dense(2, activation='softmax')(headModel)\n",
        "\n",
        "model = Model(inputs=baseModel.input, outputs=headModel)"
      ]
    },
    {
      "cell_type": "markdown",
      "metadata": {
        "id": "zGac2Tv8EZmM"
      },
      "source": [
        "#### Model Summary"
      ]
    },
    {
      "cell_type": "code",
      "execution_count": null,
      "metadata": {
        "id": "sG581lexEZmM",
        "colab": {
          "base_uri": "https://localhost:8080/"
        },
        "outputId": "e52aaeb3-775d-4e78-9a5a-2b450ed9b400"
      },
      "outputs": [
        {
          "output_type": "stream",
          "name": "stdout",
          "text": [
            "Model: \"model\"\n",
            "__________________________________________________________________________________________________\n",
            " Layer (type)                   Output Shape         Param #     Connected to                     \n",
            "==================================================================================================\n",
            " input_1 (InputLayer)           [(None, 224, 224, 3  0           []                               \n",
            "                                )]                                                                \n",
            "                                                                                                  \n",
            " conv1_pad (ZeroPadding2D)      (None, 230, 230, 3)  0           ['input_1[0][0]']                \n",
            "                                                                                                  \n",
            " conv1_conv (Conv2D)            (None, 112, 112, 64  9472        ['conv1_pad[0][0]']              \n",
            "                                )                                                                 \n",
            "                                                                                                  \n",
            " conv1_bn (BatchNormalization)  (None, 112, 112, 64  256         ['conv1_conv[0][0]']             \n",
            "                                )                                                                 \n",
            "                                                                                                  \n",
            " conv1_relu (Activation)        (None, 112, 112, 64  0           ['conv1_bn[0][0]']               \n",
            "                                )                                                                 \n",
            "                                                                                                  \n",
            " pool1_pad (ZeroPadding2D)      (None, 114, 114, 64  0           ['conv1_relu[0][0]']             \n",
            "                                )                                                                 \n",
            "                                                                                                  \n",
            " pool1_pool (MaxPooling2D)      (None, 56, 56, 64)   0           ['pool1_pad[0][0]']              \n",
            "                                                                                                  \n",
            " conv2_block1_1_conv (Conv2D)   (None, 56, 56, 64)   4160        ['pool1_pool[0][0]']             \n",
            "                                                                                                  \n",
            " conv2_block1_1_bn (BatchNormal  (None, 56, 56, 64)  256         ['conv2_block1_1_conv[0][0]']    \n",
            " ization)                                                                                         \n",
            "                                                                                                  \n",
            " conv2_block1_1_relu (Activatio  (None, 56, 56, 64)  0           ['conv2_block1_1_bn[0][0]']      \n",
            " n)                                                                                               \n",
            "                                                                                                  \n",
            " conv2_block1_2_conv (Conv2D)   (None, 56, 56, 64)   36928       ['conv2_block1_1_relu[0][0]']    \n",
            "                                                                                                  \n",
            " conv2_block1_2_bn (BatchNormal  (None, 56, 56, 64)  256         ['conv2_block1_2_conv[0][0]']    \n",
            " ization)                                                                                         \n",
            "                                                                                                  \n",
            " conv2_block1_2_relu (Activatio  (None, 56, 56, 64)  0           ['conv2_block1_2_bn[0][0]']      \n",
            " n)                                                                                               \n",
            "                                                                                                  \n",
            " conv2_block1_0_conv (Conv2D)   (None, 56, 56, 256)  16640       ['pool1_pool[0][0]']             \n",
            "                                                                                                  \n",
            " conv2_block1_3_conv (Conv2D)   (None, 56, 56, 256)  16640       ['conv2_block1_2_relu[0][0]']    \n",
            "                                                                                                  \n",
            " conv2_block1_0_bn (BatchNormal  (None, 56, 56, 256)  1024       ['conv2_block1_0_conv[0][0]']    \n",
            " ization)                                                                                         \n",
            "                                                                                                  \n",
            " conv2_block1_3_bn (BatchNormal  (None, 56, 56, 256)  1024       ['conv2_block1_3_conv[0][0]']    \n",
            " ization)                                                                                         \n",
            "                                                                                                  \n",
            " conv2_block1_add (Add)         (None, 56, 56, 256)  0           ['conv2_block1_0_bn[0][0]',      \n",
            "                                                                  'conv2_block1_3_bn[0][0]']      \n",
            "                                                                                                  \n",
            " conv2_block1_out (Activation)  (None, 56, 56, 256)  0           ['conv2_block1_add[0][0]']       \n",
            "                                                                                                  \n",
            " conv2_block2_1_conv (Conv2D)   (None, 56, 56, 64)   16448       ['conv2_block1_out[0][0]']       \n",
            "                                                                                                  \n",
            " conv2_block2_1_bn (BatchNormal  (None, 56, 56, 64)  256         ['conv2_block2_1_conv[0][0]']    \n",
            " ization)                                                                                         \n",
            "                                                                                                  \n",
            " conv2_block2_1_relu (Activatio  (None, 56, 56, 64)  0           ['conv2_block2_1_bn[0][0]']      \n",
            " n)                                                                                               \n",
            "                                                                                                  \n",
            " conv2_block2_2_conv (Conv2D)   (None, 56, 56, 64)   36928       ['conv2_block2_1_relu[0][0]']    \n",
            "                                                                                                  \n",
            " conv2_block2_2_bn (BatchNormal  (None, 56, 56, 64)  256         ['conv2_block2_2_conv[0][0]']    \n",
            " ization)                                                                                         \n",
            "                                                                                                  \n",
            " conv2_block2_2_relu (Activatio  (None, 56, 56, 64)  0           ['conv2_block2_2_bn[0][0]']      \n",
            " n)                                                                                               \n",
            "                                                                                                  \n",
            " conv2_block2_3_conv (Conv2D)   (None, 56, 56, 256)  16640       ['conv2_block2_2_relu[0][0]']    \n",
            "                                                                                                  \n",
            " conv2_block2_3_bn (BatchNormal  (None, 56, 56, 256)  1024       ['conv2_block2_3_conv[0][0]']    \n",
            " ization)                                                                                         \n",
            "                                                                                                  \n",
            " conv2_block2_add (Add)         (None, 56, 56, 256)  0           ['conv2_block1_out[0][0]',       \n",
            "                                                                  'conv2_block2_3_bn[0][0]']      \n",
            "                                                                                                  \n",
            " conv2_block2_out (Activation)  (None, 56, 56, 256)  0           ['conv2_block2_add[0][0]']       \n",
            "                                                                                                  \n",
            " conv2_block3_1_conv (Conv2D)   (None, 56, 56, 64)   16448       ['conv2_block2_out[0][0]']       \n",
            "                                                                                                  \n",
            " conv2_block3_1_bn (BatchNormal  (None, 56, 56, 64)  256         ['conv2_block3_1_conv[0][0]']    \n",
            " ization)                                                                                         \n",
            "                                                                                                  \n",
            " conv2_block3_1_relu (Activatio  (None, 56, 56, 64)  0           ['conv2_block3_1_bn[0][0]']      \n",
            " n)                                                                                               \n",
            "                                                                                                  \n",
            " conv2_block3_2_conv (Conv2D)   (None, 56, 56, 64)   36928       ['conv2_block3_1_relu[0][0]']    \n",
            "                                                                                                  \n",
            " conv2_block3_2_bn (BatchNormal  (None, 56, 56, 64)  256         ['conv2_block3_2_conv[0][0]']    \n",
            " ization)                                                                                         \n",
            "                                                                                                  \n",
            " conv2_block3_2_relu (Activatio  (None, 56, 56, 64)  0           ['conv2_block3_2_bn[0][0]']      \n",
            " n)                                                                                               \n",
            "                                                                                                  \n",
            " conv2_block3_3_conv (Conv2D)   (None, 56, 56, 256)  16640       ['conv2_block3_2_relu[0][0]']    \n",
            "                                                                                                  \n",
            " conv2_block3_3_bn (BatchNormal  (None, 56, 56, 256)  1024       ['conv2_block3_3_conv[0][0]']    \n",
            " ization)                                                                                         \n",
            "                                                                                                  \n",
            " conv2_block3_add (Add)         (None, 56, 56, 256)  0           ['conv2_block2_out[0][0]',       \n",
            "                                                                  'conv2_block3_3_bn[0][0]']      \n",
            "                                                                                                  \n",
            " conv2_block3_out (Activation)  (None, 56, 56, 256)  0           ['conv2_block3_add[0][0]']       \n",
            "                                                                                                  \n",
            " conv3_block1_1_conv (Conv2D)   (None, 28, 28, 128)  32896       ['conv2_block3_out[0][0]']       \n",
            "                                                                                                  \n",
            " conv3_block1_1_bn (BatchNormal  (None, 28, 28, 128)  512        ['conv3_block1_1_conv[0][0]']    \n",
            " ization)                                                                                         \n",
            "                                                                                                  \n",
            " conv3_block1_1_relu (Activatio  (None, 28, 28, 128)  0          ['conv3_block1_1_bn[0][0]']      \n",
            " n)                                                                                               \n",
            "                                                                                                  \n",
            " conv3_block1_2_conv (Conv2D)   (None, 28, 28, 128)  147584      ['conv3_block1_1_relu[0][0]']    \n",
            "                                                                                                  \n",
            " conv3_block1_2_bn (BatchNormal  (None, 28, 28, 128)  512        ['conv3_block1_2_conv[0][0]']    \n",
            " ization)                                                                                         \n",
            "                                                                                                  \n",
            " conv3_block1_2_relu (Activatio  (None, 28, 28, 128)  0          ['conv3_block1_2_bn[0][0]']      \n",
            " n)                                                                                               \n",
            "                                                                                                  \n",
            " conv3_block1_0_conv (Conv2D)   (None, 28, 28, 512)  131584      ['conv2_block3_out[0][0]']       \n",
            "                                                                                                  \n",
            " conv3_block1_3_conv (Conv2D)   (None, 28, 28, 512)  66048       ['conv3_block1_2_relu[0][0]']    \n",
            "                                                                                                  \n",
            " conv3_block1_0_bn (BatchNormal  (None, 28, 28, 512)  2048       ['conv3_block1_0_conv[0][0]']    \n",
            " ization)                                                                                         \n",
            "                                                                                                  \n",
            " conv3_block1_3_bn (BatchNormal  (None, 28, 28, 512)  2048       ['conv3_block1_3_conv[0][0]']    \n",
            " ization)                                                                                         \n",
            "                                                                                                  \n",
            " conv3_block1_add (Add)         (None, 28, 28, 512)  0           ['conv3_block1_0_bn[0][0]',      \n",
            "                                                                  'conv3_block1_3_bn[0][0]']      \n",
            "                                                                                                  \n",
            " conv3_block1_out (Activation)  (None, 28, 28, 512)  0           ['conv3_block1_add[0][0]']       \n",
            "                                                                                                  \n",
            " conv3_block2_1_conv (Conv2D)   (None, 28, 28, 128)  65664       ['conv3_block1_out[0][0]']       \n",
            "                                                                                                  \n",
            " conv3_block2_1_bn (BatchNormal  (None, 28, 28, 128)  512        ['conv3_block2_1_conv[0][0]']    \n",
            " ization)                                                                                         \n",
            "                                                                                                  \n",
            " conv3_block2_1_relu (Activatio  (None, 28, 28, 128)  0          ['conv3_block2_1_bn[0][0]']      \n",
            " n)                                                                                               \n",
            "                                                                                                  \n",
            " conv3_block2_2_conv (Conv2D)   (None, 28, 28, 128)  147584      ['conv3_block2_1_relu[0][0]']    \n",
            "                                                                                                  \n",
            " conv3_block2_2_bn (BatchNormal  (None, 28, 28, 128)  512        ['conv3_block2_2_conv[0][0]']    \n",
            " ization)                                                                                         \n",
            "                                                                                                  \n",
            " conv3_block2_2_relu (Activatio  (None, 28, 28, 128)  0          ['conv3_block2_2_bn[0][0]']      \n",
            " n)                                                                                               \n",
            "                                                                                                  \n",
            " conv3_block2_3_conv (Conv2D)   (None, 28, 28, 512)  66048       ['conv3_block2_2_relu[0][0]']    \n",
            "                                                                                                  \n",
            " conv3_block2_3_bn (BatchNormal  (None, 28, 28, 512)  2048       ['conv3_block2_3_conv[0][0]']    \n",
            " ization)                                                                                         \n",
            "                                                                                                  \n",
            " conv3_block2_add (Add)         (None, 28, 28, 512)  0           ['conv3_block1_out[0][0]',       \n",
            "                                                                  'conv3_block2_3_bn[0][0]']      \n",
            "                                                                                                  \n",
            " conv3_block2_out (Activation)  (None, 28, 28, 512)  0           ['conv3_block2_add[0][0]']       \n",
            "                                                                                                  \n",
            " conv3_block3_1_conv (Conv2D)   (None, 28, 28, 128)  65664       ['conv3_block2_out[0][0]']       \n",
            "                                                                                                  \n",
            " conv3_block3_1_bn (BatchNormal  (None, 28, 28, 128)  512        ['conv3_block3_1_conv[0][0]']    \n",
            " ization)                                                                                         \n",
            "                                                                                                  \n",
            " conv3_block3_1_relu (Activatio  (None, 28, 28, 128)  0          ['conv3_block3_1_bn[0][0]']      \n",
            " n)                                                                                               \n",
            "                                                                                                  \n",
            " conv3_block3_2_conv (Conv2D)   (None, 28, 28, 128)  147584      ['conv3_block3_1_relu[0][0]']    \n",
            "                                                                                                  \n",
            " conv3_block3_2_bn (BatchNormal  (None, 28, 28, 128)  512        ['conv3_block3_2_conv[0][0]']    \n",
            " ization)                                                                                         \n",
            "                                                                                                  \n",
            " conv3_block3_2_relu (Activatio  (None, 28, 28, 128)  0          ['conv3_block3_2_bn[0][0]']      \n",
            " n)                                                                                               \n",
            "                                                                                                  \n",
            " conv3_block3_3_conv (Conv2D)   (None, 28, 28, 512)  66048       ['conv3_block3_2_relu[0][0]']    \n",
            "                                                                                                  \n",
            " conv3_block3_3_bn (BatchNormal  (None, 28, 28, 512)  2048       ['conv3_block3_3_conv[0][0]']    \n",
            " ization)                                                                                         \n",
            "                                                                                                  \n",
            " conv3_block3_add (Add)         (None, 28, 28, 512)  0           ['conv3_block2_out[0][0]',       \n",
            "                                                                  'conv3_block3_3_bn[0][0]']      \n",
            "                                                                                                  \n",
            " conv3_block3_out (Activation)  (None, 28, 28, 512)  0           ['conv3_block3_add[0][0]']       \n",
            "                                                                                                  \n",
            " conv3_block4_1_conv (Conv2D)   (None, 28, 28, 128)  65664       ['conv3_block3_out[0][0]']       \n",
            "                                                                                                  \n",
            " conv3_block4_1_bn (BatchNormal  (None, 28, 28, 128)  512        ['conv3_block4_1_conv[0][0]']    \n",
            " ization)                                                                                         \n",
            "                                                                                                  \n",
            " conv3_block4_1_relu (Activatio  (None, 28, 28, 128)  0          ['conv3_block4_1_bn[0][0]']      \n",
            " n)                                                                                               \n",
            "                                                                                                  \n",
            " conv3_block4_2_conv (Conv2D)   (None, 28, 28, 128)  147584      ['conv3_block4_1_relu[0][0]']    \n",
            "                                                                                                  \n",
            " conv3_block4_2_bn (BatchNormal  (None, 28, 28, 128)  512        ['conv3_block4_2_conv[0][0]']    \n",
            " ization)                                                                                         \n",
            "                                                                                                  \n",
            " conv3_block4_2_relu (Activatio  (None, 28, 28, 128)  0          ['conv3_block4_2_bn[0][0]']      \n",
            " n)                                                                                               \n",
            "                                                                                                  \n",
            " conv3_block4_3_conv (Conv2D)   (None, 28, 28, 512)  66048       ['conv3_block4_2_relu[0][0]']    \n",
            "                                                                                                  \n",
            " conv3_block4_3_bn (BatchNormal  (None, 28, 28, 512)  2048       ['conv3_block4_3_conv[0][0]']    \n",
            " ization)                                                                                         \n",
            "                                                                                                  \n",
            " conv3_block4_add (Add)         (None, 28, 28, 512)  0           ['conv3_block3_out[0][0]',       \n",
            "                                                                  'conv3_block4_3_bn[0][0]']      \n",
            "                                                                                                  \n",
            " conv3_block4_out (Activation)  (None, 28, 28, 512)  0           ['conv3_block4_add[0][0]']       \n",
            "                                                                                                  \n",
            " conv4_block1_1_conv (Conv2D)   (None, 14, 14, 256)  131328      ['conv3_block4_out[0][0]']       \n",
            "                                                                                                  \n",
            " conv4_block1_1_bn (BatchNormal  (None, 14, 14, 256)  1024       ['conv4_block1_1_conv[0][0]']    \n",
            " ization)                                                                                         \n",
            "                                                                                                  \n",
            " conv4_block1_1_relu (Activatio  (None, 14, 14, 256)  0          ['conv4_block1_1_bn[0][0]']      \n",
            " n)                                                                                               \n",
            "                                                                                                  \n",
            " conv4_block1_2_conv (Conv2D)   (None, 14, 14, 256)  590080      ['conv4_block1_1_relu[0][0]']    \n",
            "                                                                                                  \n",
            " conv4_block1_2_bn (BatchNormal  (None, 14, 14, 256)  1024       ['conv4_block1_2_conv[0][0]']    \n",
            " ization)                                                                                         \n",
            "                                                                                                  \n",
            " conv4_block1_2_relu (Activatio  (None, 14, 14, 256)  0          ['conv4_block1_2_bn[0][0]']      \n",
            " n)                                                                                               \n",
            "                                                                                                  \n",
            " conv4_block1_0_conv (Conv2D)   (None, 14, 14, 1024  525312      ['conv3_block4_out[0][0]']       \n",
            "                                )                                                                 \n",
            "                                                                                                  \n",
            " conv4_block1_3_conv (Conv2D)   (None, 14, 14, 1024  263168      ['conv4_block1_2_relu[0][0]']    \n",
            "                                )                                                                 \n",
            "                                                                                                  \n",
            " conv4_block1_0_bn (BatchNormal  (None, 14, 14, 1024  4096       ['conv4_block1_0_conv[0][0]']    \n",
            " ization)                       )                                                                 \n",
            "                                                                                                  \n",
            " conv4_block1_3_bn (BatchNormal  (None, 14, 14, 1024  4096       ['conv4_block1_3_conv[0][0]']    \n",
            " ization)                       )                                                                 \n",
            "                                                                                                  \n",
            " conv4_block1_add (Add)         (None, 14, 14, 1024  0           ['conv4_block1_0_bn[0][0]',      \n",
            "                                )                                 'conv4_block1_3_bn[0][0]']      \n",
            "                                                                                                  \n",
            " conv4_block1_out (Activation)  (None, 14, 14, 1024  0           ['conv4_block1_add[0][0]']       \n",
            "                                )                                                                 \n",
            "                                                                                                  \n",
            " conv4_block2_1_conv (Conv2D)   (None, 14, 14, 256)  262400      ['conv4_block1_out[0][0]']       \n",
            "                                                                                                  \n",
            " conv4_block2_1_bn (BatchNormal  (None, 14, 14, 256)  1024       ['conv4_block2_1_conv[0][0]']    \n",
            " ization)                                                                                         \n",
            "                                                                                                  \n",
            " conv4_block2_1_relu (Activatio  (None, 14, 14, 256)  0          ['conv4_block2_1_bn[0][0]']      \n",
            " n)                                                                                               \n",
            "                                                                                                  \n",
            " conv4_block2_2_conv (Conv2D)   (None, 14, 14, 256)  590080      ['conv4_block2_1_relu[0][0]']    \n",
            "                                                                                                  \n",
            " conv4_block2_2_bn (BatchNormal  (None, 14, 14, 256)  1024       ['conv4_block2_2_conv[0][0]']    \n",
            " ization)                                                                                         \n",
            "                                                                                                  \n",
            " conv4_block2_2_relu (Activatio  (None, 14, 14, 256)  0          ['conv4_block2_2_bn[0][0]']      \n",
            " n)                                                                                               \n",
            "                                                                                                  \n",
            " conv4_block2_3_conv (Conv2D)   (None, 14, 14, 1024  263168      ['conv4_block2_2_relu[0][0]']    \n",
            "                                )                                                                 \n",
            "                                                                                                  \n",
            " conv4_block2_3_bn (BatchNormal  (None, 14, 14, 1024  4096       ['conv4_block2_3_conv[0][0]']    \n",
            " ization)                       )                                                                 \n",
            "                                                                                                  \n",
            " conv4_block2_add (Add)         (None, 14, 14, 1024  0           ['conv4_block1_out[0][0]',       \n",
            "                                )                                 'conv4_block2_3_bn[0][0]']      \n",
            "                                                                                                  \n",
            " conv4_block2_out (Activation)  (None, 14, 14, 1024  0           ['conv4_block2_add[0][0]']       \n",
            "                                )                                                                 \n",
            "                                                                                                  \n",
            " conv4_block3_1_conv (Conv2D)   (None, 14, 14, 256)  262400      ['conv4_block2_out[0][0]']       \n",
            "                                                                                                  \n",
            " conv4_block3_1_bn (BatchNormal  (None, 14, 14, 256)  1024       ['conv4_block3_1_conv[0][0]']    \n",
            " ization)                                                                                         \n",
            "                                                                                                  \n",
            " conv4_block3_1_relu (Activatio  (None, 14, 14, 256)  0          ['conv4_block3_1_bn[0][0]']      \n",
            " n)                                                                                               \n",
            "                                                                                                  \n",
            " conv4_block3_2_conv (Conv2D)   (None, 14, 14, 256)  590080      ['conv4_block3_1_relu[0][0]']    \n",
            "                                                                                                  \n",
            " conv4_block3_2_bn (BatchNormal  (None, 14, 14, 256)  1024       ['conv4_block3_2_conv[0][0]']    \n",
            " ization)                                                                                         \n",
            "                                                                                                  \n",
            " conv4_block3_2_relu (Activatio  (None, 14, 14, 256)  0          ['conv4_block3_2_bn[0][0]']      \n",
            " n)                                                                                               \n",
            "                                                                                                  \n",
            " conv4_block3_3_conv (Conv2D)   (None, 14, 14, 1024  263168      ['conv4_block3_2_relu[0][0]']    \n",
            "                                )                                                                 \n",
            "                                                                                                  \n",
            " conv4_block3_3_bn (BatchNormal  (None, 14, 14, 1024  4096       ['conv4_block3_3_conv[0][0]']    \n",
            " ization)                       )                                                                 \n",
            "                                                                                                  \n",
            " conv4_block3_add (Add)         (None, 14, 14, 1024  0           ['conv4_block2_out[0][0]',       \n",
            "                                )                                 'conv4_block3_3_bn[0][0]']      \n",
            "                                                                                                  \n",
            " conv4_block3_out (Activation)  (None, 14, 14, 1024  0           ['conv4_block3_add[0][0]']       \n",
            "                                )                                                                 \n",
            "                                                                                                  \n",
            " conv4_block4_1_conv (Conv2D)   (None, 14, 14, 256)  262400      ['conv4_block3_out[0][0]']       \n",
            "                                                                                                  \n",
            " conv4_block4_1_bn (BatchNormal  (None, 14, 14, 256)  1024       ['conv4_block4_1_conv[0][0]']    \n",
            " ization)                                                                                         \n",
            "                                                                                                  \n",
            " conv4_block4_1_relu (Activatio  (None, 14, 14, 256)  0          ['conv4_block4_1_bn[0][0]']      \n",
            " n)                                                                                               \n",
            "                                                                                                  \n",
            " conv4_block4_2_conv (Conv2D)   (None, 14, 14, 256)  590080      ['conv4_block4_1_relu[0][0]']    \n",
            "                                                                                                  \n",
            " conv4_block4_2_bn (BatchNormal  (None, 14, 14, 256)  1024       ['conv4_block4_2_conv[0][0]']    \n",
            " ization)                                                                                         \n",
            "                                                                                                  \n",
            " conv4_block4_2_relu (Activatio  (None, 14, 14, 256)  0          ['conv4_block4_2_bn[0][0]']      \n",
            " n)                                                                                               \n",
            "                                                                                                  \n",
            " conv4_block4_3_conv (Conv2D)   (None, 14, 14, 1024  263168      ['conv4_block4_2_relu[0][0]']    \n",
            "                                )                                                                 \n",
            "                                                                                                  \n",
            " conv4_block4_3_bn (BatchNormal  (None, 14, 14, 1024  4096       ['conv4_block4_3_conv[0][0]']    \n",
            " ization)                       )                                                                 \n",
            "                                                                                                  \n",
            " conv4_block4_add (Add)         (None, 14, 14, 1024  0           ['conv4_block3_out[0][0]',       \n",
            "                                )                                 'conv4_block4_3_bn[0][0]']      \n",
            "                                                                                                  \n",
            " conv4_block4_out (Activation)  (None, 14, 14, 1024  0           ['conv4_block4_add[0][0]']       \n",
            "                                )                                                                 \n",
            "                                                                                                  \n",
            " conv4_block5_1_conv (Conv2D)   (None, 14, 14, 256)  262400      ['conv4_block4_out[0][0]']       \n",
            "                                                                                                  \n",
            " conv4_block5_1_bn (BatchNormal  (None, 14, 14, 256)  1024       ['conv4_block5_1_conv[0][0]']    \n",
            " ization)                                                                                         \n",
            "                                                                                                  \n",
            " conv4_block5_1_relu (Activatio  (None, 14, 14, 256)  0          ['conv4_block5_1_bn[0][0]']      \n",
            " n)                                                                                               \n",
            "                                                                                                  \n",
            " conv4_block5_2_conv (Conv2D)   (None, 14, 14, 256)  590080      ['conv4_block5_1_relu[0][0]']    \n",
            "                                                                                                  \n",
            " conv4_block5_2_bn (BatchNormal  (None, 14, 14, 256)  1024       ['conv4_block5_2_conv[0][0]']    \n",
            " ization)                                                                                         \n",
            "                                                                                                  \n",
            " conv4_block5_2_relu (Activatio  (None, 14, 14, 256)  0          ['conv4_block5_2_bn[0][0]']      \n",
            " n)                                                                                               \n",
            "                                                                                                  \n",
            " conv4_block5_3_conv (Conv2D)   (None, 14, 14, 1024  263168      ['conv4_block5_2_relu[0][0]']    \n",
            "                                )                                                                 \n",
            "                                                                                                  \n",
            " conv4_block5_3_bn (BatchNormal  (None, 14, 14, 1024  4096       ['conv4_block5_3_conv[0][0]']    \n",
            " ization)                       )                                                                 \n",
            "                                                                                                  \n",
            " conv4_block5_add (Add)         (None, 14, 14, 1024  0           ['conv4_block4_out[0][0]',       \n",
            "                                )                                 'conv4_block5_3_bn[0][0]']      \n",
            "                                                                                                  \n",
            " conv4_block5_out (Activation)  (None, 14, 14, 1024  0           ['conv4_block5_add[0][0]']       \n",
            "                                )                                                                 \n",
            "                                                                                                  \n",
            " conv4_block6_1_conv (Conv2D)   (None, 14, 14, 256)  262400      ['conv4_block5_out[0][0]']       \n",
            "                                                                                                  \n",
            " conv4_block6_1_bn (BatchNormal  (None, 14, 14, 256)  1024       ['conv4_block6_1_conv[0][0]']    \n",
            " ization)                                                                                         \n",
            "                                                                                                  \n",
            " conv4_block6_1_relu (Activatio  (None, 14, 14, 256)  0          ['conv4_block6_1_bn[0][0]']      \n",
            " n)                                                                                               \n",
            "                                                                                                  \n",
            " conv4_block6_2_conv (Conv2D)   (None, 14, 14, 256)  590080      ['conv4_block6_1_relu[0][0]']    \n",
            "                                                                                                  \n",
            " conv4_block6_2_bn (BatchNormal  (None, 14, 14, 256)  1024       ['conv4_block6_2_conv[0][0]']    \n",
            " ization)                                                                                         \n",
            "                                                                                                  \n",
            " conv4_block6_2_relu (Activatio  (None, 14, 14, 256)  0          ['conv4_block6_2_bn[0][0]']      \n",
            " n)                                                                                               \n",
            "                                                                                                  \n",
            " conv4_block6_3_conv (Conv2D)   (None, 14, 14, 1024  263168      ['conv4_block6_2_relu[0][0]']    \n",
            "                                )                                                                 \n",
            "                                                                                                  \n",
            " conv4_block6_3_bn (BatchNormal  (None, 14, 14, 1024  4096       ['conv4_block6_3_conv[0][0]']    \n",
            " ization)                       )                                                                 \n",
            "                                                                                                  \n",
            " conv4_block6_add (Add)         (None, 14, 14, 1024  0           ['conv4_block5_out[0][0]',       \n",
            "                                )                                 'conv4_block6_3_bn[0][0]']      \n",
            "                                                                                                  \n",
            " conv4_block6_out (Activation)  (None, 14, 14, 1024  0           ['conv4_block6_add[0][0]']       \n",
            "                                )                                                                 \n",
            "                                                                                                  \n",
            " conv5_block1_1_conv (Conv2D)   (None, 7, 7, 512)    524800      ['conv4_block6_out[0][0]']       \n",
            "                                                                                                  \n",
            " conv5_block1_1_bn (BatchNormal  (None, 7, 7, 512)   2048        ['conv5_block1_1_conv[0][0]']    \n",
            " ization)                                                                                         \n",
            "                                                                                                  \n",
            " conv5_block1_1_relu (Activatio  (None, 7, 7, 512)   0           ['conv5_block1_1_bn[0][0]']      \n",
            " n)                                                                                               \n",
            "                                                                                                  \n",
            " conv5_block1_2_conv (Conv2D)   (None, 7, 7, 512)    2359808     ['conv5_block1_1_relu[0][0]']    \n",
            "                                                                                                  \n",
            " conv5_block1_2_bn (BatchNormal  (None, 7, 7, 512)   2048        ['conv5_block1_2_conv[0][0]']    \n",
            " ization)                                                                                         \n",
            "                                                                                                  \n",
            " conv5_block1_2_relu (Activatio  (None, 7, 7, 512)   0           ['conv5_block1_2_bn[0][0]']      \n",
            " n)                                                                                               \n",
            "                                                                                                  \n",
            " conv5_block1_0_conv (Conv2D)   (None, 7, 7, 2048)   2099200     ['conv4_block6_out[0][0]']       \n",
            "                                                                                                  \n",
            " conv5_block1_3_conv (Conv2D)   (None, 7, 7, 2048)   1050624     ['conv5_block1_2_relu[0][0]']    \n",
            "                                                                                                  \n",
            " conv5_block1_0_bn (BatchNormal  (None, 7, 7, 2048)  8192        ['conv5_block1_0_conv[0][0]']    \n",
            " ization)                                                                                         \n",
            "                                                                                                  \n",
            " conv5_block1_3_bn (BatchNormal  (None, 7, 7, 2048)  8192        ['conv5_block1_3_conv[0][0]']    \n",
            " ization)                                                                                         \n",
            "                                                                                                  \n",
            " conv5_block1_add (Add)         (None, 7, 7, 2048)   0           ['conv5_block1_0_bn[0][0]',      \n",
            "                                                                  'conv5_block1_3_bn[0][0]']      \n",
            "                                                                                                  \n",
            " conv5_block1_out (Activation)  (None, 7, 7, 2048)   0           ['conv5_block1_add[0][0]']       \n",
            "                                                                                                  \n",
            " conv5_block2_1_conv (Conv2D)   (None, 7, 7, 512)    1049088     ['conv5_block1_out[0][0]']       \n",
            "                                                                                                  \n",
            " conv5_block2_1_bn (BatchNormal  (None, 7, 7, 512)   2048        ['conv5_block2_1_conv[0][0]']    \n",
            " ization)                                                                                         \n",
            "                                                                                                  \n",
            " conv5_block2_1_relu (Activatio  (None, 7, 7, 512)   0           ['conv5_block2_1_bn[0][0]']      \n",
            " n)                                                                                               \n",
            "                                                                                                  \n",
            " conv5_block2_2_conv (Conv2D)   (None, 7, 7, 512)    2359808     ['conv5_block2_1_relu[0][0]']    \n",
            "                                                                                                  \n",
            " conv5_block2_2_bn (BatchNormal  (None, 7, 7, 512)   2048        ['conv5_block2_2_conv[0][0]']    \n",
            " ization)                                                                                         \n",
            "                                                                                                  \n",
            " conv5_block2_2_relu (Activatio  (None, 7, 7, 512)   0           ['conv5_block2_2_bn[0][0]']      \n",
            " n)                                                                                               \n",
            "                                                                                                  \n",
            " conv5_block2_3_conv (Conv2D)   (None, 7, 7, 2048)   1050624     ['conv5_block2_2_relu[0][0]']    \n",
            "                                                                                                  \n",
            " conv5_block2_3_bn (BatchNormal  (None, 7, 7, 2048)  8192        ['conv5_block2_3_conv[0][0]']    \n",
            " ization)                                                                                         \n",
            "                                                                                                  \n",
            " conv5_block2_add (Add)         (None, 7, 7, 2048)   0           ['conv5_block1_out[0][0]',       \n",
            "                                                                  'conv5_block2_3_bn[0][0]']      \n",
            "                                                                                                  \n",
            " conv5_block2_out (Activation)  (None, 7, 7, 2048)   0           ['conv5_block2_add[0][0]']       \n",
            "                                                                                                  \n",
            " conv5_block3_1_conv (Conv2D)   (None, 7, 7, 512)    1049088     ['conv5_block2_out[0][0]']       \n",
            "                                                                                                  \n",
            " conv5_block3_1_bn (BatchNormal  (None, 7, 7, 512)   2048        ['conv5_block3_1_conv[0][0]']    \n",
            " ization)                                                                                         \n",
            "                                                                                                  \n",
            " conv5_block3_1_relu (Activatio  (None, 7, 7, 512)   0           ['conv5_block3_1_bn[0][0]']      \n",
            " n)                                                                                               \n",
            "                                                                                                  \n",
            " conv5_block3_2_conv (Conv2D)   (None, 7, 7, 512)    2359808     ['conv5_block3_1_relu[0][0]']    \n",
            "                                                                                                  \n",
            " conv5_block3_2_bn (BatchNormal  (None, 7, 7, 512)   2048        ['conv5_block3_2_conv[0][0]']    \n",
            " ization)                                                                                         \n",
            "                                                                                                  \n",
            " conv5_block3_2_relu (Activatio  (None, 7, 7, 512)   0           ['conv5_block3_2_bn[0][0]']      \n",
            " n)                                                                                               \n",
            "                                                                                                  \n",
            " conv5_block3_3_conv (Conv2D)   (None, 7, 7, 2048)   1050624     ['conv5_block3_2_relu[0][0]']    \n",
            "                                                                                                  \n",
            " conv5_block3_3_bn (BatchNormal  (None, 7, 7, 2048)  8192        ['conv5_block3_3_conv[0][0]']    \n",
            " ization)                                                                                         \n",
            "                                                                                                  \n",
            " conv5_block3_add (Add)         (None, 7, 7, 2048)   0           ['conv5_block2_out[0][0]',       \n",
            "                                                                  'conv5_block3_3_bn[0][0]']      \n",
            "                                                                                                  \n",
            " conv5_block3_out (Activation)  (None, 7, 7, 2048)   0           ['conv5_block3_add[0][0]']       \n",
            "                                                                                                  \n",
            " average_pooling2d (AveragePool  (None, 3, 3, 2048)  0           ['conv5_block3_out[0][0]']       \n",
            " ing2D)                                                                                           \n",
            "                                                                                                  \n",
            " flatten (Flatten)              (None, 18432)        0           ['average_pooling2d[0][0]']      \n",
            "                                                                                                  \n",
            " dense (Dense)                  (None, 128)          2359424     ['flatten[0][0]']                \n",
            "                                                                                                  \n",
            " dropout (Dropout)              (None, 128)          0           ['dense[0][0]']                  \n",
            "                                                                                                  \n",
            " dense_1 (Dense)                (None, 2)            258         ['dropout[0][0]']                \n",
            "                                                                                                  \n",
            "==================================================================================================\n",
            "Total params: 25,947,394\n",
            "Trainable params: 2,359,682\n",
            "Non-trainable params: 23,587,712\n",
            "__________________________________________________________________________________________________\n"
          ]
        }
      ],
      "source": [
        "model.summary()"
      ]
    },
    {
      "cell_type": "markdown",
      "metadata": {
        "id": "DerT4-gjEZmM"
      },
      "source": [
        "#### Optimizer - Adam"
      ]
    },
    {
      "cell_type": "code",
      "execution_count": null,
      "metadata": {
        "id": "WdPPB4uIEZmN"
      },
      "outputs": [],
      "source": [
        "opt = Adam(learning_rate=0.0001)\n",
        "model.compile(optimizer=opt, loss='categorical_crossentropy', metrics=['accuracy'])"
      ]
    },
    {
      "cell_type": "code",
      "source": [
        "checkpoint = keras.callbacks.ModelCheckpoint(\"best_model\",\n",
        "                                            save_best_only=True)\n",
        "#stop_early = keras.callbacks.EarlyStopping(monitor='val_loss', patience=5)"
      ],
      "metadata": {
        "id": "k0NnnNNmesj5"
      },
      "execution_count": null,
      "outputs": []
    },
    {
      "cell_type": "code",
      "execution_count": null,
      "metadata": {
        "colab": {
          "base_uri": "https://localhost:8080/"
        },
        "id": "r4dgOcJkEZmN",
        "outputId": "76f61124-18c1-4052-f0bb-d7a50702f525"
      },
      "outputs": [
        {
          "metadata": {
            "tags": null
          },
          "name": "stdout",
          "output_type": "stream",
          "text": [
            "Epoch 1/200\n",
            "407/407 [==============================] - 71s 173ms/step - loss: 0.5863 - accuracy: 0.6983 - val_loss: 0.5414 - val_accuracy: 0.7480\n",
            "Epoch 2/200\n",
            "407/407 [==============================] - ETA: 0s - loss: 0.5742 - accuracy: 0.7063"
          ]
        },
        {
          "metadata": {
            "tags": null
          },
          "name": "stderr",
          "output_type": "stream",
          "text": [
            "WARNING:absl:Found untraced functions such as _jit_compiled_convolution_op, _jit_compiled_convolution_op, _jit_compiled_convolution_op, _jit_compiled_convolution_op, _jit_compiled_convolution_op while saving (showing 5 of 53). These functions will not be directly callable after loading.\n"
          ]
        },
        {
          "metadata": {
            "tags": null
          },
          "name": "stdout",
          "output_type": "stream",
          "text": [
            "407/407 [==============================] - 87s 215ms/step - loss: 0.5742 - accuracy: 0.7063 - val_loss: 0.5372 - val_accuracy: 0.7480\n",
            "Epoch 3/200\n",
            "407/407 [==============================] - 71s 173ms/step - loss: 0.5772 - accuracy: 0.7019 - val_loss: 0.5486 - val_accuracy: 0.7257\n",
            "Epoch 4/200\n",
            "407/407 [==============================] - ETA: 0s - loss: 0.5802 - accuracy: 0.7062"
          ]
        },
        {
          "metadata": {
            "tags": null
          },
          "name": "stderr",
          "output_type": "stream",
          "text": [
            "WARNING:absl:Found untraced functions such as _jit_compiled_convolution_op, _jit_compiled_convolution_op, _jit_compiled_convolution_op, _jit_compiled_convolution_op, _jit_compiled_convolution_op while saving (showing 5 of 53). These functions will not be directly callable after loading.\n"
          ]
        },
        {
          "metadata": {
            "tags": null
          },
          "name": "stdout",
          "output_type": "stream",
          "text": [
            "407/407 [==============================] - 89s 220ms/step - loss: 0.5802 - accuracy: 0.7062 - val_loss: 0.5361 - val_accuracy: 0.7480\n",
            "Epoch 5/200\n",
            "407/407 [==============================] - 71s 174ms/step - loss: 0.5783 - accuracy: 0.6971 - val_loss: 0.5814 - val_accuracy: 0.6785\n",
            "Epoch 6/200\n",
            "407/407 [==============================] - ETA: 0s - loss: 0.5746 - accuracy: 0.7054"
          ]
        },
        {
          "metadata": {
            "tags": null
          },
          "name": "stderr",
          "output_type": "stream",
          "text": [
            "WARNING:absl:Found untraced functions such as _jit_compiled_convolution_op, _jit_compiled_convolution_op, _jit_compiled_convolution_op, _jit_compiled_convolution_op, _jit_compiled_convolution_op while saving (showing 5 of 53). These functions will not be directly callable after loading.\n"
          ]
        },
        {
          "metadata": {
            "tags": null
          },
          "name": "stdout",
          "output_type": "stream",
          "text": [
            "407/407 [==============================] - 88s 217ms/step - loss: 0.5746 - accuracy: 0.7054 - val_loss: 0.5325 - val_accuracy: 0.7520\n",
            "Epoch 7/200\n",
            "407/407 [==============================] - 70s 173ms/step - loss: 0.5759 - accuracy: 0.7098 - val_loss: 0.5338 - val_accuracy: 0.7546\n",
            "Epoch 8/200\n",
            "407/407 [==============================] - 71s 173ms/step - loss: 0.5742 - accuracy: 0.7070 - val_loss: 0.5542 - val_accuracy: 0.7415\n",
            "Epoch 9/200\n",
            "407/407 [==============================] - 70s 172ms/step - loss: 0.5806 - accuracy: 0.6947 - val_loss: 0.5737 - val_accuracy: 0.6969\n",
            "Epoch 10/200\n",
            "407/407 [==============================] - ETA: 0s - loss: 0.5718 - accuracy: 0.7026"
          ]
        },
        {
          "metadata": {
            "tags": null
          },
          "name": "stderr",
          "output_type": "stream",
          "text": [
            "WARNING:absl:Found untraced functions such as _jit_compiled_convolution_op, _jit_compiled_convolution_op, _jit_compiled_convolution_op, _jit_compiled_convolution_op, _jit_compiled_convolution_op while saving (showing 5 of 53). These functions will not be directly callable after loading.\n"
          ]
        },
        {
          "metadata": {
            "tags": null
          },
          "name": "stdout",
          "output_type": "stream",
          "text": [
            "407/407 [==============================] - 88s 217ms/step - loss: 0.5718 - accuracy: 0.7026 - val_loss: 0.5200 - val_accuracy: 0.7533\n",
            "Epoch 11/200\n",
            "407/407 [==============================] - 71s 173ms/step - loss: 0.5709 - accuracy: 0.7078 - val_loss: 0.5588 - val_accuracy: 0.7060\n",
            "Epoch 12/200\n",
            "407/407 [==============================] - 71s 174ms/step - loss: 0.5742 - accuracy: 0.7060 - val_loss: 0.5357 - val_accuracy: 0.7428\n",
            "Epoch 13/200\n",
            "407/407 [==============================] - 70s 172ms/step - loss: 0.5686 - accuracy: 0.7057 - val_loss: 0.5225 - val_accuracy: 0.7612\n",
            "Epoch 14/200\n",
            "407/407 [==============================] - 71s 174ms/step - loss: 0.5730 - accuracy: 0.7098 - val_loss: 0.5202 - val_accuracy: 0.7598\n",
            "Epoch 15/200\n",
            "407/407 [==============================] - ETA: 0s - loss: 0.5662 - accuracy: 0.7173"
          ]
        },
        {
          "metadata": {
            "tags": null
          },
          "name": "stderr",
          "output_type": "stream",
          "text": [
            "WARNING:absl:Found untraced functions such as _jit_compiled_convolution_op, _jit_compiled_convolution_op, _jit_compiled_convolution_op, _jit_compiled_convolution_op, _jit_compiled_convolution_op while saving (showing 5 of 53). These functions will not be directly callable after loading.\n"
          ]
        },
        {
          "metadata": {
            "tags": null
          },
          "name": "stdout",
          "output_type": "stream",
          "text": [
            "407/407 [==============================] - 89s 218ms/step - loss: 0.5662 - accuracy: 0.7173 - val_loss: 0.5113 - val_accuracy: 0.7612\n",
            "Epoch 16/200\n",
            "407/407 [==============================] - 71s 174ms/step - loss: 0.5666 - accuracy: 0.7177 - val_loss: 0.5306 - val_accuracy: 0.7454\n",
            "Epoch 17/200\n",
            "407/407 [==============================] - 71s 174ms/step - loss: 0.5649 - accuracy: 0.7142 - val_loss: 0.5375 - val_accuracy: 0.7349\n",
            "Epoch 18/200\n",
            "407/407 [==============================] - 70s 173ms/step - loss: 0.5644 - accuracy: 0.7142 - val_loss: 0.5338 - val_accuracy: 0.7625\n",
            "Epoch 19/200\n",
            "407/407 [==============================] - 70s 172ms/step - loss: 0.5671 - accuracy: 0.7104 - val_loss: 0.5332 - val_accuracy: 0.7349\n",
            "Epoch 20/200\n",
            "407/407 [==============================] - 71s 174ms/step - loss: 0.5626 - accuracy: 0.7127 - val_loss: 0.5117 - val_accuracy: 0.7651\n",
            "Epoch 21/200\n",
            "407/407 [==============================] - ETA: 0s - loss: 0.5596 - accuracy: 0.7154"
          ]
        },
        {
          "metadata": {
            "tags": null
          },
          "name": "stderr",
          "output_type": "stream",
          "text": [
            "WARNING:absl:Found untraced functions such as _jit_compiled_convolution_op, _jit_compiled_convolution_op, _jit_compiled_convolution_op, _jit_compiled_convolution_op, _jit_compiled_convolution_op while saving (showing 5 of 53). These functions will not be directly callable after loading.\n"
          ]
        },
        {
          "metadata": {
            "tags": null
          },
          "name": "stdout",
          "output_type": "stream",
          "text": [
            "407/407 [==============================] - 88s 217ms/step - loss: 0.5596 - accuracy: 0.7154 - val_loss: 0.5092 - val_accuracy: 0.7625\n",
            "Epoch 22/200\n",
            "407/407 [==============================] - 70s 173ms/step - loss: 0.5663 - accuracy: 0.7101 - val_loss: 0.5260 - val_accuracy: 0.7533\n",
            "Epoch 23/200\n",
            "407/407 [==============================] - 71s 174ms/step - loss: 0.5634 - accuracy: 0.7167 - val_loss: 0.5135 - val_accuracy: 0.7638\n",
            "Epoch 24/200\n",
            "407/407 [==============================] - 71s 175ms/step - loss: 0.5611 - accuracy: 0.7150 - val_loss: 0.5139 - val_accuracy: 0.7690\n",
            "Epoch 25/200\n",
            "407/407 [==============================] - 71s 173ms/step - loss: 0.5579 - accuracy: 0.7221 - val_loss: 0.5161 - val_accuracy: 0.7559\n",
            "Epoch 26/200\n",
            "407/407 [==============================] - 71s 174ms/step - loss: 0.5552 - accuracy: 0.7213 - val_loss: 0.5479 - val_accuracy: 0.7257\n",
            "Epoch 27/200\n",
            "407/407 [==============================] - 71s 174ms/step - loss: 0.5668 - accuracy: 0.7182 - val_loss: 0.5184 - val_accuracy: 0.7585\n",
            "Epoch 28/200\n",
            "407/407 [==============================] - ETA: 0s - loss: 0.5620 - accuracy: 0.7129"
          ]
        },
        {
          "metadata": {
            "tags": null
          },
          "name": "stderr",
          "output_type": "stream",
          "text": [
            "WARNING:absl:Found untraced functions such as _jit_compiled_convolution_op, _jit_compiled_convolution_op, _jit_compiled_convolution_op, _jit_compiled_convolution_op, _jit_compiled_convolution_op while saving (showing 5 of 53). These functions will not be directly callable after loading.\n"
          ]
        },
        {
          "metadata": {
            "tags": null
          },
          "name": "stdout",
          "output_type": "stream",
          "text": [
            "407/407 [==============================] - 89s 219ms/step - loss: 0.5620 - accuracy: 0.7129 - val_loss: 0.5043 - val_accuracy: 0.7638\n",
            "Epoch 29/200\n",
            "407/407 [==============================] - ETA: 0s - loss: 0.5608 - accuracy: 0.7208"
          ]
        },
        {
          "metadata": {
            "tags": null
          },
          "name": "stderr",
          "output_type": "stream",
          "text": [
            "WARNING:absl:Found untraced functions such as _jit_compiled_convolution_op, _jit_compiled_convolution_op, _jit_compiled_convolution_op, _jit_compiled_convolution_op, _jit_compiled_convolution_op while saving (showing 5 of 53). These functions will not be directly callable after loading.\n"
          ]
        },
        {
          "metadata": {
            "tags": null
          },
          "name": "stdout",
          "output_type": "stream",
          "text": [
            "407/407 [==============================] - 90s 221ms/step - loss: 0.5608 - accuracy: 0.7208 - val_loss: 0.5042 - val_accuracy: 0.7717\n",
            "Epoch 30/200\n",
            "407/407 [==============================] - ETA: 0s - loss: 0.5591 - accuracy: 0.7124"
          ]
        },
        {
          "metadata": {
            "tags": null
          },
          "name": "stderr",
          "output_type": "stream",
          "text": [
            "WARNING:absl:Found untraced functions such as _jit_compiled_convolution_op, _jit_compiled_convolution_op, _jit_compiled_convolution_op, _jit_compiled_convolution_op, _jit_compiled_convolution_op while saving (showing 5 of 53). These functions will not be directly callable after loading.\n"
          ]
        },
        {
          "metadata": {
            "tags": null
          },
          "name": "stdout",
          "output_type": "stream",
          "text": [
            "407/407 [==============================] - 89s 218ms/step - loss: 0.5591 - accuracy: 0.7124 - val_loss: 0.5017 - val_accuracy: 0.7690\n",
            "Epoch 31/200\n",
            "407/407 [==============================] - 71s 173ms/step - loss: 0.5647 - accuracy: 0.7198 - val_loss: 0.5033 - val_accuracy: 0.7717\n",
            "Epoch 32/200\n",
            "407/407 [==============================] - 70s 173ms/step - loss: 0.5646 - accuracy: 0.7155 - val_loss: 0.5042 - val_accuracy: 0.7690\n",
            "Epoch 33/200\n",
            "407/407 [==============================] - 70s 173ms/step - loss: 0.5532 - accuracy: 0.7221 - val_loss: 0.5045 - val_accuracy: 0.7743\n",
            "Epoch 34/200\n",
            "407/407 [==============================] - ETA: 0s - loss: 0.5518 - accuracy: 0.7237"
          ]
        },
        {
          "metadata": {
            "tags": null
          },
          "name": "stderr",
          "output_type": "stream",
          "text": [
            "WARNING:absl:Found untraced functions such as _jit_compiled_convolution_op, _jit_compiled_convolution_op, _jit_compiled_convolution_op, _jit_compiled_convolution_op, _jit_compiled_convolution_op while saving (showing 5 of 53). These functions will not be directly callable after loading.\n"
          ]
        },
        {
          "metadata": {
            "tags": null
          },
          "name": "stdout",
          "output_type": "stream",
          "text": [
            "407/407 [==============================] - 89s 219ms/step - loss: 0.5518 - accuracy: 0.7237 - val_loss: 0.5011 - val_accuracy: 0.7703\n",
            "Epoch 35/200\n",
            "407/407 [==============================] - 71s 174ms/step - loss: 0.5598 - accuracy: 0.7195 - val_loss: 0.5079 - val_accuracy: 0.7651\n",
            "Epoch 36/200\n",
            "407/407 [==============================] - 71s 175ms/step - loss: 0.5568 - accuracy: 0.7267 - val_loss: 0.5531 - val_accuracy: 0.7165\n",
            "Epoch 37/200\n",
            "407/407 [==============================] - 72s 176ms/step - loss: 0.5528 - accuracy: 0.7201 - val_loss: 0.5079 - val_accuracy: 0.7546\n",
            "Epoch 38/200\n",
            "407/407 [==============================] - ETA: 0s - loss: 0.5479 - accuracy: 0.7260"
          ]
        },
        {
          "metadata": {
            "tags": null
          },
          "name": "stderr",
          "output_type": "stream",
          "text": [
            "WARNING:absl:Found untraced functions such as _jit_compiled_convolution_op, _jit_compiled_convolution_op, _jit_compiled_convolution_op, _jit_compiled_convolution_op, _jit_compiled_convolution_op while saving (showing 5 of 53). These functions will not be directly callable after loading.\n"
          ]
        },
        {
          "metadata": {
            "tags": null
          },
          "name": "stdout",
          "output_type": "stream",
          "text": [
            "407/407 [==============================] - 89s 219ms/step - loss: 0.5479 - accuracy: 0.7260 - val_loss: 0.4986 - val_accuracy: 0.7690\n",
            "Epoch 39/200\n",
            "407/407 [==============================] - 72s 176ms/step - loss: 0.5623 - accuracy: 0.7167 - val_loss: 0.5299 - val_accuracy: 0.7428\n",
            "Epoch 40/200\n",
            "407/407 [==============================] - ETA: 0s - loss: 0.5549 - accuracy: 0.7226"
          ]
        },
        {
          "metadata": {
            "tags": null
          },
          "name": "stderr",
          "output_type": "stream",
          "text": [
            "WARNING:absl:Found untraced functions such as _jit_compiled_convolution_op, _jit_compiled_convolution_op, _jit_compiled_convolution_op, _jit_compiled_convolution_op, _jit_compiled_convolution_op while saving (showing 5 of 53). These functions will not be directly callable after loading.\n"
          ]
        },
        {
          "metadata": {
            "tags": null
          },
          "name": "stdout",
          "output_type": "stream",
          "text": [
            "407/407 [==============================] - 90s 221ms/step - loss: 0.5549 - accuracy: 0.7226 - val_loss: 0.4928 - val_accuracy: 0.7703\n",
            "Epoch 41/200\n",
            "407/407 [==============================] - 72s 177ms/step - loss: 0.5533 - accuracy: 0.7250 - val_loss: 0.5134 - val_accuracy: 0.7585\n",
            "Epoch 42/200\n",
            "407/407 [==============================] - 72s 177ms/step - loss: 0.5698 - accuracy: 0.7147 - val_loss: 0.5450 - val_accuracy: 0.7218\n",
            "Epoch 43/200\n",
            "407/407 [==============================] - 71s 175ms/step - loss: 0.5571 - accuracy: 0.7175 - val_loss: 0.5055 - val_accuracy: 0.7559\n",
            "Epoch 44/200\n",
            "407/407 [==============================] - 71s 175ms/step - loss: 0.5609 - accuracy: 0.7172 - val_loss: 0.5114 - val_accuracy: 0.7625\n",
            "Epoch 45/200\n",
            "407/407 [==============================] - 71s 175ms/step - loss: 0.5504 - accuracy: 0.7252 - val_loss: 0.5073 - val_accuracy: 0.7546\n",
            "Epoch 46/200\n",
            "407/407 [==============================] - 71s 174ms/step - loss: 0.5544 - accuracy: 0.7211 - val_loss: 0.5000 - val_accuracy: 0.7638\n",
            "Epoch 47/200\n",
            "407/407 [==============================] - 71s 173ms/step - loss: 0.5538 - accuracy: 0.7191 - val_loss: 0.4982 - val_accuracy: 0.7677\n",
            "Epoch 48/200\n",
            "407/407 [==============================] - 71s 174ms/step - loss: 0.5506 - accuracy: 0.7310 - val_loss: 0.4963 - val_accuracy: 0.7677\n",
            "Epoch 49/200\n",
            "407/407 [==============================] - 71s 175ms/step - loss: 0.5526 - accuracy: 0.7206 - val_loss: 0.5099 - val_accuracy: 0.7598\n",
            "Epoch 50/200\n",
            "407/407 [==============================] - 71s 174ms/step - loss: 0.5508 - accuracy: 0.7262 - val_loss: 0.4993 - val_accuracy: 0.7717\n",
            "Epoch 51/200\n",
            "407/407 [==============================] - ETA: 0s - loss: 0.5506 - accuracy: 0.7259"
          ]
        },
        {
          "metadata": {
            "tags": null
          },
          "name": "stderr",
          "output_type": "stream",
          "text": [
            "WARNING:absl:Found untraced functions such as _jit_compiled_convolution_op, _jit_compiled_convolution_op, _jit_compiled_convolution_op, _jit_compiled_convolution_op, _jit_compiled_convolution_op while saving (showing 5 of 53). These functions will not be directly callable after loading.\n"
          ]
        },
        {
          "metadata": {
            "tags": null
          },
          "name": "stdout",
          "output_type": "stream",
          "text": [
            "407/407 [==============================] - 91s 224ms/step - loss: 0.5506 - accuracy: 0.7259 - val_loss: 0.4921 - val_accuracy: 0.7743\n",
            "Epoch 52/200\n",
            "407/407 [==============================] - 71s 176ms/step - loss: 0.5483 - accuracy: 0.7221 - val_loss: 0.5106 - val_accuracy: 0.7651\n",
            "Epoch 53/200\n",
            "407/407 [==============================] - 71s 175ms/step - loss: 0.5530 - accuracy: 0.7300 - val_loss: 0.4988 - val_accuracy: 0.7638\n",
            "Epoch 54/200\n",
            "407/407 [==============================] - 72s 177ms/step - loss: 0.5377 - accuracy: 0.7318 - val_loss: 0.5208 - val_accuracy: 0.7520\n",
            "Epoch 55/200\n",
            "407/407 [==============================] - ETA: 0s - loss: 0.5429 - accuracy: 0.7287"
          ]
        },
        {
          "metadata": {
            "tags": null
          },
          "name": "stderr",
          "output_type": "stream",
          "text": [
            "WARNING:absl:Found untraced functions such as _jit_compiled_convolution_op, _jit_compiled_convolution_op, _jit_compiled_convolution_op, _jit_compiled_convolution_op, _jit_compiled_convolution_op while saving (showing 5 of 53). These functions will not be directly callable after loading.\n"
          ]
        },
        {
          "metadata": {
            "tags": null
          },
          "name": "stdout",
          "output_type": "stream",
          "text": [
            "407/407 [==============================] - 90s 222ms/step - loss: 0.5429 - accuracy: 0.7287 - val_loss: 0.4907 - val_accuracy: 0.7782\n",
            "Epoch 56/200\n",
            "407/407 [==============================] - ETA: 0s - loss: 0.5434 - accuracy: 0.7277"
          ]
        },
        {
          "metadata": {
            "tags": null
          },
          "name": "stderr",
          "output_type": "stream",
          "text": [
            "WARNING:absl:Found untraced functions such as _jit_compiled_convolution_op, _jit_compiled_convolution_op, _jit_compiled_convolution_op, _jit_compiled_convolution_op, _jit_compiled_convolution_op while saving (showing 5 of 53). These functions will not be directly callable after loading.\n"
          ]
        },
        {
          "metadata": {
            "tags": null
          },
          "name": "stdout",
          "output_type": "stream",
          "text": [
            "407/407 [==============================] - 89s 220ms/step - loss: 0.5434 - accuracy: 0.7277 - val_loss: 0.4884 - val_accuracy: 0.7769\n",
            "Epoch 57/200\n",
            "407/407 [==============================] - 71s 175ms/step - loss: 0.5484 - accuracy: 0.7239 - val_loss: 0.4928 - val_accuracy: 0.7782\n",
            "Epoch 58/200\n",
            "407/407 [==============================] - 72s 176ms/step - loss: 0.5466 - accuracy: 0.7260 - val_loss: 0.4925 - val_accuracy: 0.7730\n",
            "Epoch 59/200\n",
            "407/407 [==============================] - 71s 175ms/step - loss: 0.5404 - accuracy: 0.7282 - val_loss: 0.5126 - val_accuracy: 0.7585\n",
            "Epoch 60/200\n",
            "407/407 [==============================] - 74s 182ms/step - loss: 0.5480 - accuracy: 0.7301 - val_loss: 0.4959 - val_accuracy: 0.7717\n",
            "Epoch 61/200\n",
            "407/407 [==============================] - 74s 182ms/step - loss: 0.5449 - accuracy: 0.7255 - val_loss: 0.5542 - val_accuracy: 0.7126\n",
            "Epoch 62/200\n",
            "407/407 [==============================] - ETA: 0s - loss: 0.5458 - accuracy: 0.7269"
          ]
        },
        {
          "metadata": {
            "tags": null
          },
          "name": "stderr",
          "output_type": "stream",
          "text": [
            "WARNING:absl:Found untraced functions such as _jit_compiled_convolution_op, _jit_compiled_convolution_op, _jit_compiled_convolution_op, _jit_compiled_convolution_op, _jit_compiled_convolution_op while saving (showing 5 of 53). These functions will not be directly callable after loading.\n"
          ]
        },
        {
          "metadata": {
            "tags": null
          },
          "name": "stdout",
          "output_type": "stream",
          "text": [
            "407/407 [==============================] - 91s 224ms/step - loss: 0.5458 - accuracy: 0.7269 - val_loss: 0.4880 - val_accuracy: 0.7756\n",
            "Epoch 63/200\n",
            "407/407 [==============================] - 73s 179ms/step - loss: 0.5463 - accuracy: 0.7242 - val_loss: 0.4945 - val_accuracy: 0.7651\n",
            "Epoch 64/200\n",
            "407/407 [==============================] - 72s 176ms/step - loss: 0.5444 - accuracy: 0.7301 - val_loss: 0.5142 - val_accuracy: 0.7585\n",
            "Epoch 65/200\n",
            "407/407 [==============================] - 71s 175ms/step - loss: 0.5479 - accuracy: 0.7232 - val_loss: 0.5114 - val_accuracy: 0.7625\n",
            "Epoch 66/200\n",
            "407/407 [==============================] - 72s 177ms/step - loss: 0.5498 - accuracy: 0.7226 - val_loss: 0.5710 - val_accuracy: 0.7021\n",
            "Epoch 67/200\n",
            "407/407 [==============================] - 72s 176ms/step - loss: 0.5521 - accuracy: 0.7228 - val_loss: 0.4895 - val_accuracy: 0.7795\n",
            "Epoch 68/200\n",
            "407/407 [==============================] - 72s 177ms/step - loss: 0.5484 - accuracy: 0.7214 - val_loss: 0.5441 - val_accuracy: 0.7270\n",
            "Epoch 69/200\n",
            "407/407 [==============================] - ETA: 0s - loss: 0.5553 - accuracy: 0.7221"
          ]
        },
        {
          "metadata": {
            "tags": null
          },
          "name": "stderr",
          "output_type": "stream",
          "text": [
            "WARNING:absl:Found untraced functions such as _jit_compiled_convolution_op, _jit_compiled_convolution_op, _jit_compiled_convolution_op, _jit_compiled_convolution_op, _jit_compiled_convolution_op while saving (showing 5 of 53). These functions will not be directly callable after loading.\n"
          ]
        },
        {
          "metadata": {
            "tags": null
          },
          "name": "stdout",
          "output_type": "stream",
          "text": [
            "407/407 [==============================] - 90s 221ms/step - loss: 0.5553 - accuracy: 0.7221 - val_loss: 0.4849 - val_accuracy: 0.7756\n",
            "Epoch 70/200\n",
            "407/407 [==============================] - 72s 177ms/step - loss: 0.5397 - accuracy: 0.7285 - val_loss: 0.5040 - val_accuracy: 0.7690\n",
            "Epoch 71/200\n",
            "407/407 [==============================] - ETA: 0s - loss: 0.5421 - accuracy: 0.7367"
          ]
        },
        {
          "metadata": {
            "tags": null
          },
          "name": "stderr",
          "output_type": "stream",
          "text": [
            "WARNING:absl:Found untraced functions such as _jit_compiled_convolution_op, _jit_compiled_convolution_op, _jit_compiled_convolution_op, _jit_compiled_convolution_op, _jit_compiled_convolution_op while saving (showing 5 of 53). These functions will not be directly callable after loading.\n"
          ]
        },
        {
          "metadata": {
            "tags": null
          },
          "name": "stdout",
          "output_type": "stream",
          "text": [
            "407/407 [==============================] - 90s 222ms/step - loss: 0.5421 - accuracy: 0.7367 - val_loss: 0.4834 - val_accuracy: 0.7756\n",
            "Epoch 72/200\n",
            "407/407 [==============================] - 72s 176ms/step - loss: 0.5421 - accuracy: 0.7303 - val_loss: 0.4870 - val_accuracy: 0.7782\n",
            "Epoch 73/200\n",
            "407/407 [==============================] - 72s 176ms/step - loss: 0.5342 - accuracy: 0.7354 - val_loss: 0.4860 - val_accuracy: 0.7756\n",
            "Epoch 74/200\n",
            "407/407 [==============================] - 72s 176ms/step - loss: 0.5425 - accuracy: 0.7329 - val_loss: 0.4920 - val_accuracy: 0.7743\n",
            "Epoch 75/200\n",
            "407/407 [==============================] - 72s 176ms/step - loss: 0.5443 - accuracy: 0.7283 - val_loss: 0.4934 - val_accuracy: 0.7690\n",
            "Epoch 76/200\n",
            "407/407 [==============================] - 72s 178ms/step - loss: 0.5388 - accuracy: 0.7359 - val_loss: 0.5002 - val_accuracy: 0.7559\n",
            "Epoch 77/200\n",
            "407/407 [==============================] - 72s 176ms/step - loss: 0.5483 - accuracy: 0.7288 - val_loss: 0.5158 - val_accuracy: 0.7546\n",
            "Epoch 78/200\n",
            "407/407 [==============================] - 72s 177ms/step - loss: 0.5445 - accuracy: 0.7316 - val_loss: 0.4835 - val_accuracy: 0.7769\n",
            "Epoch 79/200\n",
            "407/407 [==============================] - 72s 176ms/step - loss: 0.5471 - accuracy: 0.7277 - val_loss: 0.5298 - val_accuracy: 0.7507\n",
            "Epoch 80/200\n",
            "407/407 [==============================] - 72s 177ms/step - loss: 0.5402 - accuracy: 0.7305 - val_loss: 0.4901 - val_accuracy: 0.7756\n",
            "Epoch 81/200\n",
            "407/407 [==============================] - 72s 176ms/step - loss: 0.5421 - accuracy: 0.7265 - val_loss: 0.4923 - val_accuracy: 0.7795\n",
            "Epoch 82/200\n",
            "407/407 [==============================] - 72s 177ms/step - loss: 0.5478 - accuracy: 0.7241 - val_loss: 0.5120 - val_accuracy: 0.7572\n",
            "Epoch 83/200\n",
            "407/407 [==============================] - 72s 177ms/step - loss: 0.5470 - accuracy: 0.7218 - val_loss: 0.4940 - val_accuracy: 0.7651\n",
            "Epoch 84/200\n",
            "407/407 [==============================] - ETA: 0s - loss: 0.5323 - accuracy: 0.7339"
          ]
        },
        {
          "metadata": {
            "tags": null
          },
          "name": "stderr",
          "output_type": "stream",
          "text": [
            "WARNING:absl:Found untraced functions such as _jit_compiled_convolution_op, _jit_compiled_convolution_op, _jit_compiled_convolution_op, _jit_compiled_convolution_op, _jit_compiled_convolution_op while saving (showing 5 of 53). These functions will not be directly callable after loading.\n"
          ]
        },
        {
          "metadata": {
            "tags": null
          },
          "name": "stdout",
          "output_type": "stream",
          "text": [
            "407/407 [==============================] - 91s 222ms/step - loss: 0.5323 - accuracy: 0.7339 - val_loss: 0.4830 - val_accuracy: 0.7743\n",
            "Epoch 85/200\n",
            "407/407 [==============================] - ETA: 0s - loss: 0.5238 - accuracy: 0.7492"
          ]
        },
        {
          "metadata": {
            "tags": null
          },
          "name": "stderr",
          "output_type": "stream",
          "text": [
            "WARNING:absl:Found untraced functions such as _jit_compiled_convolution_op, _jit_compiled_convolution_op, _jit_compiled_convolution_op, _jit_compiled_convolution_op, _jit_compiled_convolution_op while saving (showing 5 of 53). These functions will not be directly callable after loading.\n"
          ]
        },
        {
          "metadata": {
            "tags": null
          },
          "name": "stdout",
          "output_type": "stream",
          "text": [
            "407/407 [==============================] - 91s 223ms/step - loss: 0.5238 - accuracy: 0.7492 - val_loss: 0.4827 - val_accuracy: 0.7769\n",
            "Epoch 86/200\n",
            "407/407 [==============================] - 72s 176ms/step - loss: 0.5388 - accuracy: 0.7356 - val_loss: 0.5316 - val_accuracy: 0.7349\n",
            "Epoch 87/200\n",
            "407/407 [==============================] - 72s 177ms/step - loss: 0.5342 - accuracy: 0.7318 - val_loss: 0.5825 - val_accuracy: 0.6601\n",
            "Epoch 88/200\n",
            "407/407 [==============================] - 72s 178ms/step - loss: 0.5386 - accuracy: 0.7301 - val_loss: 0.4887 - val_accuracy: 0.7546\n",
            "Epoch 89/200\n",
            "407/407 [==============================] - ETA: 0s - loss: 0.5407 - accuracy: 0.7305"
          ]
        },
        {
          "metadata": {
            "tags": null
          },
          "name": "stderr",
          "output_type": "stream",
          "text": [
            "WARNING:absl:Found untraced functions such as _jit_compiled_convolution_op, _jit_compiled_convolution_op, _jit_compiled_convolution_op, _jit_compiled_convolution_op, _jit_compiled_convolution_op while saving (showing 5 of 53). These functions will not be directly callable after loading.\n"
          ]
        },
        {
          "metadata": {
            "tags": null
          },
          "name": "stdout",
          "output_type": "stream",
          "text": [
            "407/407 [==============================] - 90s 222ms/step - loss: 0.5407 - accuracy: 0.7305 - val_loss: 0.4786 - val_accuracy: 0.7795\n",
            "Epoch 90/200\n",
            "407/407 [==============================] - 72s 176ms/step - loss: 0.5353 - accuracy: 0.7328 - val_loss: 0.5002 - val_accuracy: 0.7703\n",
            "Epoch 91/200\n",
            "407/407 [==============================] - 72s 177ms/step - loss: 0.5433 - accuracy: 0.7292 - val_loss: 0.5095 - val_accuracy: 0.7559\n",
            "Epoch 92/200\n",
            "407/407 [==============================] - 73s 178ms/step - loss: 0.5368 - accuracy: 0.7298 - val_loss: 0.4824 - val_accuracy: 0.7651\n",
            "Epoch 93/200\n",
            "407/407 [==============================] - ETA: 0s - loss: 0.5335 - accuracy: 0.7387"
          ]
        },
        {
          "metadata": {
            "tags": null
          },
          "name": "stderr",
          "output_type": "stream",
          "text": [
            "WARNING:absl:Found untraced functions such as _jit_compiled_convolution_op, _jit_compiled_convolution_op, _jit_compiled_convolution_op, _jit_compiled_convolution_op, _jit_compiled_convolution_op while saving (showing 5 of 53). These functions will not be directly callable after loading.\n"
          ]
        },
        {
          "metadata": {
            "tags": null
          },
          "name": "stdout",
          "output_type": "stream",
          "text": [
            "407/407 [==============================] - 91s 224ms/step - loss: 0.5335 - accuracy: 0.7387 - val_loss: 0.4774 - val_accuracy: 0.7756\n",
            "Epoch 94/200\n",
            "407/407 [==============================] - 72s 177ms/step - loss: 0.5422 - accuracy: 0.7285 - val_loss: 0.5164 - val_accuracy: 0.7559\n",
            "Epoch 95/200\n",
            "407/407 [==============================] - 72s 177ms/step - loss: 0.5404 - accuracy: 0.7364 - val_loss: 0.4816 - val_accuracy: 0.7795\n",
            "Epoch 96/200\n",
            "407/407 [==============================] - 71s 175ms/step - loss: 0.5444 - accuracy: 0.7278 - val_loss: 0.4917 - val_accuracy: 0.7703\n",
            "Epoch 97/200\n",
            "407/407 [==============================] - 71s 175ms/step - loss: 0.5288 - accuracy: 0.7359 - val_loss: 0.4946 - val_accuracy: 0.7822\n",
            "Epoch 98/200\n",
            "407/407 [==============================] - 72s 177ms/step - loss: 0.5341 - accuracy: 0.7418 - val_loss: 0.4997 - val_accuracy: 0.7638\n",
            "Epoch 99/200\n",
            "407/407 [==============================] - 72s 177ms/step - loss: 0.5346 - accuracy: 0.7336 - val_loss: 0.4868 - val_accuracy: 0.7756\n",
            "Epoch 100/200\n",
            "407/407 [==============================] - 72s 176ms/step - loss: 0.5380 - accuracy: 0.7315 - val_loss: 0.4920 - val_accuracy: 0.7717\n",
            "Epoch 101/200\n",
            "407/407 [==============================] - 72s 176ms/step - loss: 0.5343 - accuracy: 0.7300 - val_loss: 0.4802 - val_accuracy: 0.7559\n",
            "Epoch 102/200\n",
            "407/407 [==============================] - 72s 176ms/step - loss: 0.5312 - accuracy: 0.7347 - val_loss: 0.4913 - val_accuracy: 0.7743\n",
            "Epoch 103/200\n",
            "407/407 [==============================] - 71s 175ms/step - loss: 0.5414 - accuracy: 0.7267 - val_loss: 0.5007 - val_accuracy: 0.7690\n",
            "Epoch 104/200\n",
            "407/407 [==============================] - ETA: 0s - loss: 0.5313 - accuracy: 0.7365"
          ]
        },
        {
          "metadata": {
            "tags": null
          },
          "name": "stderr",
          "output_type": "stream",
          "text": [
            "WARNING:absl:Found untraced functions such as _jit_compiled_convolution_op, _jit_compiled_convolution_op, _jit_compiled_convolution_op, _jit_compiled_convolution_op, _jit_compiled_convolution_op while saving (showing 5 of 53). These functions will not be directly callable after loading.\n"
          ]
        },
        {
          "metadata": {
            "tags": null
          },
          "name": "stdout",
          "output_type": "stream",
          "text": [
            "407/407 [==============================] - 89s 218ms/step - loss: 0.5313 - accuracy: 0.7365 - val_loss: 0.4669 - val_accuracy: 0.7795\n",
            "Epoch 105/200\n",
            "407/407 [==============================] - 71s 175ms/step - loss: 0.5329 - accuracy: 0.7301 - val_loss: 0.4815 - val_accuracy: 0.7769\n",
            "Epoch 106/200\n",
            "407/407 [==============================] - 70s 173ms/step - loss: 0.5378 - accuracy: 0.7356 - val_loss: 0.5045 - val_accuracy: 0.7612\n",
            "Epoch 107/200\n",
            "407/407 [==============================] - 70s 173ms/step - loss: 0.5328 - accuracy: 0.7372 - val_loss: 0.5322 - val_accuracy: 0.7349\n",
            "Epoch 108/200\n",
            "407/407 [==============================] - 71s 173ms/step - loss: 0.5324 - accuracy: 0.7319 - val_loss: 0.4904 - val_accuracy: 0.7664\n",
            "Epoch 109/200\n",
            "407/407 [==============================] - 71s 173ms/step - loss: 0.5315 - accuracy: 0.7438 - val_loss: 0.4932 - val_accuracy: 0.7651\n",
            "Epoch 110/200\n",
            "407/407 [==============================] - 71s 174ms/step - loss: 0.5285 - accuracy: 0.7339 - val_loss: 0.4823 - val_accuracy: 0.7717\n",
            "Epoch 111/200\n",
            "407/407 [==============================] - 70s 173ms/step - loss: 0.5308 - accuracy: 0.7367 - val_loss: 0.4861 - val_accuracy: 0.7625\n",
            "Epoch 112/200\n",
            "407/407 [==============================] - 71s 174ms/step - loss: 0.5249 - accuracy: 0.7421 - val_loss: 0.4841 - val_accuracy: 0.7795\n",
            "Epoch 113/200\n",
            "407/407 [==============================] - ETA: 0s - loss: 0.5280 - accuracy: 0.7370"
          ]
        },
        {
          "metadata": {
            "tags": null
          },
          "name": "stderr",
          "output_type": "stream",
          "text": [
            "WARNING:absl:Found untraced functions such as _jit_compiled_convolution_op, _jit_compiled_convolution_op, _jit_compiled_convolution_op, _jit_compiled_convolution_op, _jit_compiled_convolution_op while saving (showing 5 of 53). These functions will not be directly callable after loading.\n"
          ]
        },
        {
          "metadata": {
            "tags": null
          },
          "name": "stdout",
          "output_type": "stream",
          "text": [
            "407/407 [==============================] - 88s 217ms/step - loss: 0.5280 - accuracy: 0.7370 - val_loss: 0.4658 - val_accuracy: 0.7782\n",
            "Epoch 114/200\n",
            "407/407 [==============================] - 72s 176ms/step - loss: 0.5304 - accuracy: 0.7357 - val_loss: 0.4893 - val_accuracy: 0.7703\n",
            "Epoch 115/200\n",
            "407/407 [==============================] - 70s 173ms/step - loss: 0.5213 - accuracy: 0.7426 - val_loss: 0.4674 - val_accuracy: 0.7782\n",
            "Epoch 116/200\n",
            "407/407 [==============================] - 71s 174ms/step - loss: 0.5252 - accuracy: 0.7447 - val_loss: 0.4719 - val_accuracy: 0.7690\n",
            "Epoch 117/200\n",
            "407/407 [==============================] - ETA: 0s - loss: 0.5227 - accuracy: 0.7336"
          ]
        },
        {
          "metadata": {
            "tags": null
          },
          "name": "stderr",
          "output_type": "stream",
          "text": [
            "WARNING:absl:Found untraced functions such as _jit_compiled_convolution_op, _jit_compiled_convolution_op, _jit_compiled_convolution_op, _jit_compiled_convolution_op, _jit_compiled_convolution_op while saving (showing 5 of 53). These functions will not be directly callable after loading.\n"
          ]
        },
        {
          "metadata": {
            "tags": null
          },
          "name": "stdout",
          "output_type": "stream",
          "text": [
            "407/407 [==============================] - 88s 216ms/step - loss: 0.5227 - accuracy: 0.7336 - val_loss: 0.4649 - val_accuracy: 0.7795\n",
            "Epoch 118/200\n",
            "407/407 [==============================] - 71s 174ms/step - loss: 0.5226 - accuracy: 0.7365 - val_loss: 0.4736 - val_accuracy: 0.7743\n",
            "Epoch 119/200\n",
            "407/407 [==============================] - 70s 173ms/step - loss: 0.5290 - accuracy: 0.7339 - val_loss: 0.4709 - val_accuracy: 0.7717\n",
            "Epoch 120/200\n",
            "407/407 [==============================] - 71s 174ms/step - loss: 0.5213 - accuracy: 0.7385 - val_loss: 0.4815 - val_accuracy: 0.7730\n",
            "Epoch 121/200\n",
            "407/407 [==============================] - 71s 174ms/step - loss: 0.5434 - accuracy: 0.7273 - val_loss: 0.5552 - val_accuracy: 0.7349\n",
            "Epoch 122/200\n",
            "407/407 [==============================] - 71s 174ms/step - loss: 0.5726 - accuracy: 0.7259 - val_loss: 0.5282 - val_accuracy: 0.7795\n",
            "Epoch 123/200\n",
            "407/407 [==============================] - 71s 174ms/step - loss: 0.5443 - accuracy: 0.7336 - val_loss: 0.5257 - val_accuracy: 0.7402\n",
            "Epoch 124/200\n",
            "407/407 [==============================] - 71s 174ms/step - loss: 0.5357 - accuracy: 0.7342 - val_loss: 0.5486 - val_accuracy: 0.7244\n",
            "Epoch 125/200\n",
            "407/407 [==============================] - 71s 174ms/step - loss: 0.5411 - accuracy: 0.7285 - val_loss: 0.4926 - val_accuracy: 0.7651\n",
            "Epoch 126/200\n",
            "407/407 [==============================] - 71s 174ms/step - loss: 0.5412 - accuracy: 0.7315 - val_loss: 0.4880 - val_accuracy: 0.7808\n",
            "Epoch 127/200\n",
            "407/407 [==============================] - 71s 173ms/step - loss: 0.5386 - accuracy: 0.7300 - val_loss: 0.4849 - val_accuracy: 0.7795\n",
            "Epoch 128/200\n",
            "407/407 [==============================] - 70s 173ms/step - loss: 0.5362 - accuracy: 0.7352 - val_loss: 0.4796 - val_accuracy: 0.7808\n",
            "Epoch 129/200\n",
            "407/407 [==============================] - 71s 175ms/step - loss: 0.5383 - accuracy: 0.7319 - val_loss: 0.5216 - val_accuracy: 0.7402\n",
            "Epoch 130/200\n",
            "407/407 [==============================] - 71s 173ms/step - loss: 0.5390 - accuracy: 0.7292 - val_loss: 0.4959 - val_accuracy: 0.7808\n",
            "Epoch 131/200\n",
            "407/407 [==============================] - 70s 173ms/step - loss: 0.5487 - accuracy: 0.7157 - val_loss: 0.4815 - val_accuracy: 0.7769\n",
            "Epoch 132/200\n",
            "407/407 [==============================] - 70s 173ms/step - loss: 0.5338 - accuracy: 0.7382 - val_loss: 0.4800 - val_accuracy: 0.7756\n",
            "Epoch 133/200\n",
            "407/407 [==============================] - 70s 172ms/step - loss: 0.5411 - accuracy: 0.7262 - val_loss: 0.4871 - val_accuracy: 0.7848\n",
            "Epoch 134/200\n",
            "407/407 [==============================] - 71s 174ms/step - loss: 0.5404 - accuracy: 0.7303 - val_loss: 0.4831 - val_accuracy: 0.7756\n",
            "Epoch 135/200\n",
            "407/407 [==============================] - 70s 172ms/step - loss: 0.5422 - accuracy: 0.7324 - val_loss: 0.4904 - val_accuracy: 0.7782\n",
            "Epoch 136/200\n",
            "407/407 [==============================] - 71s 175ms/step - loss: 0.5393 - accuracy: 0.7264 - val_loss: 0.5047 - val_accuracy: 0.7559\n",
            "Epoch 137/200\n",
            "407/407 [==============================] - 71s 174ms/step - loss: 0.5340 - accuracy: 0.7351 - val_loss: 0.4751 - val_accuracy: 0.7703\n",
            "Epoch 138/200\n",
            "407/407 [==============================] - 71s 173ms/step - loss: 0.5332 - accuracy: 0.7377 - val_loss: 0.4955 - val_accuracy: 0.7690\n",
            "Epoch 139/200\n",
            "407/407 [==============================] - 71s 175ms/step - loss: 0.5391 - accuracy: 0.7267 - val_loss: 0.5325 - val_accuracy: 0.7480\n",
            "Epoch 140/200\n",
            "407/407 [==============================] - 70s 173ms/step - loss: 0.5367 - accuracy: 0.7354 - val_loss: 0.4958 - val_accuracy: 0.7822\n",
            "Epoch 141/200\n",
            "407/407 [==============================] - 74s 181ms/step - loss: 0.5332 - accuracy: 0.7382 - val_loss: 0.4902 - val_accuracy: 0.7717\n",
            "Epoch 142/200\n",
            "407/407 [==============================] - ETA: 0s - loss: 0.5336 - accuracy: 0.7346"
          ]
        },
        {
          "metadata": {
            "tags": null
          },
          "name": "stderr",
          "output_type": "stream",
          "text": [
            "WARNING:absl:Found untraced functions such as _jit_compiled_convolution_op, _jit_compiled_convolution_op, _jit_compiled_convolution_op, _jit_compiled_convolution_op, _jit_compiled_convolution_op while saving (showing 5 of 53). These functions will not be directly callable after loading.\n"
          ]
        },
        {
          "metadata": {
            "tags": null
          },
          "name": "stdout",
          "output_type": "stream",
          "text": [
            "407/407 [==============================] - 89s 220ms/step - loss: 0.5336 - accuracy: 0.7346 - val_loss: 0.4590 - val_accuracy: 0.7808\n",
            "Epoch 143/200\n",
            "407/407 [==============================] - 71s 174ms/step - loss: 0.5231 - accuracy: 0.7459 - val_loss: 0.4790 - val_accuracy: 0.7690\n",
            "Epoch 144/200\n",
            "407/407 [==============================] - 71s 175ms/step - loss: 0.5347 - accuracy: 0.7277 - val_loss: 0.4666 - val_accuracy: 0.7743\n",
            "Epoch 145/200\n",
            "407/407 [==============================] - 70s 173ms/step - loss: 0.5334 - accuracy: 0.7321 - val_loss: 0.4764 - val_accuracy: 0.7703\n",
            "Epoch 146/200\n",
            "407/407 [==============================] - 71s 174ms/step - loss: 0.5319 - accuracy: 0.7365 - val_loss: 0.4877 - val_accuracy: 0.7730\n",
            "Epoch 147/200\n",
            "407/407 [==============================] - 74s 181ms/step - loss: 0.5321 - accuracy: 0.7349 - val_loss: 0.5001 - val_accuracy: 0.7612\n",
            "Epoch 148/200\n",
            "407/407 [==============================] - 71s 174ms/step - loss: 0.5348 - accuracy: 0.7308 - val_loss: 0.4713 - val_accuracy: 0.7835\n",
            "Epoch 149/200\n",
            "407/407 [==============================] - 71s 175ms/step - loss: 0.5326 - accuracy: 0.7336 - val_loss: 0.5190 - val_accuracy: 0.7415\n",
            "Epoch 150/200\n",
            "407/407 [==============================] - 71s 174ms/step - loss: 0.5297 - accuracy: 0.7377 - val_loss: 0.4824 - val_accuracy: 0.7848\n",
            "Epoch 151/200\n",
            "407/407 [==============================] - 71s 175ms/step - loss: 0.5287 - accuracy: 0.7416 - val_loss: 0.4754 - val_accuracy: 0.7808\n",
            "Epoch 152/200\n",
            "407/407 [==============================] - 70s 173ms/step - loss: 0.5280 - accuracy: 0.7370 - val_loss: 0.5251 - val_accuracy: 0.7520\n",
            "Epoch 153/200\n",
            "407/407 [==============================] - 71s 174ms/step - loss: 0.5294 - accuracy: 0.7383 - val_loss: 0.5208 - val_accuracy: 0.7441\n",
            "Epoch 154/200\n",
            "407/407 [==============================] - 71s 173ms/step - loss: 0.5305 - accuracy: 0.7321 - val_loss: 0.4800 - val_accuracy: 0.7848\n",
            "Epoch 155/200\n",
            "407/407 [==============================] - 70s 173ms/step - loss: 0.5296 - accuracy: 0.7352 - val_loss: 0.5050 - val_accuracy: 0.7612\n",
            "Epoch 156/200\n",
            "407/407 [==============================] - 70s 173ms/step - loss: 0.5329 - accuracy: 0.7298 - val_loss: 0.4728 - val_accuracy: 0.7822\n",
            "Epoch 157/200\n",
            "407/407 [==============================] - ETA: 0s - loss: 0.5208 - accuracy: 0.7472"
          ]
        },
        {
          "metadata": {
            "tags": null
          },
          "name": "stderr",
          "output_type": "stream",
          "text": [
            "WARNING:absl:Found untraced functions such as _jit_compiled_convolution_op, _jit_compiled_convolution_op, _jit_compiled_convolution_op, _jit_compiled_convolution_op, _jit_compiled_convolution_op while saving (showing 5 of 53). These functions will not be directly callable after loading.\n"
          ]
        },
        {
          "metadata": {
            "tags": null
          },
          "name": "stdout",
          "output_type": "stream",
          "text": [
            "407/407 [==============================] - 92s 225ms/step - loss: 0.5208 - accuracy: 0.7472 - val_loss: 0.4562 - val_accuracy: 0.7808\n",
            "Epoch 158/200\n",
            "407/407 [==============================] - 72s 178ms/step - loss: 0.5303 - accuracy: 0.7356 - val_loss: 0.4724 - val_accuracy: 0.7703\n",
            "Epoch 159/200\n",
            "407/407 [==============================] - 72s 176ms/step - loss: 0.5346 - accuracy: 0.7295 - val_loss: 0.4725 - val_accuracy: 0.7795\n",
            "Epoch 160/200\n",
            "407/407 [==============================] - 72s 176ms/step - loss: 0.5201 - accuracy: 0.7439 - val_loss: 0.4777 - val_accuracy: 0.7808\n",
            "Epoch 161/200\n",
            "407/407 [==============================] - 73s 179ms/step - loss: 0.5265 - accuracy: 0.7380 - val_loss: 0.4678 - val_accuracy: 0.7887\n",
            "Epoch 162/200\n",
            "407/407 [==============================] - 74s 181ms/step - loss: 0.5322 - accuracy: 0.7292 - val_loss: 0.4582 - val_accuracy: 0.7769\n",
            "Epoch 163/200\n",
            "407/407 [==============================] - 73s 180ms/step - loss: 0.5277 - accuracy: 0.7374 - val_loss: 0.4621 - val_accuracy: 0.7848\n",
            "Epoch 164/200\n",
            "407/407 [==============================] - 74s 183ms/step - loss: 0.5295 - accuracy: 0.7365 - val_loss: 0.4739 - val_accuracy: 0.7808\n",
            "Epoch 165/200\n",
            "407/407 [==============================] - ETA: 0s - loss: 0.5272 - accuracy: 0.7360"
          ]
        },
        {
          "metadata": {
            "tags": null
          },
          "name": "stderr",
          "output_type": "stream",
          "text": [
            "WARNING:absl:Found untraced functions such as _jit_compiled_convolution_op, _jit_compiled_convolution_op, _jit_compiled_convolution_op, _jit_compiled_convolution_op, _jit_compiled_convolution_op while saving (showing 5 of 53). These functions will not be directly callable after loading.\n"
          ]
        },
        {
          "metadata": {
            "tags": null
          },
          "name": "stdout",
          "output_type": "stream",
          "text": [
            "407/407 [==============================] - 92s 227ms/step - loss: 0.5272 - accuracy: 0.7360 - val_loss: 0.4533 - val_accuracy: 0.7822\n",
            "Epoch 166/200\n",
            "407/407 [==============================] - 74s 182ms/step - loss: 0.5297 - accuracy: 0.7296 - val_loss: 0.4769 - val_accuracy: 0.7848\n",
            "Epoch 167/200\n",
            "407/407 [==============================] - 74s 182ms/step - loss: 0.5244 - accuracy: 0.7423 - val_loss: 0.4605 - val_accuracy: 0.7822\n",
            "Epoch 168/200\n",
            "407/407 [==============================] - 74s 182ms/step - loss: 0.5248 - accuracy: 0.7461 - val_loss: 0.4944 - val_accuracy: 0.7612\n",
            "Epoch 169/200\n",
            "407/407 [==============================] - 73s 180ms/step - loss: 0.5262 - accuracy: 0.7406 - val_loss: 0.4670 - val_accuracy: 0.7756\n",
            "Epoch 170/200\n",
            "407/407 [==============================] - 74s 182ms/step - loss: 0.5241 - accuracy: 0.7406 - val_loss: 0.4754 - val_accuracy: 0.7782\n",
            "Epoch 171/200\n",
            "407/407 [==============================] - ETA: 0s - loss: 0.5210 - accuracy: 0.7406"
          ]
        },
        {
          "metadata": {
            "tags": null
          },
          "name": "stderr",
          "output_type": "stream",
          "text": [
            "WARNING:absl:Found untraced functions such as _jit_compiled_convolution_op, _jit_compiled_convolution_op, _jit_compiled_convolution_op, _jit_compiled_convolution_op, _jit_compiled_convolution_op while saving (showing 5 of 53). These functions will not be directly callable after loading.\n"
          ]
        },
        {
          "metadata": {
            "tags": null
          },
          "name": "stdout",
          "output_type": "stream",
          "text": [
            "407/407 [==============================] - 92s 226ms/step - loss: 0.5210 - accuracy: 0.7406 - val_loss: 0.4503 - val_accuracy: 0.7887\n",
            "Epoch 172/200\n",
            "407/407 [==============================] - 74s 181ms/step - loss: 0.5217 - accuracy: 0.7392 - val_loss: 0.4506 - val_accuracy: 0.7927\n",
            "Epoch 173/200\n",
            "407/407 [==============================] - 73s 180ms/step - loss: 0.5235 - accuracy: 0.7413 - val_loss: 0.4582 - val_accuracy: 0.7835\n",
            "Epoch 174/200\n",
            "407/407 [==============================] - 73s 180ms/step - loss: 0.5227 - accuracy: 0.7467 - val_loss: 0.4748 - val_accuracy: 0.7848\n",
            "Epoch 175/200\n",
            "407/407 [==============================] - 74s 181ms/step - loss: 0.5203 - accuracy: 0.7451 - val_loss: 0.4680 - val_accuracy: 0.7795\n",
            "Epoch 176/200\n",
            "407/407 [==============================] - 73s 180ms/step - loss: 0.5165 - accuracy: 0.7424 - val_loss: 0.4648 - val_accuracy: 0.7756\n",
            "Epoch 177/200\n",
            "407/407 [==============================] - 75s 184ms/step - loss: 0.5275 - accuracy: 0.7315 - val_loss: 0.4509 - val_accuracy: 0.7887\n",
            "Epoch 178/200\n",
            "407/407 [==============================] - ETA: 0s - loss: 0.5134 - accuracy: 0.7505"
          ]
        },
        {
          "metadata": {
            "tags": null
          },
          "name": "stderr",
          "output_type": "stream",
          "text": [
            "WARNING:absl:Found untraced functions such as _jit_compiled_convolution_op, _jit_compiled_convolution_op, _jit_compiled_convolution_op, _jit_compiled_convolution_op, _jit_compiled_convolution_op while saving (showing 5 of 53). These functions will not be directly callable after loading.\n"
          ]
        },
        {
          "metadata": {
            "tags": null
          },
          "name": "stdout",
          "output_type": "stream",
          "text": [
            "407/407 [==============================] - 94s 230ms/step - loss: 0.5134 - accuracy: 0.7505 - val_loss: 0.4483 - val_accuracy: 0.7861\n",
            "Epoch 179/200\n",
            "407/407 [==============================] - 74s 182ms/step - loss: 0.5184 - accuracy: 0.7452 - val_loss: 0.4566 - val_accuracy: 0.7887\n",
            "Epoch 180/200\n",
            "407/407 [==============================] - 74s 182ms/step - loss: 0.5174 - accuracy: 0.7411 - val_loss: 0.5065 - val_accuracy: 0.7585\n",
            "Epoch 181/200\n",
            "407/407 [==============================] - 74s 182ms/step - loss: 0.5211 - accuracy: 0.7451 - val_loss: 0.4689 - val_accuracy: 0.7822\n",
            "Epoch 182/200\n",
            "407/407 [==============================] - 73s 180ms/step - loss: 0.5236 - accuracy: 0.7387 - val_loss: 0.4543 - val_accuracy: 0.7900\n",
            "Epoch 183/200\n",
            "407/407 [==============================] - 74s 181ms/step - loss: 0.5212 - accuracy: 0.7392 - val_loss: 0.5054 - val_accuracy: 0.7625\n",
            "Epoch 184/200\n",
            "407/407 [==============================] - 74s 181ms/step - loss: 0.5215 - accuracy: 0.7452 - val_loss: 0.4663 - val_accuracy: 0.7822\n",
            "Epoch 185/200\n",
            "407/407 [==============================] - ETA: 0s - loss: 0.5235 - accuracy: 0.7397"
          ]
        },
        {
          "metadata": {
            "tags": null
          },
          "name": "stderr",
          "output_type": "stream",
          "text": [
            "WARNING:absl:Found untraced functions such as _jit_compiled_convolution_op, _jit_compiled_convolution_op, _jit_compiled_convolution_op, _jit_compiled_convolution_op, _jit_compiled_convolution_op while saving (showing 5 of 53). These functions will not be directly callable after loading.\n"
          ]
        },
        {
          "metadata": {
            "tags": null
          },
          "name": "stdout",
          "output_type": "stream",
          "text": [
            "407/407 [==============================] - 92s 226ms/step - loss: 0.5235 - accuracy: 0.7397 - val_loss: 0.4442 - val_accuracy: 0.7900\n",
            "Epoch 186/200\n",
            "407/407 [==============================] - 74s 181ms/step - loss: 0.5215 - accuracy: 0.7388 - val_loss: 0.4778 - val_accuracy: 0.7717\n",
            "Epoch 187/200\n",
            "407/407 [==============================] - 74s 181ms/step - loss: 0.5310 - accuracy: 0.7352 - val_loss: 0.4473 - val_accuracy: 0.7874\n",
            "Epoch 188/200\n",
            "407/407 [==============================] - 73s 180ms/step - loss: 0.5188 - accuracy: 0.7397 - val_loss: 0.4614 - val_accuracy: 0.7822\n",
            "Epoch 189/200\n",
            "407/407 [==============================] - 73s 180ms/step - loss: 0.5264 - accuracy: 0.7420 - val_loss: 0.4715 - val_accuracy: 0.7625\n",
            "Epoch 190/200\n",
            "407/407 [==============================] - 73s 180ms/step - loss: 0.5336 - accuracy: 0.7370 - val_loss: 0.4952 - val_accuracy: 0.7887\n",
            "Epoch 191/200\n",
            "407/407 [==============================] - ETA: 0s - loss: 0.5175 - accuracy: 0.7434"
          ]
        },
        {
          "metadata": {
            "tags": null
          },
          "name": "stderr",
          "output_type": "stream",
          "text": [
            "WARNING:absl:Found untraced functions such as _jit_compiled_convolution_op, _jit_compiled_convolution_op, _jit_compiled_convolution_op, _jit_compiled_convolution_op, _jit_compiled_convolution_op while saving (showing 5 of 53). These functions will not be directly callable after loading.\n"
          ]
        },
        {
          "output_type": "stream",
          "name": "stdout",
          "text": [
            "407/407 [==============================] - 92s 225ms/step - loss: 0.5175 - accuracy: 0.7434 - val_loss: 0.4430 - val_accuracy: 0.7927\n",
            "Epoch 192/200\n",
            "407/407 [==============================] - 73s 180ms/step - loss: 0.5245 - accuracy: 0.7398 - val_loss: 0.4464 - val_accuracy: 0.7795\n",
            "Epoch 193/200\n",
            "407/407 [==============================] - 73s 180ms/step - loss: 0.5181 - accuracy: 0.7433 - val_loss: 0.4449 - val_accuracy: 0.7913\n",
            "Epoch 194/200\n",
            "407/407 [==============================] - 73s 178ms/step - loss: 0.5306 - accuracy: 0.7267 - val_loss: 0.4615 - val_accuracy: 0.7769\n",
            "Epoch 195/200\n",
            "407/407 [==============================] - 73s 179ms/step - loss: 0.5166 - accuracy: 0.7443 - val_loss: 0.4530 - val_accuracy: 0.7927\n",
            "Epoch 196/200\n",
            "407/407 [==============================] - 73s 179ms/step - loss: 0.5149 - accuracy: 0.7431 - val_loss: 0.4476 - val_accuracy: 0.7808\n",
            "Epoch 197/200\n",
            "407/407 [==============================] - 73s 180ms/step - loss: 0.5244 - accuracy: 0.7365 - val_loss: 0.4468 - val_accuracy: 0.7822\n",
            "Epoch 198/200\n",
            "407/407 [==============================] - 74s 182ms/step - loss: 0.5140 - accuracy: 0.7454 - val_loss: 0.4728 - val_accuracy: 0.7913\n",
            "Epoch 199/200\n",
            "407/407 [==============================] - 74s 181ms/step - loss: 0.5164 - accuracy: 0.7400 - val_loss: 0.4600 - val_accuracy: 0.7927\n",
            "Epoch 200/200\n",
            "407/407 [==============================] - 74s 181ms/step - loss: 0.5255 - accuracy: 0.7383 - val_loss: 0.4676 - val_accuracy: 0.7861\n"
          ]
        }
      ],
      "source": [
        "epochs = 200\n",
        "history = model.fit_generator(train_generator,\n",
        "                              validation_data=valid_generator, verbose=1, epochs=epochs, callbacks=[checkpoint])"
      ]
    },
    {
      "cell_type": "markdown",
      "metadata": {
        "id": "To3P79GkEZmN"
      },
      "source": [
        "## Saving Model"
      ]
    },
    {
      "cell_type": "code",
      "source": [
        "model.save('/content/gdrive/MyDrive/ResNet50_11042023Sec.h5')"
      ],
      "metadata": {
        "id": "uzr7wbDIFGDW"
      },
      "execution_count": null,
      "outputs": []
    },
    {
      "cell_type": "code",
      "source": [
        "#import shutil\n",
        "%cp -av \"/content/best_model\" \"/content/gdrive/MyDrive/ResNet50/\""
      ],
      "metadata": {
        "colab": {
          "base_uri": "https://localhost:8080/"
        },
        "id": "2wItex9s1WLb",
        "outputId": "dbefdac4-14e8-4421-d08d-5ead8da12ee1"
      },
      "execution_count": null,
      "outputs": [
        {
          "output_type": "stream",
          "name": "stdout",
          "text": [
            "'/content/best_model' -> '/content/gdrive/MyDrive/ResNet50/best_model'\n",
            "'/content/best_model/variables' -> '/content/gdrive/MyDrive/ResNet50/best_model/variables'\n",
            "'/content/best_model/variables/variables.index' -> '/content/gdrive/MyDrive/ResNet50/best_model/variables/variables.index'\n",
            "'/content/best_model/variables/variables.data-00000-of-00001' -> '/content/gdrive/MyDrive/ResNet50/best_model/variables/variables.data-00000-of-00001'\n",
            "'/content/best_model/assets' -> '/content/gdrive/MyDrive/ResNet50/best_model/assets'\n",
            "'/content/best_model/saved_model.pb' -> '/content/gdrive/MyDrive/ResNet50/best_model/saved_model.pb'\n",
            "'/content/best_model/keras_metadata.pb' -> '/content/gdrive/MyDrive/ResNet50/best_model/keras_metadata.pb'\n",
            "'/content/best_model/fingerprint.pb' -> '/content/gdrive/MyDrive/ResNet50/best_model/fingerprint.pb'\n"
          ]
        }
      ]
    },
    {
      "cell_type": "markdown",
      "metadata": {
        "id": "jHly7XjAEZmN"
      },
      "source": [
        "## Model Evaluation\n"
      ]
    },
    {
      "cell_type": "code",
      "source": [
        "model.evaluate(train_generator)\n",
        "model.evaluate(valid_generator)\n"
      ],
      "metadata": {
        "colab": {
          "base_uri": "https://localhost:8080/"
        },
        "id": "fxvQ9OiOnPmM",
        "outputId": "0898bf25-547c-4dc3-d5c0-db80929ce064"
      },
      "execution_count": null,
      "outputs": [
        {
          "output_type": "stream",
          "name": "stdout",
          "text": [
            "407/407 [==============================] - 77s 188ms/step - loss: 0.4960 - accuracy: 0.7548\n",
            "51/51 [==============================] - 3s 55ms/step - loss: 0.4676 - accuracy: 0.7861\n"
          ]
        },
        {
          "output_type": "execute_result",
          "data": {
            "text/plain": [
              "[0.4676024317741394, 0.7860892415046692]"
            ]
          },
          "metadata": {},
          "execution_count": 41
        }
      ]
    },
    {
      "cell_type": "code",
      "source": [
        "# create history loss and accuracy function\n",
        "def plot_loss_acc(history):\n",
        "    train_loss = history.history['loss']\n",
        "    val_loss = history.history['val_loss']\n",
        "    acc = history.history['accuracy']\n",
        "    val_acc = history.history['val_accuracy']\n",
        "    epochs = range(len(train_loss))\n",
        "\n",
        "    plt.figure(figsize=(8,6))\n",
        "    plt.plot(epochs, train_loss, color='b', label='Train')\n",
        "    plt.plot(epochs, val_loss, color='r', label='Validation')\n",
        "    plt.legend()\n",
        "    plt.title('Model Loss')\n",
        "    \n",
        "    \n",
        "    plt.figure(figsize=(8,6))\n",
        "    plt.plot(epochs, acc, color='b', label='Train')\n",
        "    plt.plot(epochs, val_acc, color='r', label='Validation')\n",
        "    plt.legend()\n",
        "    plt.title('Model Accuracy')\n",
        "    \n",
        "    plt.show()"
      ],
      "metadata": {
        "id": "ChuAcmwxk_tC"
      },
      "execution_count": null,
      "outputs": []
    },
    {
      "cell_type": "code",
      "source": [
        "plot_loss_acc(history)"
      ],
      "metadata": {
        "colab": {
          "base_uri": "https://localhost:8080/",
          "height": 1000
        },
        "id": "d_A4flj9nEBW",
        "outputId": "0dab7ffb-af8c-4e7d-9d14-6aea63381707"
      },
      "execution_count": null,
      "outputs": [
        {
          "output_type": "display_data",
          "data": {
            "text/plain": [
              "<Figure size 800x600 with 1 Axes>"
            ],
            "image/png": "[encoded data removed]"
          },
          "metadata": {}
        },
        {
          "output_type": "display_data",
          "data": {
            "text/plain": [
              "<Figure size 800x600 with 1 Axes>"
            ],
            "image/png": "[encoded data removed]"
          },
          "metadata": {}
        }
      ]
    },
    {
      "cell_type": "markdown",
      "source": [
        "## Classificaiton Confusion Matrix"
      ],
      "metadata": {
        "id": "LXLN95uZp6HM"
      }
    },
    {
      "cell_type": "code",
      "source": [
        "from sklearn.metrics import confusion_matrix, classification_report\n",
        "import seaborn as sns"
      ],
      "metadata": {
        "id": "Qgz3_PnEk_0r"
      },
      "execution_count": 20,
      "outputs": []
    },
    {
      "cell_type": "code",
      "source": [
        "# predict classes of validation dataset\n",
        "test_predict = model.predict(test_generator)"
      ],
      "metadata": {
        "colab": {
          "base_uri": "https://localhost:8080/"
        },
        "id": "ohighY63lACo",
        "outputId": "cb1cf201-9cfc-40a2-c096-11b7bd572c83"
      },
      "execution_count": null,
      "outputs": [
        {
          "output_type": "stream",
          "name": "stdout",
          "text": [
            "51/51 [==============================] - 4s 54ms/step\n"
          ]
        }
      ]
    },
    {
      "cell_type": "code",
      "source": [
        "predict_class = np.argmax(test_predict, axis=1)\n",
        "predict_class = predict_class.tolist()"
      ],
      "metadata": {
        "id": "eUoLupEYlAD6"
      },
      "execution_count": null,
      "outputs": []
    },
    {
      "cell_type": "code",
      "source": [
        "labels = ['COVID', 'Normal']\n",
        "report = classification_report(test_generator.classes, predict_class, target_names=labels)\n",
        "print(report)"
      ],
      "metadata": {
        "colab": {
          "base_uri": "https://localhost:8080/"
        },
        "id": "_78drHIloHj6",
        "outputId": "f9a035df-b6ca-4816-f66a-3d8ebe1e304e"
      },
      "execution_count": null,
      "outputs": [
        {
          "output_type": "stream",
          "name": "stdout",
          "text": [
            "              precision    recall  f1-score   support\n",
            "\n",
            "       COVID       0.52      0.53      0.53       400\n",
            "      Normal       0.47      0.46      0.46       362\n",
            "\n",
            "    accuracy                           0.50       762\n",
            "   macro avg       0.50      0.50      0.50       762\n",
            "weighted avg       0.50      0.50      0.50       762\n",
            "\n"
          ]
        }
      ]
    },
    {
      "cell_type": "code",
      "source": [
        "cm = confusion_matrix(test_generator.classes, predict_class)\n",
        "cm_df = pd.DataFrame(cm,\n",
        "                     index = ['COVID','NORMAL'], \n",
        "                     columns = ['COVID','NORMAL'])"
      ],
      "metadata": {
        "id": "94nXSaPJoHnI"
      },
      "execution_count": null,
      "outputs": []
    },
    {
      "cell_type": "code",
      "source": [
        "plt.figure(figsize=(8,6))\n",
        "sns.heatmap(cm_df, annot=True, fmt='d')\n",
        "plt.title(\"Confusion Matrixx\")\n",
        "plt.xlabel(\"Predicted\")\n",
        "plt.ylabel(\"Actual\")\n",
        "plt.show()"
      ],
      "metadata": {
        "colab": {
          "base_uri": "https://localhost:8080/",
          "height": 564
        },
        "id": "_R9-pBxioHrI",
        "outputId": "2abe4213-291e-4712-fa83-3399c53df942"
      },
      "execution_count": null,
      "outputs": [
        {
          "output_type": "display_data",
          "data": {
            "text/plain": [
              "<Figure size 800x600 with 2 Axes>"
            ],
            "image/png": "[encoded data removed]"
          },
          "metadata": {}
        }
      ]
    },
    {
      "cell_type": "code",
      "source": [
        "random.seed(42)\n",
        "c2 = '/content/gdrive/MyDrive/dataset/COVID'\n",
        "filenames2 = os.listdir(c2)\n",
        "\n",
        "categories = []\n",
        "for filename in filenames2:\n",
        "    category = filename.split('-')[0]\n",
        "    categories.append(str(1))\n",
        "\n",
        "\n",
        "for i in range(len(filenames2)):\n",
        "      filenames2[i] = os.path.join(c2, filenames2[i])\n",
        "    \n",
        "    \n",
        "df2 = pd.DataFrame({\n",
        "    'filename': filenames2,\n",
        "    'category': categories\n",
        "})"
      ],
      "metadata": {
        "id": "_IgM5NV_oHta"
      },
      "execution_count": 9,
      "outputs": []
    },
    {
      "cell_type": "code",
      "source": [
        "random.seed(42)\n",
        "n2 = '/content/gdrive/MyDrive/dataset/Normal'\n",
        "filenames3 = os.listdir(n2)\n",
        "\n",
        "categories = []\n",
        "for filename in filenames3:\n",
        "    category = filename.split('-')[0]\n",
        "    categories.append(str(0))\n",
        "\n",
        "\n",
        "for i in range(len(filenames3)):\n",
        "      filenames3[i] = os.path.join(n2, filenames3[i])\n",
        "    \n",
        "    \n",
        "df3 = pd.DataFrame({\n",
        "    'filename': filenames3,\n",
        "    'category': categories\n",
        "})"
      ],
      "metadata": {
        "id": "s21oBj3fzd5g"
      },
      "execution_count": 10,
      "outputs": []
    },
    {
      "cell_type": "code",
      "source": [
        "df2.head()"
      ],
      "metadata": {
        "colab": {
          "base_uri": "https://localhost:8080/",
          "height": 206
        },
        "id": "47Cl6hMsw10t",
        "outputId": "7d0d8edd-e41b-4c39-9865-59bd64579dec"
      },
      "execution_count": 11,
      "outputs": [
        {
          "output_type": "execute_result",
          "data": {
            "text/plain": [
              "                                            filename category\n",
              "0  /content/gdrive/MyDrive/dataset/COVID/covid (1...        1\n",
              "1  /content/gdrive/MyDrive/dataset/COVID/covid (1...        1\n",
              "2  /content/gdrive/MyDrive/dataset/COVID/covid-1.jpg        1\n",
              "3  /content/gdrive/MyDrive/dataset/COVID/covid (1...        1\n",
              "4  /content/gdrive/MyDrive/dataset/COVID/covid (1...        1"
            ],
            "text/html": [
              "\n",
              "  <div id=\"df-65865ac7-2b11-43a8-a774-7e6f8022f337\">\n",
              "    <div class=\"colab-df-container\">\n",
              "      <div>\n",
              "<style scoped>\n",
              "    .dataframe tbody tr th:only-of-type {\n",
              "        vertical-align: middle;\n",
              "    }\n",
              "\n",
              "    .dataframe tbody tr th {\n",
              "        vertical-align: top;\n",
              "    }\n",
              "\n",
              "    .dataframe thead th {\n",
              "        text-align: right;\n",
              "    }\n",
              "</style>\n",
              "<table border=\"1\" class=\"dataframe\">\n",
              "  <thead>\n",
              "    <tr style=\"text-align: right;\">\n",
              "      <th></th>\n",
              "      <th>filename</th>\n",
              "      <th>category</th>\n",
              "    </tr>\n",
              "  </thead>\n",
              "  <tbody>\n",
              "    <tr>\n",
              "      <th>0</th>\n",
              "      <td>/content/gdrive/MyDrive/dataset/COVID/covid (1...</td>\n",
              "      <td>1</td>\n",
              "    </tr>\n",
              "    <tr>\n",
              "      <th>1</th>\n",
              "      <td>/content/gdrive/MyDrive/dataset/COVID/covid (1...</td>\n",
              "      <td>1</td>\n",
              "    </tr>\n",
              "    <tr>\n",
              "      <th>2</th>\n",
              "      <td>/content/gdrive/MyDrive/dataset/COVID/covid-1.jpg</td>\n",
              "      <td>1</td>\n",
              "    </tr>\n",
              "    <tr>\n",
              "      <th>3</th>\n",
              "      <td>/content/gdrive/MyDrive/dataset/COVID/covid (1...</td>\n",
              "      <td>1</td>\n",
              "    </tr>\n",
              "    <tr>\n",
              "      <th>4</th>\n",
              "      <td>/content/gdrive/MyDrive/dataset/COVID/covid (1...</td>\n",
              "      <td>1</td>\n",
              "    </tr>\n",
              "  </tbody>\n",
              "</table>\n",
              "</div>\n",
              "      <button class=\"colab-df-convert\" onclick=\"convertToInteractive('df-65865ac7-2b11-43a8-a774-7e6f8022f337')\"\n",
              "              title=\"Convert this dataframe to an interactive table.\"\n",
              "              style=\"display:none;\">\n",
              "        \n",
              "  <svg xmlns=\"http://www.w3.org/2000/svg\" height=\"24px\"viewBox=\"0 0 24 24\"\n",
              "       width=\"24px\">\n",
              "    <path d=\"M0 0h24v24H0V0z\" fill=\"none\"/>\n",
              "    <path d=\"M18.56 5.44l.94 2.06.94-2.06 2.06-.94-2.06-.94-.94-2.06-.94 2.06-2.06.94zm-11 1L8.5 8.5l.94-2.06 2.06-.94-2.06-.94L8.5 2.5l-.94 2.06-2.06.94zm10 10l.94 2.06.94-2.06 2.06-.94-2.06-.94-.94-2.06-.94 2.06-2.06.94z\"/><path d=\"M17.41 7.96l-1.37-1.37c-.4-.4-.92-.59-1.43-.59-.52 0-1.04.2-1.43.59L10.3 9.45l-7.72 7.72c-.78.78-.78 2.05 0 2.83L4 21.41c.39.39.9.59 1.41.59.51 0 1.02-.2 1.41-.59l7.78-7.78 2.81-2.81c.8-.78.8-2.07 0-2.86zM5.41 20L4 18.59l7.72-7.72 1.47 1.35L5.41 20z\"/>\n",
              "  </svg>\n",
              "      </button>\n",
              "      \n",
              "  <style>\n",
              "    .colab-df-container {\n",
              "      display:flex;\n",
              "      flex-wrap:wrap;\n",
              "      gap: 12px;\n",
              "    }\n",
              "\n",
              "    .colab-df-convert {\n",
              "      background-color: #E8F0FE;\n",
              "      border: none;\n",
              "      border-radius: 50%;\n",
              "      cursor: pointer;\n",
              "      display: none;\n",
              "      fill: #1967D2;\n",
              "      height: 32px;\n",
              "      padding: 0 0 0 0;\n",
              "      width: 32px;\n",
              "    }\n",
              "\n",
              "    .colab-df-convert:hover {\n",
              "      background-color: #E2EBFA;\n",
              "      box-shadow: 0px 1px 2px rgba(60, 64, 67, 0.3), 0px 1px 3px 1px rgba(60, 64, 67, 0.15);\n",
              "      fill: #174EA6;\n",
              "    }\n",
              "\n",
              "    [theme=dark] .colab-df-convert {\n",
              "      background-color: #3B4455;\n",
              "      fill: #D2E3FC;\n",
              "    }\n",
              "\n",
              "    [theme=dark] .colab-df-convert:hover {\n",
              "      background-color: #434B5C;\n",
              "      box-shadow: 0px 1px 3px 1px rgba(0, 0, 0, 0.15);\n",
              "      filter: drop-shadow(0px 1px 2px rgba(0, 0, 0, 0.3));\n",
              "      fill: #FFFFFF;\n",
              "    }\n",
              "  </style>\n",
              "\n",
              "      <script>\n",
              "        const buttonEl =\n",
              "          document.querySelector('#df-65865ac7-2b11-43a8-a774-7e6f8022f337 button.colab-df-convert');\n",
              "        buttonEl.style.display =\n",
              "          google.colab.kernel.accessAllowed ? 'block' : 'none';\n",
              "\n",
              "        async function convertToInteractive(key) {\n",
              "          const element = document.querySelector('#df-65865ac7-2b11-43a8-a774-7e6f8022f337');\n",
              "          const dataTable =\n",
              "            await google.colab.kernel.invokeFunction('convertToInteractive',\n",
              "                                                     [key], {});\n",
              "          if (!dataTable) return;\n",
              "\n",
              "          const docLinkHtml = 'Like what you see? Visit the ' +\n",
              "            '<a target=\"_blank\" href=https://colab.research.google.com/notebooks/data_table.ipynb>data table notebook</a>'\n",
              "            + ' to learn more about interactive tables.';\n",
              "          element.innerHTML = '';\n",
              "          dataTable['output_type'] = 'display_data';\n",
              "          await google.colab.output.renderOutput(dataTable, element);\n",
              "          const docLink = document.createElement('div');\n",
              "          docLink.innerHTML = docLinkHtml;\n",
              "          element.appendChild(docLink);\n",
              "        }\n",
              "      </script>\n",
              "    </div>\n",
              "  </div>\n",
              "  "
            ]
          },
          "metadata": {},
          "execution_count": 11
        }
      ]
    },
    {
      "cell_type": "code",
      "source": [
        "df3.head()"
      ],
      "metadata": {
        "colab": {
          "base_uri": "https://localhost:8080/",
          "height": 206
        },
        "id": "zjNhGVG7VnSg",
        "outputId": "e72a3cad-d8ef-4ce6-d9ba-330515dc4595"
      },
      "execution_count": 12,
      "outputs": [
        {
          "output_type": "execute_result",
          "data": {
            "text/plain": [
              "                                            filename category\n",
              "0  /content/gdrive/MyDrive/dataset/Normal/IM-0243...        0\n",
              "1  /content/gdrive/MyDrive/dataset/Normal/IM-0235...        0\n",
              "2  /content/gdrive/MyDrive/dataset/Normal/IM-0218...        0\n",
              "3  /content/gdrive/MyDrive/dataset/Normal/IM-0234...        0\n",
              "4  /content/gdrive/MyDrive/dataset/Normal/IM-0239...        0"
            ],
            "text/html": [
              "\n",
              "  <div id=\"df-45e97859-524b-4a92-a921-7d4a3d628f80\">\n",
              "    <div class=\"colab-df-container\">\n",
              "      <div>\n",
              "<style scoped>\n",
              "    .dataframe tbody tr th:only-of-type {\n",
              "        vertical-align: middle;\n",
              "    }\n",
              "\n",
              "    .dataframe tbody tr th {\n",
              "        vertical-align: top;\n",
              "    }\n",
              "\n",
              "    .dataframe thead th {\n",
              "        text-align: right;\n",
              "    }\n",
              "</style>\n",
              "<table border=\"1\" class=\"dataframe\">\n",
              "  <thead>\n",
              "    <tr style=\"text-align: right;\">\n",
              "      <th></th>\n",
              "      <th>filename</th>\n",
              "      <th>category</th>\n",
              "    </tr>\n",
              "  </thead>\n",
              "  <tbody>\n",
              "    <tr>\n",
              "      <th>0</th>\n",
              "      <td>/content/gdrive/MyDrive/dataset/Normal/IM-0243...</td>\n",
              "      <td>0</td>\n",
              "    </tr>\n",
              "    <tr>\n",
              "      <th>1</th>\n",
              "      <td>/content/gdrive/MyDrive/dataset/Normal/IM-0235...</td>\n",
              "      <td>0</td>\n",
              "    </tr>\n",
              "    <tr>\n",
              "      <th>2</th>\n",
              "      <td>/content/gdrive/MyDrive/dataset/Normal/IM-0218...</td>\n",
              "      <td>0</td>\n",
              "    </tr>\n",
              "    <tr>\n",
              "      <th>3</th>\n",
              "      <td>/content/gdrive/MyDrive/dataset/Normal/IM-0234...</td>\n",
              "      <td>0</td>\n",
              "    </tr>\n",
              "    <tr>\n",
              "      <th>4</th>\n",
              "      <td>/content/gdrive/MyDrive/dataset/Normal/IM-0239...</td>\n",
              "      <td>0</td>\n",
              "    </tr>\n",
              "  </tbody>\n",
              "</table>\n",
              "</div>\n",
              "      <button class=\"colab-df-convert\" onclick=\"convertToInteractive('df-45e97859-524b-4a92-a921-7d4a3d628f80')\"\n",
              "              title=\"Convert this dataframe to an interactive table.\"\n",
              "              style=\"display:none;\">\n",
              "        \n",
              "  <svg xmlns=\"http://www.w3.org/2000/svg\" height=\"24px\"viewBox=\"0 0 24 24\"\n",
              "       width=\"24px\">\n",
              "    <path d=\"M0 0h24v24H0V0z\" fill=\"none\"/>\n",
              "    <path d=\"M18.56 5.44l.94 2.06.94-2.06 2.06-.94-2.06-.94-.94-2.06-.94 2.06-2.06.94zm-11 1L8.5 8.5l.94-2.06 2.06-.94-2.06-.94L8.5 2.5l-.94 2.06-2.06.94zm10 10l.94 2.06.94-2.06 2.06-.94-2.06-.94-.94-2.06-.94 2.06-2.06.94z\"/><path d=\"M17.41 7.96l-1.37-1.37c-.4-.4-.92-.59-1.43-.59-.52 0-1.04.2-1.43.59L10.3 9.45l-7.72 7.72c-.78.78-.78 2.05 0 2.83L4 21.41c.39.39.9.59 1.41.59.51 0 1.02-.2 1.41-.59l7.78-7.78 2.81-2.81c.8-.78.8-2.07 0-2.86zM5.41 20L4 18.59l7.72-7.72 1.47 1.35L5.41 20z\"/>\n",
              "  </svg>\n",
              "      </button>\n",
              "      \n",
              "  <style>\n",
              "    .colab-df-container {\n",
              "      display:flex;\n",
              "      flex-wrap:wrap;\n",
              "      gap: 12px;\n",
              "    }\n",
              "\n",
              "    .colab-df-convert {\n",
              "      background-color: #E8F0FE;\n",
              "      border: none;\n",
              "      border-radius: 50%;\n",
              "      cursor: pointer;\n",
              "      display: none;\n",
              "      fill: #1967D2;\n",
              "      height: 32px;\n",
              "      padding: 0 0 0 0;\n",
              "      width: 32px;\n",
              "    }\n",
              "\n",
              "    .colab-df-convert:hover {\n",
              "      background-color: #E2EBFA;\n",
              "      box-shadow: 0px 1px 2px rgba(60, 64, 67, 0.3), 0px 1px 3px 1px rgba(60, 64, 67, 0.15);\n",
              "      fill: #174EA6;\n",
              "    }\n",
              "\n",
              "    [theme=dark] .colab-df-convert {\n",
              "      background-color: #3B4455;\n",
              "      fill: #D2E3FC;\n",
              "    }\n",
              "\n",
              "    [theme=dark] .colab-df-convert:hover {\n",
              "      background-color: #434B5C;\n",
              "      box-shadow: 0px 1px 3px 1px rgba(0, 0, 0, 0.15);\n",
              "      filter: drop-shadow(0px 1px 2px rgba(0, 0, 0, 0.3));\n",
              "      fill: #FFFFFF;\n",
              "    }\n",
              "  </style>\n",
              "\n",
              "      <script>\n",
              "        const buttonEl =\n",
              "          document.querySelector('#df-45e97859-524b-4a92-a921-7d4a3d628f80 button.colab-df-convert');\n",
              "        buttonEl.style.display =\n",
              "          google.colab.kernel.accessAllowed ? 'block' : 'none';\n",
              "\n",
              "        async function convertToInteractive(key) {\n",
              "          const element = document.querySelector('#df-45e97859-524b-4a92-a921-7d4a3d628f80');\n",
              "          const dataTable =\n",
              "            await google.colab.kernel.invokeFunction('convertToInteractive',\n",
              "                                                     [key], {});\n",
              "          if (!dataTable) return;\n",
              "\n",
              "          const docLinkHtml = 'Like what you see? Visit the ' +\n",
              "            '<a target=\"_blank\" href=https://colab.research.google.com/notebooks/data_table.ipynb>data table notebook</a>'\n",
              "            + ' to learn more about interactive tables.';\n",
              "          element.innerHTML = '';\n",
              "          dataTable['output_type'] = 'display_data';\n",
              "          await google.colab.output.renderOutput(dataTable, element);\n",
              "          const docLink = document.createElement('div');\n",
              "          docLink.innerHTML = docLinkHtml;\n",
              "          element.appendChild(docLink);\n",
              "        }\n",
              "      </script>\n",
              "    </div>\n",
              "  </div>\n",
              "  "
            ]
          },
          "metadata": {},
          "execution_count": 12
        }
      ]
    },
    {
      "cell_type": "code",
      "source": [
        "frames = [df2, df3]\n",
        "\n",
        "test2 = pd.concat(frames)"
      ],
      "metadata": {
        "id": "O8-FYf1OVldJ"
      },
      "execution_count": 13,
      "outputs": []
    },
    {
      "cell_type": "code",
      "source": [
        "test2.head()"
      ],
      "metadata": {
        "colab": {
          "base_uri": "https://localhost:8080/",
          "height": 206
        },
        "id": "yqa9aoFmVmU4",
        "outputId": "ec41f64d-3d8f-4efe-aaf4-259ab46bf99c"
      },
      "execution_count": 14,
      "outputs": [
        {
          "output_type": "execute_result",
          "data": {
            "text/plain": [
              "                                            filename category\n",
              "0  /content/gdrive/MyDrive/dataset/COVID/covid (1...        1\n",
              "1  /content/gdrive/MyDrive/dataset/COVID/covid (1...        1\n",
              "2  /content/gdrive/MyDrive/dataset/COVID/covid-1.jpg        1\n",
              "3  /content/gdrive/MyDrive/dataset/COVID/covid (1...        1\n",
              "4  /content/gdrive/MyDrive/dataset/COVID/covid (1...        1"
            ],
            "text/html": [
              "\n",
              "  <div id=\"df-0c02c7c4-c8f5-4b08-8e96-888047215541\">\n",
              "    <div class=\"colab-df-container\">\n",
              "      <div>\n",
              "<style scoped>\n",
              "    .dataframe tbody tr th:only-of-type {\n",
              "        vertical-align: middle;\n",
              "    }\n",
              "\n",
              "    .dataframe tbody tr th {\n",
              "        vertical-align: top;\n",
              "    }\n",
              "\n",
              "    .dataframe thead th {\n",
              "        text-align: right;\n",
              "    }\n",
              "</style>\n",
              "<table border=\"1\" class=\"dataframe\">\n",
              "  <thead>\n",
              "    <tr style=\"text-align: right;\">\n",
              "      <th></th>\n",
              "      <th>filename</th>\n",
              "      <th>category</th>\n",
              "    </tr>\n",
              "  </thead>\n",
              "  <tbody>\n",
              "    <tr>\n",
              "      <th>0</th>\n",
              "      <td>/content/gdrive/MyDrive/dataset/COVID/covid (1...</td>\n",
              "      <td>1</td>\n",
              "    </tr>\n",
              "    <tr>\n",
              "      <th>1</th>\n",
              "      <td>/content/gdrive/MyDrive/dataset/COVID/covid (1...</td>\n",
              "      <td>1</td>\n",
              "    </tr>\n",
              "    <tr>\n",
              "      <th>2</th>\n",
              "      <td>/content/gdrive/MyDrive/dataset/COVID/covid-1.jpg</td>\n",
              "      <td>1</td>\n",
              "    </tr>\n",
              "    <tr>\n",
              "      <th>3</th>\n",
              "      <td>/content/gdrive/MyDrive/dataset/COVID/covid (1...</td>\n",
              "      <td>1</td>\n",
              "    </tr>\n",
              "    <tr>\n",
              "      <th>4</th>\n",
              "      <td>/content/gdrive/MyDrive/dataset/COVID/covid (1...</td>\n",
              "      <td>1</td>\n",
              "    </tr>\n",
              "  </tbody>\n",
              "</table>\n",
              "</div>\n",
              "      <button class=\"colab-df-convert\" onclick=\"convertToInteractive('df-0c02c7c4-c8f5-4b08-8e96-888047215541')\"\n",
              "              title=\"Convert this dataframe to an interactive table.\"\n",
              "              style=\"display:none;\">\n",
              "        \n",
              "  <svg xmlns=\"http://www.w3.org/2000/svg\" height=\"24px\"viewBox=\"0 0 24 24\"\n",
              "       width=\"24px\">\n",
              "    <path d=\"M0 0h24v24H0V0z\" fill=\"none\"/>\n",
              "    <path d=\"M18.56 5.44l.94 2.06.94-2.06 2.06-.94-2.06-.94-.94-2.06-.94 2.06-2.06.94zm-11 1L8.5 8.5l.94-2.06 2.06-.94-2.06-.94L8.5 2.5l-.94 2.06-2.06.94zm10 10l.94 2.06.94-2.06 2.06-.94-2.06-.94-.94-2.06-.94 2.06-2.06.94z\"/><path d=\"M17.41 7.96l-1.37-1.37c-.4-.4-.92-.59-1.43-.59-.52 0-1.04.2-1.43.59L10.3 9.45l-7.72 7.72c-.78.78-.78 2.05 0 2.83L4 21.41c.39.39.9.59 1.41.59.51 0 1.02-.2 1.41-.59l7.78-7.78 2.81-2.81c.8-.78.8-2.07 0-2.86zM5.41 20L4 18.59l7.72-7.72 1.47 1.35L5.41 20z\"/>\n",
              "  </svg>\n",
              "      </button>\n",
              "      \n",
              "  <style>\n",
              "    .colab-df-container {\n",
              "      display:flex;\n",
              "      flex-wrap:wrap;\n",
              "      gap: 12px;\n",
              "    }\n",
              "\n",
              "    .colab-df-convert {\n",
              "      background-color: #E8F0FE;\n",
              "      border: none;\n",
              "      border-radius: 50%;\n",
              "      cursor: pointer;\n",
              "      display: none;\n",
              "      fill: #1967D2;\n",
              "      height: 32px;\n",
              "      padding: 0 0 0 0;\n",
              "      width: 32px;\n",
              "    }\n",
              "\n",
              "    .colab-df-convert:hover {\n",
              "      background-color: #E2EBFA;\n",
              "      box-shadow: 0px 1px 2px rgba(60, 64, 67, 0.3), 0px 1px 3px 1px rgba(60, 64, 67, 0.15);\n",
              "      fill: #174EA6;\n",
              "    }\n",
              "\n",
              "    [theme=dark] .colab-df-convert {\n",
              "      background-color: #3B4455;\n",
              "      fill: #D2E3FC;\n",
              "    }\n",
              "\n",
              "    [theme=dark] .colab-df-convert:hover {\n",
              "      background-color: #434B5C;\n",
              "      box-shadow: 0px 1px 3px 1px rgba(0, 0, 0, 0.15);\n",
              "      filter: drop-shadow(0px 1px 2px rgba(0, 0, 0, 0.3));\n",
              "      fill: #FFFFFF;\n",
              "    }\n",
              "  </style>\n",
              "\n",
              "      <script>\n",
              "        const buttonEl =\n",
              "          document.querySelector('#df-0c02c7c4-c8f5-4b08-8e96-888047215541 button.colab-df-convert');\n",
              "        buttonEl.style.display =\n",
              "          google.colab.kernel.accessAllowed ? 'block' : 'none';\n",
              "\n",
              "        async function convertToInteractive(key) {\n",
              "          const element = document.querySelector('#df-0c02c7c4-c8f5-4b08-8e96-888047215541');\n",
              "          const dataTable =\n",
              "            await google.colab.kernel.invokeFunction('convertToInteractive',\n",
              "                                                     [key], {});\n",
              "          if (!dataTable) return;\n",
              "\n",
              "          const docLinkHtml = 'Like what you see? Visit the ' +\n",
              "            '<a target=\"_blank\" href=https://colab.research.google.com/notebooks/data_table.ipynb>data table notebook</a>'\n",
              "            + ' to learn more about interactive tables.';\n",
              "          element.innerHTML = '';\n",
              "          dataTable['output_type'] = 'display_data';\n",
              "          await google.colab.output.renderOutput(dataTable, element);\n",
              "          const docLink = document.createElement('div');\n",
              "          docLink.innerHTML = docLinkHtml;\n",
              "          element.appendChild(docLink);\n",
              "        }\n",
              "      </script>\n",
              "    </div>\n",
              "  </div>\n",
              "  "
            ]
          },
          "metadata": {},
          "execution_count": 14
        }
      ]
    },
    {
      "cell_type": "code",
      "source": [
        "plt.figure(figsize=(12,3))\n",
        "splot = sns.countplot(data = test2.sort_values(by='category'), y ='category', palette='cool', saturation=0.9)\n",
        "plt.bar_label(container=splot.containers[0], \n",
        "              labels=['Normal', 'COVID'], \n",
        "              label_type='center', size=15, color='w')\n",
        "plt.show()"
      ],
      "metadata": {
        "colab": {
          "base_uri": "https://localhost:8080/",
          "height": 271
        },
        "id": "2FeeVwyloHyB",
        "outputId": "c83152fa-43fb-45ca-de70-31f7231d4373"
      },
      "execution_count": 15,
      "outputs": [
        {
          "output_type": "display_data",
          "data": {
            "text/plain": [
              "<Figure size 1200x300 with 1 Axes>"
            ],
            "image/png": "[encoded data removed]"
          },
          "metadata": {}
        }
      ]
    },
    {
      "cell_type": "code",
      "source": [
        "valid_data_gen = ImageDataGenerator(rescale=1./255)\n",
        "\n",
        "test2_generator = valid_data_gen.flow_from_dataframe(\n",
        "    test2, \n",
        "    x_col='filename',\n",
        "    y_col='category',\n",
        "    target_size=(224,224),\n",
        "    class_mode='categorical',\n",
        "    batch_size=15\n",
        ")"
      ],
      "metadata": {
        "colab": {
          "base_uri": "https://localhost:8080/"
        },
        "id": "JTQvCjTloH0j",
        "outputId": "4918a7eb-5edc-435c-ae6c-ff674af06071"
      },
      "execution_count": 16,
      "outputs": [
        {
          "output_type": "stream",
          "name": "stdout",
          "text": [
            "Found 98 validated image filenames belonging to 2 classes.\n"
          ]
        }
      ]
    },
    {
      "cell_type": "markdown",
      "source": [
        "## Classification Confusion Matrix"
      ],
      "metadata": {
        "id": "rK4ERMczV5OB"
      }
    },
    {
      "cell_type": "code",
      "source": [
        "model = tf.keras.models.load_model('/content/gdrive/MyDrive/ResNet50/ResNet50_11042023Sec.h5')"
      ],
      "metadata": {
        "id": "qm7zBayaV0Am"
      },
      "execution_count": 6,
      "outputs": []
    },
    {
      "cell_type": "code",
      "source": [
        "# predict classes of validation dataset\n",
        "test_predict = model.predict(test2_generator)"
      ],
      "metadata": {
        "colab": {
          "base_uri": "https://localhost:8080/"
        },
        "id": "ZFCvtw4mV0Ep",
        "outputId": "972fb4f2-27a4-4a1c-f16b-f94b7fc7f621"
      },
      "execution_count": 17,
      "outputs": [
        {
          "output_type": "stream",
          "name": "stdout",
          "text": [
            "7/7 [==============================] - 26s 3s/step\n"
          ]
        }
      ]
    },
    {
      "cell_type": "code",
      "source": [
        "predict_class = np.argmax(test_predict, axis=1)\n",
        "predict_class = predict_class.tolist()"
      ],
      "metadata": {
        "id": "6JdoPDQ6V0L6"
      },
      "execution_count": 18,
      "outputs": []
    },
    {
      "cell_type": "code",
      "source": [
        "labels = ['COVID', 'Normal']\n",
        "report = classification_report(test2_generator.classes, predict_class, target_names=labels)\n",
        "print(report)"
      ],
      "metadata": {
        "colab": {
          "base_uri": "https://localhost:8080/"
        },
        "id": "DtbqEBLJV0ON",
        "outputId": "14250ff6-f476-47ed-e6fa-ab15bbb5960a"
      },
      "execution_count": 21,
      "outputs": [
        {
          "output_type": "stream",
          "name": "stdout",
          "text": [
            "              precision    recall  f1-score   support\n",
            "\n",
            "       COVID       0.34      0.64      0.44        28\n",
            "      Normal       0.78      0.50      0.61        70\n",
            "\n",
            "    accuracy                           0.54        98\n",
            "   macro avg       0.56      0.57      0.53        98\n",
            "weighted avg       0.65      0.54      0.56        98\n",
            "\n"
          ]
        }
      ]
    },
    {
      "cell_type": "code",
      "source": [
        "cm = confusion_matrix(test2_generator.classes, predict_class)\n",
        "cm_df = pd.DataFrame(cm,\n",
        "                     index = ['COVID','NORMAL'], \n",
        "                     columns = ['COVID','NORMAL'])"
      ],
      "metadata": {
        "id": "1BnOBz0XV0UH"
      },
      "execution_count": 22,
      "outputs": []
    },
    {
      "cell_type": "code",
      "source": [
        "plt.figure(figsize=(8,6))\n",
        "sns.heatmap(cm_df, annot=True, fmt='d')\n",
        "plt.title(\"Confusion Matrixx\")\n",
        "plt.xlabel(\"Predicted\")\n",
        "plt.ylabel(\"Actual\")\n",
        "plt.show()"
      ],
      "metadata": {
        "colab": {
          "base_uri": "https://localhost:8080/",
          "height": 564
        },
        "id": "Io2YB3Z7V0W8",
        "outputId": "ff7b85bd-0968-4324-e1d2-ef75384065e6"
      },
      "execution_count": 23,
      "outputs": [
        {
          "output_type": "display_data",
          "data": {
            "text/plain": [
              "<Figure size 800x600 with 2 Axes>"
            ],
            "image/png": "[encoded data removed]"
          },
          "metadata": {}
        }
      ]
    },
    {
      "cell_type": "code",
      "source": [],
      "metadata": {
        "id": "DXX5gsmpV0ZE"
      },
      "execution_count": null,
      "outputs": []
    },
    {
      "cell_type": "code",
      "source": [],
      "metadata": {
        "id": "2jlbu5j5V0ar"
      },
      "execution_count": null,
      "outputs": []
    },
    {
      "cell_type": "code",
      "source": [],
      "metadata": {
        "id": "c1ak5ewIV0cq"
      },
      "execution_count": null,
      "outputs": []
    },
    {
      "cell_type": "code",
      "source": [],
      "metadata": {
        "id": "noo4ToanV0jY"
      },
      "execution_count": null,
      "outputs": []
    },
    {
      "cell_type": "code",
      "source": [],
      "metadata": {
        "id": "6AAWhGhqV0nb"
      },
      "execution_count": null,
      "outputs": []
    },
    {
      "cell_type": "code",
      "source": [],
      "metadata": {
        "id": "qsrMtmLBV0pQ"
      },
      "execution_count": null,
      "outputs": []
    },
    {
      "cell_type": "code",
      "source": [],
      "metadata": {
        "id": "5ZP1SBYoV0rv"
      },
      "execution_count": null,
      "outputs": []
    },
    {
      "cell_type": "code",
      "source": [],
      "metadata": {
        "id": "kFfZsJFlV0u4"
      },
      "execution_count": null,
      "outputs": []
    },
    {
      "cell_type": "code",
      "source": [],
      "metadata": {
        "id": "nWpDauHSV0xu"
      },
      "execution_count": null,
      "outputs": []
    },
    {
      "cell_type": "code",
      "source": [],
      "metadata": {
        "id": "XYw__-EGV0y0"
      },
      "execution_count": null,
      "outputs": []
    },
    {
      "cell_type": "code",
      "source": [],
      "metadata": {
        "id": "Vxn_d4ttV04x"
      },
      "execution_count": null,
      "outputs": []
    },
    {
      "cell_type": "code",
      "source": [],
      "metadata": {
        "id": "5XWNMeU_V07H"
      },
      "execution_count": null,
      "outputs": []
    }
  ],
  "metadata": {
    "accelerator": "GPU",
    "colab": {
      "provenance": [],
      "machine_shape": "hm"
    },
    "gpuClass": "standard",
    "kernelspec": {
      "display_name": "Python 3 (ipykernel)",
      "language": "python",
      "name": "python3"
    },
    "language_info": {
      "codemirror_mode": {
        "name": "ipython",
        "version": 3
      },
      "file_extension": ".py",
      "mimetype": "text/x-python",
      "name": "python",
      "nbconvert_exporter": "python",
      "pygments_lexer": "ipython3",
      "version": "3.9.7"
    }
  },
  "nbformat": 4,
  "nbformat_minor": 0
}